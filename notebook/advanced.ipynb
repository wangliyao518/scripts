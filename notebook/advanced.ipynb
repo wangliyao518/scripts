{
 "cells": [
  {
   "cell_type": "markdown",
   "metadata": {
    "slideshow": {
     "slide_type": "slide"
    }
   },
   "source": [
    "# Python Advanced\n",
    "\n",
    "![python](https://upload.wikimedia.org/wikipedia/commons/c/c3/Python-logo-notext.svg)"
   ]
  },
  {
   "cell_type": "markdown",
   "metadata": {
    "slideshow": {
     "slide_type": "slide"
    }
   },
   "source": [
    "## generator"
   ]
  },
  {
   "cell_type": "markdown",
   "metadata": {
    "slideshow": {
     "slide_type": "subslide"
    }
   },
   "source": [
    "### description\n",
    "* Generator functions allow you to declare a function that behaves like an iterator, i.e. it can be used in a for loop."
   ]
  },
  {
   "cell_type": "code",
   "execution_count": null,
   "metadata": {
    "code_folding": [],
    "slideshow": {
     "slide_type": "fragment"
    }
   },
   "outputs": [],
   "source": [
    "#Toggle line numbers\n",
    "# Build and return a list\n",
    "#from guppy import hpy\n",
    "import psutil\n",
    "import os\n",
    "def firstn(n):\n",
    "    num, nums = 0, []\n",
    "    while num < n:\n",
    "        nums.append(num)\n",
    "        num += 1\n",
    "    return nums\n",
    "sum_of_first_n = sum(firstn(1000000))\n",
    "# info = psutil.virtual_memory()\n",
    "# #print u'内存使用：',psutil.Process(os.getpid()).memory_info().rss\n",
    "# print u'总内存：',info.total\n",
    "# print u'内存占比：',info.percent\n",
    "# print u'cpu：',psutil.cpu_count()#"
   ]
  },
  {
   "cell_type": "markdown",
   "metadata": {
    "slideshow": {
     "slide_type": "subslide"
    }
   },
   "source": [
    "### refactor with generator\n",
    "* we resort to the generator pattern. The following implements generator as an iterable object."
   ]
  },
  {
   "cell_type": "code",
   "execution_count": null,
   "metadata": {
    "slideshow": {
     "slide_type": "subslide"
    }
   },
   "outputs": [],
   "source": [
    "# Using the generator pattern (an iterable)\n",
    "class firstn(object):\n",
    "    def __init__(self, n):\n",
    "        self.n = n\n",
    "        self.num, self.nums = 0, []\n",
    "\n",
    "    def __iter__(self):\n",
    "        return self\n",
    "\n",
    "    def __next__(self):\n",
    "        return self.next()\n",
    "\n",
    "    def next(self):\n",
    "        if self.num < self.n:\n",
    "            cur, self.num = self.num, self.num+1\n",
    "            return cur\n",
    "        else:\n",
    "            raise StopIteration()\n",
    "#sum_of_first_n = sum(firstn(1000000))\n",
    "#print sum_of_first_n\n",
    "#num = firstn(5)\n",
    "# print next(num)\n",
    "# print next(num)\n",
    "# print next(num)\n",
    "# print next(num)\n",
    "# print next(num)"
   ]
  },
  {
   "cell_type": "code",
   "execution_count": null,
   "metadata": {
    "slideshow": {
     "slide_type": "subslide"
    }
   },
   "outputs": [],
   "source": [
    "# a generator that yields items instead of returning a list\n",
    "def firstn(n):\n",
    "    num = 0\n",
    "    while num < n:\n",
    "        yield num\n",
    "        num += 1\n",
    "sum_of_first_n = sum(firstn(1000000))\n",
    "print sum_of_first_n\n",
    "# num = firstn(5)\n",
    "# print next(num)\n",
    "# print next(num)\n",
    "# print next(num)\n",
    "# print next(num)\n",
    "# print next(num)"
   ]
  },
  {
   "cell_type": "markdown",
   "metadata": {
    "slideshow": {
     "slide_type": "subslide"
    }
   },
   "source": [
    "### Generator expressions \n",
    "* Generator expressions provide an additional shortcut to build generators out of expressions similar to that of list comprehensions.\n",
    "\n",
    "* In fact, we can turn a list comprehension into a generator expression by replacing the square brackets (\"[ ]\") with parentheses. Alternately, we can think of list comprehensions as generator expressions wrapped in a list constructor. "
   ]
  },
  {
   "cell_type": "code",
   "execution_count": null,
   "metadata": {
    "slideshow": {
     "slide_type": "fragment"
    }
   },
   "outputs": [],
   "source": [
    "doubles_list = [2 * n for n in range(50)]\n",
    "print '----', doubles_list\n",
    "\n",
    "doubles_generator = (2 * n for n in range(50))\n",
    "print '++++', doubles_generator"
   ]
  },
  {
   "cell_type": "markdown",
   "metadata": {
    "slideshow": {
     "slide_type": "subslide"
    }
   },
   "source": [
    "### range vs xrange\n",
    "\n",
    "The performance improvement from the use of generators is the result of the lazy (on demand) generation of values, which translates to lower memory usage. Furthermore, we do not need to wait until all the elements have been generated before we start to use them. This is similar to the benefits provided by iterators, but the generator makes building iterators easy.\n"
   ]
  },
  {
   "cell_type": "code",
   "execution_count": null,
   "metadata": {
    "slideshow": {
     "slide_type": "fragment"
    }
   },
   "outputs": [],
   "source": [
    "sum_of_first_n = sum(range(1000000))\n",
    "\n",
    "sum_of_first_m = sum(xrange(1000000))"
   ]
  },
  {
   "cell_type": "markdown",
   "metadata": {
    "slideshow": {
     "slide_type": "subslide"
    }
   },
   "source": [
    "### iter function"
   ]
  },
  {
   "cell_type": "code",
   "execution_count": null,
   "metadata": {
    "slideshow": {
     "slide_type": "subslide"
    }
   },
   "outputs": [],
   "source": [
    "my_string = \"hello, world\"\n",
    "my_iter = iter(my_string)\n",
    "print next(my_iter)\n",
    "print next(my_iter)\n",
    "\n",
    "my_list = [1, 2, 3, 4]\n",
    "try:\n",
    "    next(my_list)\n",
    "except Exception, e:\n",
    "    print 'exception:', e\n",
    "my_iter = iter(my_list)\n",
    "next(my_iter)\n"
   ]
  },
  {
   "cell_type": "markdown",
   "metadata": {
    "slideshow": {
     "slide_type": "subslide"
    }
   },
   "source": [
    "### practice"
   ]
  },
  {
   "cell_type": "markdown",
   "metadata": {
    "slideshow": {
     "slide_type": "fragment"
    }
   },
   "source": [
    "- implement fabonacci sequence with generators"
   ]
  },
  {
   "cell_type": "code",
   "execution_count": null,
   "metadata": {
    "slideshow": {
     "slide_type": "subslide"
    }
   },
   "outputs": [],
   "source": [
    "# General implementation \n",
    "def fibon(n):\n",
    "    a = b = 1\n",
    "    result = []\n",
    "    for i in range(n):\n",
    "        result.append(a)\n",
    "        a, b = b, a + b\n",
    "    return result\n",
    "for x in fibon(10):\n",
    "    print(x)"
   ]
  },
  {
   "cell_type": "code",
   "execution_count": null,
   "metadata": {
    "slideshow": {
     "slide_type": "subslide"
    }
   },
   "outputs": [],
   "source": [
    "# generator version\n",
    "def fibon(n):\n",
    "    a = b = 1\n",
    "    for i in range(n):\n",
    "        yield a\n",
    "        a, b = b, a + b\n",
    "for x in fibon(10):\n",
    "    print(x)"
   ]
  },
  {
   "cell_type": "markdown",
   "metadata": {
    "slideshow": {
     "slide_type": "slide"
    }
   },
   "source": [
    "## contextmanager"
   ]
  },
  {
   "cell_type": "markdown",
   "metadata": {
    "slideshow": {
     "slide_type": "subslide"
    }
   },
   "source": [
    "### introduction"
   ]
  },
  {
   "cell_type": "markdown",
   "metadata": {
    "slideshow": {
     "slide_type": "fragment"
    }
   },
   "source": [
    "- What is a context manager? The context manager allows you to automatically start and end something. For example, you might want to open a file, write something, and close it. This is perhaps the most classic example of a context manager. In fact, Python automatically creates a context manager for you when you open a file using the with statement.\n",
    "\n",
    "- from Python 2.5 adds a very special keyword, \"with.\" With statements allow developers to create context managers"
   ]
  },
  {
   "cell_type": "code",
   "execution_count": null,
   "metadata": {
    "slideshow": {
     "slide_type": "subslide"
    }
   },
   "outputs": [],
   "source": [
    "# old way before python2.5\n",
    "f_obj = open(\"test/test.txt\",\"w\")\n",
    "try:\n",
    "    f_obj.write(\"hello\")\n",
    "finally:\n",
    "    f_obj.close()"
   ]
  },
  {
   "cell_type": "code",
   "execution_count": null,
   "metadata": {
    "slideshow": {
     "slide_type": "subslide"
    }
   },
   "outputs": [],
   "source": [
    "# use context manager\n",
    "with open(\"test/test.txt\",\"w\") as f_obj:\n",
    "    f_obj.write(\"hello\")"
   ]
  },
  {
   "cell_type": "markdown",
   "metadata": {
    "slideshow": {
     "slide_type": "subslide"
    }
   },
   "source": [
    "### create context manager"
   ]
  },
  {
   "cell_type": "markdown",
   "metadata": {
    "slideshow": {
     "slide_type": "subslide"
    }
   },
   "source": [
    "#### use __enter__ and __exit__"
   ]
  },
  {
   "cell_type": "code",
   "execution_count": null,
   "metadata": {
    "slideshow": {
     "slide_type": "subslide"
    }
   },
   "outputs": [],
   "source": [
    "import sqlite3\n",
    "\n",
    "class DataConn:\n",
    "    def __init__(self,db_name):\n",
    "        self.db_name = db_name\n",
    "\n",
    "    def __enter__(self):\n",
    "        self.conn = sqlite3.connect(self.db_name)\n",
    "        return self.conn\n",
    "\n",
    "    def __exit__(self,exc_type,exc_val,exc_tb):\n",
    "        self.conn.close()\n",
    "        if exc_val:\n",
    "            raise\n",
    "\n",
    "if __name__ == \"__main__\":\n",
    "    db = \"test.db\"\n",
    "    with DataConn(db) as conn:\n",
    "        cursor = conn.cursor()"
   ]
  },
  {
   "cell_type": "markdown",
   "metadata": {
    "slideshow": {
     "slide_type": "subslide"
    }
   },
   "source": [
    "#### use contextlib"
   ]
  },
  {
   "cell_type": "code",
   "execution_count": null,
   "metadata": {
    "slideshow": {
     "slide_type": "subslide"
    }
   },
   "outputs": [],
   "source": [
    "from contextlib import contextmanager\n",
    "\n",
    "@contextmanager\n",
    "def file_open(path):\n",
    "    try:\n",
    "        f_obj = open(path,\"w\")\n",
    "        yield f_obj\n",
    "    except OSError:\n",
    "        print(\"We had an error!\")\n",
    "    finally:\n",
    "        print(\"Closing file\")\n",
    "        f_obj.close()\n",
    "\n",
    "with file_open(\"test.txt\") as fobj:\n",
    "    fobj.write(\"Testing context managers\")"
   ]
  },
  {
   "cell_type": "markdown",
   "metadata": {
    "slideshow": {
     "slide_type": "subslide"
    }
   },
   "source": [
    "#### contextlib.closing"
   ]
  },
  {
   "cell_type": "code",
   "execution_count": null,
   "metadata": {},
   "outputs": [],
   "source": [
    "# python org demo\n",
    "from contextlib import contextmanager\n",
    "@contextmanager\n",
    "def closing(db):\n",
    "    try:\n",
    "        yield db.conn()\n",
    "    finally:\n",
    "        db.close()"
   ]
  },
  {
   "cell_type": "code",
   "execution_count": null,
   "metadata": {
    "slideshow": {
     "slide_type": "subslide"
    }
   },
   "outputs": [],
   "source": [
    "from contextlib import closing\n",
    "from urllib import urlopen\n",
    "with closing(urlopen(\"http://www.baidu.com\")) as webpage:\n",
    "    for line in webpage:\n",
    "        print '-----', line"
   ]
  },
  {
   "cell_type": "markdown",
   "metadata": {
    "slideshow": {
     "slide_type": "subslide"
    }
   },
   "source": [
    "#### note\n",
    "- Most of the context managers you create can only be used once in the with statement"
   ]
  },
  {
   "cell_type": "code",
   "execution_count": null,
   "metadata": {
    "slideshow": {
     "slide_type": "fragment"
    }
   },
   "outputs": [],
   "source": [
    "from contextlib import contextmanager\n",
    "@contextmanager\n",
    "def single():\n",
    "    print(\"Yielding\")\n",
    "    yield\n",
    "    print(\"Exiting context manager\")\n",
    "\n",
    "context = single()\n",
    "with context:\n",
    "    pass\n",
    "\n",
    "# with context:\n",
    "#     pass\n"
   ]
  },
  {
   "cell_type": "markdown",
   "metadata": {
    "slideshow": {
     "slide_type": "subslide"
    }
   },
   "source": [
    "#### practice\n",
    "- The generator can perform an assembly line operation for a series of operations.\n",
    "Let's say we have a fast food chain journal.The fourth column in the log is the number of pizzas sold per hour, which we want to sum over the last five years.\n",
    "Assume that all data is characters and that the data that is not available is represented as \"N/A\", as you can do with the generator\n",
    "\n",
    "generator可以对一系列操作执行流水线操作。\n",
    "\n",
    "假设我们有一个快餐连锁店的日志。日志的第四列是每小时售出的披萨数量，我们想对近5年的这一数据进行求和。\n",
    "\n",
    "假设所有数据都是字符，不可用的数据都以\"N/A\"表示，使用generator可以这样实现"
   ]
  },
  {
   "cell_type": "code",
   "execution_count": null,
   "metadata": {
    "slideshow": {
     "slide_type": "subslide"
    }
   },
   "outputs": [],
   "source": [
    "# answer\n",
    "with open('sells.log') as file:  \n",
    "    pizza_col = (line[3] for line in file)  \n",
    "    per_hour = (int(x) for x in pizza_col if x != 'N/A')  \n",
    "    print(\"Total pizzas sold = \",sum(per_hour))  "
   ]
  },
  {
   "cell_type": "markdown",
   "metadata": {
    "slideshow": {
     "slide_type": "slide"
    }
   },
   "source": [
    "## Unit test and TDD"
   ]
  },
  {
   "cell_type": "markdown",
   "metadata": {
    "slideshow": {
     "slide_type": "subslide"
    }
   },
   "source": [
    "![learning curve](//ifconfiger.com/media/programming_language_learning_curves_python.png?fileid=a9e2ae2d1a3c8d837beee6ee478df9d96592fdcb22837d72ff18e5be1c23bc48)"
   ]
  },
  {
   "cell_type": "markdown",
   "metadata": {
    "slideshow": {
     "slide_type": "subslide"
    }
   },
   "source": []
  },
  {
   "cell_type": "code",
   "execution_count": 20,
   "metadata": {
    "slideshow": {
     "slide_type": "subslide"
    }
   },
   "outputs": [
    {
     "name": "stderr",
     "output_type": "stream",
     "text": [
      ".\n",
      "----------------------------------------------------------------------\n",
      "Ran 1 test in 0.003s\n",
      "\n",
      "OK\n"
     ]
    },
    {
     "data": {
      "text/plain": [
       "<unittest.runner.TextTestResult run=1 errors=0 failures=0>"
      ]
     },
     "execution_count": 20,
     "metadata": {},
     "output_type": "execute_result"
    }
   ],
   "source": [
    "class NameIsProtected(Exception):\n",
    "    \"\"\"Exception raised when key is tried to be overridden.\"\"\"\n",
    "\n",
    "def my_fun(name=\"\"):\n",
    "    if name == \"__init__\":\n",
    "        raise NameIsProtected\n",
    "    else:\n",
    "        return name.upper()\n",
    "\n",
    "import unittest\n",
    "from mock import Mock\n",
    "\n",
    "\n",
    "class Test_1(unittest.TestCase):\n",
    "    def test_01(self):\n",
    "        try:\n",
    "            my_fun('__init__')\n",
    "        except NameIsProtected:\n",
    "            self.assertTrue(True)\n",
    "        else:\n",
    "            self.assertTrue(False)\n",
    "        \n",
    "suite = unittest.TestLoader().loadTestsFromTestCase(Test_1)\n",
    "unittest.TextTestRunner().run(suite)"
   ]
  },
  {
   "cell_type": "code",
   "execution_count": 21,
   "metadata": {
    "slideshow": {
     "slide_type": "subslide"
    }
   },
   "outputs": [
    {
     "name": "stderr",
     "output_type": "stream",
     "text": [
      "..\n",
      "----------------------------------------------------------------------\n",
      "Ran 2 tests in 0.007s\n",
      "\n",
      "OK\n"
     ]
    },
    {
     "data": {
      "text/plain": [
       "<unittest.runner.TextTestResult run=2 errors=0 failures=0>"
      ]
     },
     "execution_count": 21,
     "metadata": {},
     "output_type": "execute_result"
    }
   ],
   "source": [
    "class Test_2(unittest.TestCase):\n",
    "\n",
    "    def test_02(self):\n",
    "        with self.assertRaises(NameIsProtected):\n",
    "            my_fun('__init__')\n",
    "\n",
    "    def test_03(self):\n",
    "        self.assertEqual(my_fun('hi'), 'HI')\n",
    "        \n",
    "suite = unittest.TestLoader().loadTestsFromTestCase(Test_2)\n",
    "unittest.TextTestRunner().run(suite)"
   ]
  },
  {
   "cell_type": "code",
   "execution_count": 27,
   "metadata": {},
   "outputs": [
    {
     "name": "stderr",
     "output_type": "stream",
     "text": [
      ".."
     ]
    },
    {
     "name": "stdout",
     "output_type": "stream",
     "text": [
      "self_function the except module\n",
      "self_function the except module\n"
     ]
    },
    {
     "name": "stderr",
     "output_type": "stream",
     "text": [
      "\n",
      "----------------------------------------------------------------------\n",
      "Ran 2 tests in 0.010s\n",
      "\n",
      "OK\n"
     ]
    },
    {
     "data": {
      "text/plain": [
       "<unittest.runner.TextTestResult run=2 errors=0 failures=0>"
      ]
     },
     "execution_count": 27,
     "metadata": {},
     "output_type": "execute_result"
    }
   ],
   "source": [
    "import os\n",
    " \n",
    "class classA():\n",
    " \n",
    "    def getnum(self):\n",
    "        return 0\n",
    " \n",
    " \n",
    "    def self_function(self):\n",
    "        try:\n",
    "            if self.getnum()==0:\n",
    "                print(\"self_function you are very good\")\n",
    "        except:\n",
    "            print(\"self_function the except module\")\n",
    "        else:\n",
    "            print(\"self_function the else module\")\n",
    "\n",
    "import unittest\n",
    "from mock import Mock, patch\n",
    "\n",
    "\n",
    "class Test_3(unittest.TestCase):\n",
    "    \n",
    "    @patch(\"__main__.classA.getnum\")\n",
    "    def test_03(self, mock_getnum):\n",
    "        mock_getnum.side_effect = IOError\n",
    "        classA().self_function()\n",
    "\n",
    "    def test_04(self):\n",
    "        classA.getnum = Mock(side_effect = IOError)\n",
    "        classA().self_function()\n",
    "        \n",
    "suite = unittest.TestLoader().loadTestsFromTestCase(Test_3)\n",
    "unittest.TextTestRunner().run(suite)"
   ]
  },
  {
   "cell_type": "code",
   "execution_count": 33,
   "metadata": {
    "code_folding": []
   },
   "outputs": [
    {
     "name": "stderr",
     "output_type": "stream",
     "text": [
      ".."
     ]
    },
    {
     "name": "stdout",
     "output_type": "stream",
     "text": [
      "test_python_function the except module\n",
      " test_python_function you are very good\n",
      "test_python_function the else module\n"
     ]
    },
    {
     "name": "stderr",
     "output_type": "stream",
     "text": [
      "\n",
      "----------------------------------------------------------------------\n",
      "Ran 2 tests in 0.006s\n",
      "\n",
      "OK\n"
     ]
    },
    {
     "data": {
      "text/plain": [
       "<unittest.runner.TextTestResult run=2 errors=0 failures=0>"
      ]
     },
     "execution_count": 33,
     "metadata": {},
     "output_type": "execute_result"
    }
   ],
   "source": [
    "# mock\n",
    "class classB():\n",
    "    def python_function(self,path):\n",
    "        try:\n",
    "            if  os.path.exists(path):\n",
    "                print(\" test_python_function you are very good\")\n",
    "        except:\n",
    "            print(\"test_python_function the except module\")\n",
    "        else:\n",
    "            print(\"test_python_function the else module\")\n",
    "\n",
    "class Test_4(unittest.TestCase):\n",
    "\n",
    "    @patch(\"os.path.exists\")\n",
    "    def test_001(self, mock_exists):\n",
    "        mock_exists.side_effect = IOError\n",
    "        classB().python_function(\"/you\")\n",
    "\n",
    "    @patch(\"os.path.exists\")\n",
    "    def test_002(self, mock_exists):\n",
    "        mock_exists.side_effect = lambda x: True\n",
    "        classB().python_function(\"/you\")\n",
    "\n",
    "suite = unittest.TestLoader().loadTestsFromTestCase(Test_4)\n",
    "unittest.TextTestRunner().run(suite)"
   ]
  },
  {
   "cell_type": "markdown",
   "metadata": {
    "slideshow": {
     "slide_type": "slide"
    }
   },
   "source": [
    "## setuptool,pip, vitualenv"
   ]
  },
  {
   "cell_type": "markdown",
   "metadata": {
    "slideshow": {
     "slide_type": "subslide"
    }
   },
   "source": [
    "### python project"
   ]
  },
  {
   "cell_type": "code",
   "execution_count": null,
   "metadata": {
    "slideshow": {
     "slide_type": "fragment"
    }
   },
   "outputs": [],
   "source": [
    "# setup.py example\n",
    "import re\n",
    "import sys\n",
    "import os\n",
    "from os.path import abspath, dirname, join\n",
    "from setuptools import setup, find_packages\n",
    "#from distutils.core import setup\n",
    "\n",
    "\n",
    "CURDIR = dirname(abspath(__file__))\n",
    "with open(join(CURDIR, 'requirements.cfg')) as f:\n",
    "    REQUIREMENTS = f.readlines()\n",
    "\n",
    "with open(join(CURDIR, 'README.md')) as f:\n",
    "    DESCRIPTION = f.read()\n",
    "\n",
    "CLASSIFIERS = '''\n",
    "Development Status :: 5 - Production/Stable\n",
    "License :: OSI Approved :: Apache Software License\n",
    "Operating System :: OS Independent\n",
    "Programming Language :: Python\n",
    "Programming Language :: Python :: 2.7\n",
    "Topic :: Software Development :: Testing\n",
    "Framework :: Robot Framework\n",
    "Framework :: Robot Framework :: Library\n",
    "'''.strip().splitlines()\n",
    "#[join('script', s) for s in os.listdir('script')]\n",
    "setup(\n",
    "    name='robot_*',\n",
    "    version='1.0.0',\n",
    "    description='robot package library.',\n",
    "    author='leo',\n",
    "    author_email='liyaowang518@gmali.com',\n",
    "    license='Apache License 2.0',\n",
    "    keywords='robot package library',\n",
    "    platforms='any',\n",
    "    classifiers=CLASSIFIERS,\n",
    "    setup_requires = REQUIREMENTS,\n",
    "    zip_safe=False,\n",
    "    packages=find_packages(),\n",
    "    include_package_data=True,\n",
    "    scripts=['script/my_*.py']\n",
    ")"
   ]
  },
  {
   "cell_type": "code",
   "execution_count": null,
   "metadata": {
    "slideshow": {
     "slide_type": "notes"
    }
   },
   "outputs": [],
   "source": [
    "➜  nbs git:(master) python setup.py --help-commands\n",
    "Standard commands:\n",
    "  build             build everything needed to install\n",
    "  build_py          \"build\" pure Python modules (copy to build directory)\n",
    "  build_ext         build C/C++ and Cython extensions (compile/link to build directory)\n",
    "  build_clib        build C/C++ libraries used by Python extensions\n",
    "  build_scripts     \"build\" scripts (copy and fixup #! line)\n",
    "  clean             clean up temporary files from 'build' command\n",
    "  install           install everything from build directory\n",
    "  install_lib       install all Python modules (extensions and pure Python)\n",
    "  install_headers   install C/C++ header files\n",
    "  install_scripts   install scripts (Python or otherwise)\n",
    "  install_data      install data files\n",
    "  sdist             create a source distribution (tarball, zip file, etc.)\n",
    "  register          register the distribution with the Python package index\n",
    "  bdist             create a built (binary) distribution\n",
    "  bdist_dumb        create a \"dumb\" built distribution\n",
    "  bdist_rpm         create an RPM distribution\n",
    "  bdist_wininst     create an executable installer for MS Windows\n",
    "  upload            upload binary package to PyPI\n",
    "  check             perform some checks on the package\n",
    "\n",
    "Extra commands:\n",
    "  saveopts          save supplied options to setup.cfg or other config file\n",
    "  testr             Run unit tests using testr\n",
    "  develop           install package in 'development mode'\n",
    "  upload_docs       Upload documentation to PyPI\n",
    "  isort             Run isort on modules registered in setuptools\n",
    "  test              run unit tests after in-place build\n",
    "  setopt            set an option in setup.cfg or another config file\n",
    "  nosetests         Run unit tests using nosetests\n",
    "  install_egg_info  Install an .egg-info directory for the package\n",
    "  rotate            delete older distributions, keeping N newest files\n",
    "  bdist_wheel       create a wheel distribution\n",
    "  egg_info          create a distribution's .egg-info directory\n",
    "  alias             define a shortcut to invoke one or more commands\n",
    "  easy_install      Find/get/install Python packages\n",
    "  bdist_egg         create an \"egg\" distribution\n",
    "\n",
    "usage: setup.py [global_opts] cmd1 [cmd1_opts] [cmd2 [cmd2_opts] ...]\n",
    "   or: setup.py --help [cmd1 cmd2 ...]\n",
    "   or: setup.py --help-commands\n",
    "   or: setup.py cmd --help"
   ]
  },
  {
   "cell_type": "markdown",
   "metadata": {
    "slideshow": {
     "slide_type": "subslide"
    }
   },
   "source": [
    "### pip"
   ]
  },
  {
   "cell_type": "markdown",
   "metadata": {
    "slideshow": {
     "slide_type": "subslide"
    }
   },
   "source": [
    "> pip --version\n",
    "\n",
    "> pip --help\n",
    "\n",
    "> pip install -U pip\n",
    "\n",
    "> pip install SomePackage              # 最新版本\n",
    ">\n",
    "> pip install SomePackage==1.0.4       # 指定版本\n",
    ">\n",
    "> pip install 'SomePackage>=1.0.4'     # 最小版本\n",
    "\n",
    "upgrade\n",
    "> pip install --upgrade SomePackage\n",
    "\n",
    "uninstall\n",
    "> pip uninstall SomePackage\n",
    "\n",
    "search\n",
    "> pip search SomePackage\n",
    "\n",
    "> pip show  # 显示安装包信息\n",
    "\n",
    "> pip show -f SomePackage        #查看指定包的详细信息\n",
    " \n",
    "> pip list                       #列出已安装的包\n",
    "> pip list -o                    #查看可升级的包\n"
   ]
  },
  {
   "cell_type": "markdown",
   "metadata": {
    "slideshow": {
     "slide_type": "subslide"
    }
   },
   "source": [
    "### vitualenv"
   ]
  },
  {
   "cell_type": "code",
   "execution_count": null,
   "metadata": {},
   "outputs": [],
   "source": []
  },
  {
   "cell_type": "markdown",
   "metadata": {
    "slideshow": {
     "slide_type": "subslide"
    }
   },
   "source": [
    "### pipenv"
   ]
  },
  {
   "cell_type": "markdown",
   "metadata": {
    "slideshow": {
     "slide_type": "subslide"
    }
   },
   "source": [
    "#### install\n",
    "> pip install pipenv"
   ]
  },
  {
   "cell_type": "markdown",
   "metadata": {
    "slideshow": {
     "slide_type": "subslide"
    }
   },
   "source": [
    "#### create new vitual project\n",
    "> cd project1\n",
    "\n",
    "> pipenv install"
   ]
  },
  {
   "cell_type": "markdown",
   "metadata": {
    "slideshow": {
     "slide_type": "notes"
    }
   },
   "source": [
    "pipenv install的时候有三种逻辑：\n",
    "\n",
    "如果目录下没有Pipfile和Pipfile.lock文件，表示创建一个新的虚拟环境；\n",
    "\n",
    "如果有，表示使用已有的Pipfile和Pipfile.lock文件中的配置创建一个虚拟环境；\n",
    "\n",
    "如果后面带诸如django这一类库名，表示为当前虚拟环境安装第三方库。\n"
   ]
  },
  {
   "cell_type": "markdown",
   "metadata": {
    "slideshow": {
     "slide_type": "subslide"
    }
   },
   "source": [
    "####  activate the vitual env\n",
    "> pipenv shell"
   ]
  },
  {
   "cell_type": "markdown",
   "metadata": {
    "slideshow": {
     "slide_type": "subslide"
    }
   },
   "source": [
    "#### deactivate the vitual env\n",
    "> exit"
   ]
  },
  {
   "cell_type": "markdown",
   "metadata": {
    "slideshow": {
     "slide_type": "subslide"
    }
   },
   "source": [
    "#### install and uninstall package\n",
    "> pipenv install gcp\n",
    "\n",
    "> pipenv uninstall gcp\n",
    "\n",
    "> pipenv install --dev django  # develop env"
   ]
  },
  {
   "cell_type": "markdown",
   "metadata": {
    "slideshow": {
     "slide_type": "subslide"
    }
   },
   "source": [
    "#### run\n",
    "> pipenv run python your_script.py"
   ]
  },
  {
   "cell_type": "code",
   "execution_count": null,
   "metadata": {
    "slideshow": {
     "slide_type": "subslide"
    }
   },
   "outputs": [],
   "source": [
    "$ pipenv\n",
    "Usage: pipenv [OPTIONS] COMMAND [ARGS]...\n",
    "\n",
    "Options:\n",
    "  --update         更新Pipenv & pip\n",
    "  --where          显示项目文件所在路径\n",
    "  --venv           显示虚拟环境实际文件所在路径\n",
    "  --py             显示虚拟环境Python解释器所在路径\n",
    "  --envs           显示虚拟环境的选项变量\n",
    "  --rm             删除虚拟环境\n",
    "  --bare           最小化输出\n",
    "  --completion     完整输出\n",
    "  --man            显示帮助页面\n",
    "  --three / --two  使用Python 3/2创建虚拟环境（注意本机已安装的Python版本）\n",
    "  --python TEXT    指定某个Python版本作为虚拟环境的安装源\n",
    "  --site-packages  附带安装原Python解释器中的第三方库\n",
    "  --jumbotron      不知道啥玩意....\n",
    "  --version        版本信息\n",
    "  -h, --help       帮助信息\n",
    "\n",
    "Commands:\n",
    "  check      检查安全漏洞\n",
    "  graph      显示当前依赖关系图信息\n",
    "  install    安装虚拟环境或者第三方库\n",
    "  lock       锁定并生成Pipfile.lock文件\n",
    "  open       在编辑器中查看一个库\n",
    "  run        在虚拟环境中运行命令\n",
    "  shell      进入虚拟环境\n",
    "  uninstall  卸载一个库\n",
    "  update     卸载当前所有的包，并安装它们的最新版本\n"
   ]
  },
  {
   "cell_type": "markdown",
   "metadata": {
    "slideshow": {
     "slide_type": "slide"
    }
   },
   "source": [
    "## big data analysis"
   ]
  },
  {
   "cell_type": "markdown",
   "metadata": {
    "slideshow": {
     "slide_type": "slide"
    }
   },
   "source": [
    "## machine learing"
   ]
  },
  {
   "cell_type": "markdown",
   "metadata": {
    "slideshow": {
     "slide_type": "slide"
    }
   },
   "source": [
    "## Socket"
   ]
  },
  {
   "cell_type": "markdown",
   "metadata": {
    "slideshow": {
     "slide_type": "subslide"
    }
   },
   "source": [
    "### Example: echo server"
   ]
  },
  {
   "cell_type": "code",
   "execution_count": null,
   "metadata": {
    "slideshow": {
     "slide_type": "subslide"
    }
   },
   "outputs": [],
   "source": [
    "# simplest version\n",
    "import socket\n",
    "\n",
    "sock = socket.socket(socket.AF_INET, socket.SOCK_STREAM)\n",
    "sock.setsockopt(socket.SOL_SOCKET, socket.SO_REUSEPORT, 1) # reuse port in multiple sockets\n",
    "sock.bind(('127.0.0.1', 50070))\n",
    "sock.listen(5)\n",
    "\n",
    "conn, addr = sock.accept()\n",
    "print 'Connected by', addr\n",
    "while True:\n",
    "    data = conn.recv(1024)\n",
    "    if not data: break\n",
    "    conn.send(data)\n",
    "conn.close()"
   ]
  },
  {
   "cell_type": "code",
   "execution_count": null,
   "metadata": {
    "slideshow": {
     "slide_type": "subslide"
    }
   },
   "outputs": [],
   "source": [
    "# multi threading\n",
    "import socket\n",
    "from thread import start_new_thread\n",
    "\n",
    "sock = socket.socket(socket.AF_INET, socket.SOCK_STREAM)\n",
    "sock.setsockopt(socket.SOL_SOCKET, socket.SO_REUSEPORT, 1) # reuse port in multiple sockets\n",
    "sock.bind(('127.0.0.1', 50070))\n",
    "sock.listen(5)\n",
    "\n",
    "def _handle_conn(conn):\n",
    "    while True:\n",
    "        data = conn.recv(1024)\n",
    "        if not data: break\n",
    "        conn.send(data)\n",
    "    conn.close()\n",
    "    \n",
    "while True:\n",
    "    conn, addr = sock.accept()\n",
    "    print 'Connected by', addr\n",
    "    start_new_thread(_handle_conn, (conn,))"
   ]
  },
  {
   "cell_type": "code",
   "execution_count": null,
   "metadata": {
    "slideshow": {
     "slide_type": "subslide"
    }
   },
   "outputs": [],
   "source": [
    "# asyncore\n",
    "import asyncore\n",
    "import socket\n",
    "\n",
    "class EchoHandler(asyncore.dispatcher_with_send):\n",
    "    def handle_read(self):\n",
    "        data = self.recv(8192)\n",
    "        if data:\n",
    "            self.send(data)\n",
    "\n",
    "class EchoServer(asyncore.dispatcher):\n",
    "    def __init__(self, host, port):\n",
    "        asyncore.dispatcher.__init__(self)\n",
    "        self.create_socket(socket.AF_INET, socket.SOCK_STREAM)\n",
    "        self.set_reuse_addr()\n",
    "        self.bind((host, port))\n",
    "        self.listen(5)\n",
    "\n",
    "    def handle_accept(self):\n",
    "        pair = self.accept()\n",
    "        if pair is not None:\n",
    "            sock, addr = pair\n",
    "            print 'Incoming connection from %s' % repr(addr)\n",
    "            handler = EchoHandler(sock)\n",
    "\n",
    "server = EchoServer('localhost', 50071)\n",
    "server2 = EchoServer('localhost', 50072)\n",
    "asyncore.loop()"
   ]
  },
  {
   "cell_type": "code",
   "execution_count": null,
   "metadata": {
    "slideshow": {
     "slide_type": "subslide"
    }
   },
   "outputs": [],
   "source": [
    "# gevent\n",
    "from gevent.server import StreamServer\n",
    "\n",
    "def echo(socket, address):\n",
    "    print('New connection from %s:%s' % address)\n",
    "    # using a makefile because we want to use readline()\n",
    "    with socket.makefile(mode='rb') as rfileobj:\n",
    "        while True:\n",
    "            line = rfileobj.readline()\n",
    "            if not line:\n",
    "                break\n",
    "            socket.sendall(line)\n",
    "    print('%s:%s disconnected' % address)\n",
    "\n",
    "server = StreamServer(('0.0.0.0', 50070), echo)\n",
    "server.serve_forever()"
   ]
  },
  {
   "cell_type": "markdown",
   "metadata": {
    "slideshow": {
     "slide_type": "slide"
    }
   },
   "source": [
    "## Multi Threading"
   ]
  },
  {
   "cell_type": "code",
   "execution_count": null,
   "metadata": {
    "slideshow": {
     "slide_type": "subslide"
    }
   },
   "outputs": [],
   "source": [
    "# thread\n",
    "import thread\n",
    "from time import sleep\n",
    "\n",
    "def sleep_echo(sleep_interval, msg):\n",
    "    sleep(sleep_interval)\n",
    "    print msg\n",
    "\n",
    "thread.start_new_thread(sleep_echo, (2, 'hello'))\n",
    "print 'world'"
   ]
  },
  {
   "cell_type": "code",
   "execution_count": null,
   "metadata": {
    "slideshow": {
     "slide_type": "subslide"
    }
   },
   "outputs": [],
   "source": [
    "# threading\n",
    "from threading import Thread\n",
    "from time import sleep\n",
    "\n",
    "class DelayEcho(Thread):\n",
    "    def __init__(self, interval, msg):\n",
    "        super(DelayEcho, self).__init__()\n",
    "        self.interval = interval\n",
    "        self.msg = msg\n",
    "        self.daemon = True\n",
    "        \n",
    "    def run(self):\n",
    "        sleep(self.interval)\n",
    "        print self.msg\n",
    "\n",
    "t = DelayEcho(2, 'hello')\n",
    "t.start()\n",
    "t.join()\n",
    "print 'world'"
   ]
  },
  {
   "cell_type": "code",
   "execution_count": null,
   "metadata": {
    "slideshow": {
     "slide_type": "subslide"
    }
   },
   "outputs": [],
   "source": [
    "# threading.Lock\n",
    "import threading\n",
    "from threading import Lock\n",
    "from threading import Thread\n",
    "\n",
    "resource_lock = Lock()\n",
    "\n",
    "def update_resource():\n",
    "    with resource_lock:\n",
    "        print threading.currentThread().name\n",
    "        \n",
    "threads = map(lambda x: Thread(target=update_resource), xrange(10))\n",
    "[t.start() for t in threads]\n",
    "[t.join() for t in threads]\n",
    "print 'main'"
   ]
  },
  {
   "cell_type": "code",
   "execution_count": null,
   "metadata": {
    "scrolled": true,
    "slideshow": {
     "slide_type": "subslide"
    }
   },
   "outputs": [],
   "source": [
    "# threading.local\n",
    "import threading\n",
    "from time import sleep\n",
    "\n",
    "_lock = threading.Lock()\n",
    "resource = threading.local()\n",
    "resource.name = 'default'\n",
    "\n",
    "def update_resource():\n",
    "    resource.name = threading.currentThread().name\n",
    "    sleep(1)\n",
    "    with _lock:\n",
    "        print resource.name # each thread as its one value\n",
    "\n",
    "threads = map(lambda x: Thread(target=update_resource), xrange(5))\n",
    "[t.start() for t in threads]\n",
    "[t.join() for t in threads]\n",
    "print resource.name"
   ]
  },
  {
   "cell_type": "code",
   "execution_count": null,
   "metadata": {
    "slideshow": {
     "slide_type": "subslide"
    }
   },
   "outputs": [],
   "source": [
    "# Queue\n",
    "from Queue import Queue\n",
    "from threading import Thread\n",
    "\n",
    "q = Queue()\n",
    "\n",
    "def setter(q, v):\n",
    "    q.put(v)\n",
    "\n",
    "def getter(q):\n",
    "    print q.get()\n",
    "    \n",
    "_setter = Thread(target=setter, args=(q, 1))\n",
    "_getter = Thread(target=getter, args=(q, ))\n",
    "_getter.start()\n",
    "_setter.start()\n",
    "_getter.join()\n",
    "_setter.join()"
   ]
  },
  {
   "cell_type": "code",
   "execution_count": null,
   "metadata": {
    "slideshow": {
     "slide_type": "subslide"
    }
   },
   "outputs": [],
   "source": [
    "from Queue import LifoQueue\n",
    "\n",
    "q = LifoQueue()\n",
    "q.put(1)\n",
    "q.put(2)\n",
    "print q.get()\n",
    "print q.get()"
   ]
  },
  {
   "cell_type": "code",
   "execution_count": null,
   "metadata": {
    "slideshow": {
     "slide_type": "subslide"
    }
   },
   "outputs": [],
   "source": [
    "from Queue import PriorityQueue\n",
    "\n",
    "q = PriorityQueue()\n",
    "q.put((1, 'a'))\n",
    "q.put((3, 'b'))\n",
    "q.put((2, 'c'))\n",
    "\n",
    "print q.get()\n",
    "print q.get()\n",
    "print q.get()"
   ]
  },
  {
   "cell_type": "markdown",
   "metadata": {
    "slideshow": {
     "slide_type": "subslide"
    }
   },
   "source": [
    "### Limitation of Thread"
   ]
  },
  {
   "cell_type": "markdown",
   "metadata": {
    "slideshow": {
     "slide_type": "fragment"
    }
   },
   "source": [
    "* No stop/interrupt\n",
    "* No multi-core support"
   ]
  },
  {
   "cell_type": "markdown",
   "metadata": {
    "collapsed": true,
    "slideshow": {
     "slide_type": "slide"
    }
   },
   "source": [
    "## Multi Processing"
   ]
  },
  {
   "cell_type": "code",
   "execution_count": null,
   "metadata": {
    "slideshow": {
     "slide_type": "subslide"
    }
   },
   "outputs": [],
   "source": [
    "# multiprocessing\n",
    "from multiprocessing import Process\n",
    "from time import sleep\n",
    "\n",
    "def delay_echo(interval, msg):\n",
    "    sleep(interval)\n",
    "    print msg\n",
    "    \n",
    "p = Process(target=delay_echo, args=(2, 'hello'))\n",
    "p.start()\n",
    "print 'world'\n",
    "p.join()"
   ]
  },
  {
   "cell_type": "code",
   "execution_count": null,
   "metadata": {
    "scrolled": true,
    "slideshow": {
     "slide_type": "subslide"
    }
   },
   "outputs": [],
   "source": [
    "# Pool\n",
    "import urllib\n",
    "from multiprocessing import Pool\n",
    "# from multiprocessing.dummy import Pool\n",
    "from time import sleep\n",
    "\n",
    "urls = ['http://www.google.com',\n",
    "        'http://www.facebook.com',\n",
    "        'http://www.baidu.com']\n",
    "\n",
    "def fetch_content(url):\n",
    "    sleep(1)\n",
    "    print url\n",
    "    print len(urllib.urlopen(url).read())\n",
    "    \n",
    "pool = Pool()\n",
    "pool.map(fetch_content, urls)\n",
    "pool.close()\n",
    "pool.join()"
   ]
  },
  {
   "cell_type": "code",
   "execution_count": null,
   "metadata": {
    "slideshow": {
     "slide_type": "subslide"
    }
   },
   "outputs": [],
   "source": [
    "# Queue\n",
    "from multiprocessing import Queue\n",
    "# Lock\n",
    "from multiprocessing import Lock"
   ]
  },
  {
   "cell_type": "markdown",
   "metadata": {
    "slideshow": {
     "slide_type": "slide"
    }
   },
   "source": [
    "## Coroutine"
   ]
  },
  {
   "cell_type": "code",
   "execution_count": null,
   "metadata": {
    "slideshow": {
     "slide_type": "subslide"
    }
   },
   "outputs": [],
   "source": [
    "# yield\n",
    "def fibonacci():\n",
    "    a, b = 1, 1\n",
    "    yield a\n",
    "    yield b\n",
    "    while True:\n",
    "        a, b = b, a+b\n",
    "        yield b\n",
    "\n",
    "fib = fibonacci()\n",
    "for _ in xrange(20):\n",
    "    print fib.next()"
   ]
  },
  {
   "cell_type": "code",
   "execution_count": null,
   "metadata": {
    "slideshow": {
     "slide_type": "subslide"
    }
   },
   "outputs": [],
   "source": [
    "# yield send\n",
    "def puzzle_game():\n",
    "    while True:\n",
    "        answer = (yield 'type a word: ')\n",
    "        if answer == 'harry':\n",
    "            yield 'you got it'\n",
    "        else:\n",
    "            yield 'try again'\n",
    "            \n",
    "game = puzzle_game()\n",
    "game.next()\n",
    "game.send('jerry')\n",
    "game.next()\n",
    "game.send('harry')"
   ]
  },
  {
   "cell_type": "code",
   "execution_count": null,
   "metadata": {
    "slideshow": {
     "slide_type": "subslide"
    }
   },
   "outputs": [],
   "source": [
    "# gevent, tornado\n",
    "import gevent\n",
    "\n",
    "def delay_echo(msg):\n",
    "    gevent.sleep(2)\n",
    "    print msg\n",
    "    \n",
    "gevent.spawn(delay_echo, 'hello world')\n",
    "gevent.spawn(delay_echo, 'how are you')\n",
    "gevent.wait()"
   ]
  },
  {
   "cell_type": "markdown",
   "metadata": {
    "slideshow": {
     "slide_type": "subslide"
    }
   },
   "source": [
    "**In Python3, there is builtin coroutine support from [asyncio](//docs.python.org/3.5/library/asyncio.html#module-asyncio) module**"
   ]
  },
  {
   "cell_type": "markdown",
   "metadata": {
    "slideshow": {
     "slide_type": "slide"
    }
   },
   "source": [
    "## Unit Testing and TDD"
   ]
  },
  {
   "cell_type": "markdown",
   "metadata": {
    "slideshow": {
     "slide_type": "subslide"
    }
   },
   "source": [
    "![learning curve](//ifconfiger.com/media/programming_language_learning_curves_python.png?fileid=a9e2ae2d1a3c8d837beee6ee478df9d96592fdcb22837d72ff18e5be1c23bc48)"
   ]
  },
  {
   "cell_type": "markdown",
   "metadata": {
    "slideshow": {
     "slide_type": "subslide"
    }
   },
   "source": [
    "### Why \"Unit Testing\" is so important in Python"
   ]
  },
  {
   "cell_type": "markdown",
   "metadata": {
    "slideshow": {
     "slide_type": "subslide"
    }
   },
   "source": [
    "### Simple Example"
   ]
  },
  {
   "cell_type": "markdown",
   "metadata": {
    "slideshow": {
     "slide_type": "subslide"
    }
   },
   "source": [
    "### Bowling Game\n",
    "\n",
    "#### Description:\n",
    "\n",
    "Write a program to score a game of Ten-Pin Bowling.\n",
    "\n",
    "Input: string (described below) representing a bowling game\n",
    "Ouput: integer score\n",
    "\n",
    "The scoring rules:\n",
    "\n",
    "> Each game, or \"line\" of bowling, includes ten turns, or \"frames\" for the bowler.\n",
    "> \n",
    "> In each frame, the bowler gets up to two tries to knock down all ten pins.\n",
    "> \n",
    "> If the first ball in a frame knocks down all ten pins, this is called a \"strike\". The frame is over. The score for the frame is ten plus the total of the pins knocked down in the next two balls.\n",
    "> \n",
    "> If the second ball in a frame knocks down all ten pins, this is called a \"spare\". The frame is over. The score for the frame is ten plus the number of pins knocked down in the next ball.\n",
    "> \n",
    "> If, after both balls, there is still at least one of the ten pins standing the score for that frame is simply the total number of pins knocked down in those two balls.\n",
    "> \n",
    "> If you get a spare in the last (10th) frame you get one more bonus ball. If you get a strike in the last(10th) frame you get two more bonus balls. These bonus throws are taken as part of the same turn. If a bonus ball knocks down all the pins, the process does not repeat. The bonus balls are only used to calculate the score of the final frame.\n",
    "\n",
    "The game score is the total of all frame scores.\n",
    "\n",
    "#### Examples:\n",
    "\n",
    "* X indicates a strike\n",
    "* / indicates a spare\n",
    "* - indicates a miss\n",
    "* | indicates a frame boundary\n",
    "* The characters after the || indicate bonus balls\n",
    "\n",
    "X|X|X|X|X|X|X|X|X|X||XX\n",
    "\n",
    "* Ten strikes on the first ball of all ten frames.\n",
    "* Two bonus balls, both strikes.\n",
    "\n",
    "Score for each frame == 10 + score for next two \n",
    "\n",
    "balls == 10 + 10 + 10 == 30\n",
    "\n",
    "Total score == 10 frames x 30 == 300\n",
    "\n",
    "9-|9-|9-|9-|9-|9-|9-|9-|9-|9-||\n",
    "\n",
    "* Nine pins hit on the first ball of all ten frames.\n",
    "* Second ball of each frame misses last remaining pin.\n",
    "* No bonus balls.\n",
    "\n",
    "Score for each frame == 9\n",
    "\n",
    "Total score == 10 frames x 9 == 90\n",
    "\n",
    "5/|5/|5/|5/|5/|5/|5/|5/|5/|5/||5\n",
    "\n",
    "* Five pins on the first ball of all ten frames.\n",
    "* Second ball of each frame hits all five remaining pins, a spare.\n",
    "* One bonus ball, hits five pins.\n",
    "\n",
    "Score for each frame == 10 + score for next one\n",
    "\n",
    "ball == 10 + 5 == 15\n",
    "\n",
    "Total score == 10 frames x 15 == 150\n",
    "\n",
    "X|7/|9-|X|-8|8/|-6|X|X|X||81\n",
    "\n",
    "Total score == 167"
   ]
  },
  {
   "cell_type": "markdown",
   "metadata": {
    "collapsed": true,
    "slideshow": {
     "slide_type": "subslide"
    }
   },
   "source": [
    "```python\n",
    "# test_bowling.py\n",
    "import unittest\n",
    "from bowlling import get_bowlling_score\n",
    "\n",
    "\n",
    "class TestScore(unittest.TestCase):\n",
    "    def test_all_missing(self):\n",
    "        self._assert_score('--|--|--|--|--|--|--|--|--|--||', 0)\n",
    "        \n",
    "    def test_first_hit(self):\n",
    "        self._assert_score('1-|--|--|--|--|--|--|--|--|--||', 1)\n",
    "        \n",
    "    def test_one_spare(self):\n",
    "        self._assert_score('1/|--|--|--|--|--|--|--|--|--||', 10)\n",
    "        \n",
    "    def test_one_strike(self):\n",
    "        self._assert_score('X|--|--|--|--|--|--|--|--|--||', 10)\n",
    "        \n",
    "    def test_two_hits(self):\n",
    "        self._assert_score('12|--|--|--|--|--|--|--|--|--||', 3)\n",
    "        \n",
    "    def test_second_hit(self):\n",
    "        self._assert_score('-5|--|--|--|--|--|--|--|--|--||', 5)\n",
    "        \n",
    "    def test_two_frames_hit(self):\n",
    "        self._assert_score('13|1-|--|--|--|--|--|--|--|--||', 5)\n",
    "        \n",
    "    def test_multi_frames_hit(self):\n",
    "        self._assert_score('1-|1-|-2|33|--|11|-1|--|--|-1||', 14)\n",
    "        \n",
    "    def test_spare_with_bonus(self):\n",
    "        self._assert_score('1/|6-|--|--|--|--|--|--|--|--||', 22)\n",
    "        \n",
    "    def test_spare_with_bonus_2(self):\n",
    "        self._assert_score('1/|62|--|--|--|--|--|--|--|--||', 24)\n",
    "        \n",
    "    def test_strike_after_spare(self):\n",
    "        self._assert_score('1/|X|--|--|--|--|--|--|--|--||', 30)\n",
    "        \n",
    "    def test_strike_with_bonus(self):\n",
    "        self._assert_score('X|12|--|--|--|--|--|--|--|--||', 16)\n",
    "        \n",
    "    def test_strike_after_strike(self):\n",
    "        self._assert_score('X|X|12|--|--|--|--|--|--|--||', 37)\n",
    "        \n",
    "    def test_last_strike_with_bonus(self):\n",
    "        self._assert_score('--|--|--|--|--|--|--|--|X|X||12', 34)\n",
    "        \n",
    "    def test_last_spare_with_bonus(self):\n",
    "        self._assert_score('--|--|--|--|--|--|--|--|X|2/||2', 32)\n",
    "        \n",
    "    def test_last_all_strikes(self):\n",
    "        self._assert_score('--|--|--|--|--|--|--|--|X|X||XX', 60)\n",
    "        \n",
    "    def test_last_strike_after_spare(self):\n",
    "        self._assert_score('--|--|--|--|--|--|--|--|4/|X||XX', 50)\n",
    "\n",
    "    def _assert_score(self, score_str, expect_score):\n",
    "        self.assertEqual(get_bowlling_score(score_str), expect_score)\n",
    "\n",
    "        \n",
    "if __name__ == '__main__':\n",
    "    unittest.main()\n",
    "```"
   ]
  },
  {
   "cell_type": "markdown",
   "metadata": {
    "collapsed": true,
    "slideshow": {
     "slide_type": "subslide"
    }
   },
   "source": [
    "```python\n",
    "# bowling.py\n",
    "def get_bowlling_score(bowling_str):\n",
    "    frames = bowling_str.split('|')\n",
    "    return sum(get_frame_total_score(frames, index) for index in range(10))\n",
    "\n",
    "def get_subsequent_balls(frames, index):\n",
    "    return ''.join(frames[index+1:])\n",
    "\n",
    "def get_frame_total_score(frames, index):\n",
    "    if 'X' in frames[index]:\n",
    "        return get_ball_score(get_subsequent_balls(frames, index)[:2])+10\n",
    "    elif '/' in frames[index]:\n",
    "        return 10+get_ball_score(get_subsequent_balls(frames,index)[:1])\n",
    "    return get_ball_score(frames[index])\n",
    "\n",
    "def get_ball_score(balls):\n",
    "    if '/' in balls:\n",
    "        return 10\n",
    "    return sum({'-':0,'X':10,'1':1,'2':2,'3':3,'4':4,'5':5,'6':6,'7':7,'8':8,'9':9}[ball] for ball in balls)\n",
    "```"
   ]
  },
  {
   "cell_type": "markdown",
   "metadata": {
    "slideshow": {
     "slide_type": "subslide"
    }
   },
   "source": [
    "### Mock"
   ]
  },
  {
   "cell_type": "code",
   "execution_count": null,
   "metadata": {
    "slideshow": {
     "slide_type": "subslide"
    }
   },
   "outputs": [],
   "source": [
    "# mock\n",
    "import time\n",
    "\n",
    "def delay_print(msg, delay):\n",
    "    time.sleep(delay)\n",
    "    print msg\n",
    "    \n",
    "import unittest\n",
    "\n",
    "time.sleep = lambda x: True\n",
    "\n",
    "class TestDelayPrint(unittest.TestCase):\n",
    "    def test_delay_print_empty_string(self):\n",
    "        delay_print('', 5)\n",
    "            \n",
    "suite = unittest.TestLoader().loadTestsFromTestCase(TestDelayPrint)\n",
    "unittest.TextTestRunner().run(suite)"
   ]
  },
  {
   "cell_type": "code",
   "execution_count": null,
   "metadata": {
    "slideshow": {
     "slide_type": "subslide"
    }
   },
   "outputs": [],
   "source": [
    "# mock for thread\n",
    "from threading import Thread\n",
    "\n",
    "def echo_in_process(interval, msg):\n",
    "    from time import sleep\n",
    "    sleep(interval)\n",
    "    print msg\n",
    "\n",
    "import time\n",
    "time.sleep = lambda x: None # mock time.sleep\n",
    "\n",
    "t = Thread(target=echo_in_process, args=(5, 'hello world'))\n",
    "t.start()\n",
    "t.join()"
   ]
  },
  {
   "cell_type": "code",
   "execution_count": null,
   "metadata": {
    "slideshow": {
     "slide_type": "subslide"
    }
   },
   "outputs": [],
   "source": [
    "# mock in thread\n",
    "from threading import Thread\n",
    "\n",
    "def mock_in_thread():\n",
    "    import time\n",
    "    time.sleep = lambda x: None # mock time.sleep\n",
    "    print 'after mock'\n",
    "\n",
    "t = Thread(target=mock_in_thread)\n",
    "t.start()\n",
    "t.join()\n",
    "\n",
    "from time import sleep\n",
    "sleep(5)\n",
    "print 'hello world'"
   ]
  },
  {
   "cell_type": "code",
   "execution_count": null,
   "metadata": {
    "slideshow": {
     "slide_type": "subslide"
    }
   },
   "outputs": [],
   "source": [
    "# mock for child process\n",
    "import multiprocessing\n",
    "\n",
    "def echo_in_process(interval, msg):\n",
    "    from time import sleep\n",
    "    sleep(interval)\n",
    "    print msg\n",
    "    \n",
    "import time\n",
    "time.sleep = lambda x: None # mock time.sleep\n",
    "\n",
    "p = multiprocessing.Process(target=echo_in_process, args=(5, 'hello world'))\n",
    "p.start()\n",
    "p.join()"
   ]
  },
  {
   "cell_type": "markdown",
   "metadata": {
    "slideshow": {
     "slide_type": "slide"
    }
   },
   "source": [
    "## Big data analysis"
   ]
  },
  {
   "cell_type": "markdown",
   "metadata": {
    "slideshow": {
     "slide_type": "fragment"
    }
   },
   "source": [
    "* Memory\n",
    "* Index"
   ]
  },
  {
   "cell_type": "code",
   "execution_count": null,
   "metadata": {
    "slideshow": {
     "slide_type": "subslide"
    }
   },
   "outputs": [],
   "source": [
    "# iterator\n",
    "# with open('access_10000.log') as fp:\n",
    "#     for line in fp:\n",
    "#         pass # proceed line\n",
    "\n",
    "d = {'a': 1, 'b': 2, 'c': 3}\n",
    "for k in d:\n",
    "    print k\n",
    "\n",
    "for k, v in d.iteritems():\n",
    "    print k, v\n",
    "\n",
    "from itertools import imap\n",
    "\n",
    "imap(int, ('0', '1', '2'))"
   ]
  },
  {
   "cell_type": "code",
   "execution_count": null,
   "metadata": {
    "slideshow": {
     "slide_type": "subslide"
    }
   },
   "outputs": [],
   "source": [
    "# numpy\n",
    "import numpy as np\n",
    "\n",
    "# 1 2 3\n",
    "# 4 5 6\n",
    "# 7 8 9\n",
    "metrix = np.array([[1,2,3], [4,5,6], [7,8,9]])\n",
    "metrix[:2, 1:] # slice\n",
    "metrix[:2, 1:] = 0\n",
    "metrix # view of data but not copy"
   ]
  },
  {
   "cell_type": "code",
   "execution_count": null,
   "metadata": {
    "slideshow": {
     "slide_type": "subslide"
    }
   },
   "outputs": [],
   "source": [
    "(metrix[:2, 1:] + 3) * 2 # broadcast"
   ]
  },
  {
   "cell_type": "code",
   "execution_count": null,
   "metadata": {
    "slideshow": {
     "slide_type": "subslide"
    }
   },
   "outputs": [],
   "source": [
    "bool_index = np.array([True, False, True])\n",
    "metrix[bool_index]"
   ]
  },
  {
   "cell_type": "code",
   "execution_count": null,
   "metadata": {
    "slideshow": {
     "slide_type": "subslide"
    }
   },
   "outputs": [],
   "source": [
    "metrix[metrix % 2 == 1]"
   ]
  },
  {
   "cell_type": "code",
   "execution_count": null,
   "metadata": {
    "slideshow": {
     "slide_type": "subslide"
    }
   },
   "outputs": [],
   "source": [
    "# statistics on ndarray\n",
    "print metrix.sum()\n",
    "print metrix[metrix % 2 == 1].mean()"
   ]
  },
  {
   "cell_type": "code",
   "execution_count": null,
   "metadata": {
    "scrolled": false,
    "slideshow": {
     "slide_type": "subslide"
    }
   },
   "outputs": [],
   "source": [
    "# pandas\n",
    "import pandas as pd\n",
    "\n",
    "data = pd.read_table('access_10000.log', sep=' ', names=[\n",
    "        'src', 'field2', 'field3', 'datetime', 'timezone', 'method', 'code', 'length', 'referer', 'agent'])\n",
    "del data['field2']\n",
    "del data['field3']\n",
    "methods = data['method'].str.split()\n",
    "data['method'] = methods.apply(lambda x: x[0])\n",
    "data['url'] = methods.apply(lambda x: x[1])\n",
    "data['protocol'] = methods.apply(lambda x: x[2])\n",
    "# TODO: handle merge datetime and timezone to an unique datetime field"
   ]
  },
  {
   "cell_type": "code",
   "execution_count": null,
   "metadata": {
    "slideshow": {
     "slide_type": "subslide"
    }
   },
   "outputs": [],
   "source": [
    "data[data['code']>300]['url'].unique() # get all invalid request urls"
   ]
  },
  {
   "cell_type": "code",
   "execution_count": null,
   "metadata": {
    "slideshow": {
     "slide_type": "subslide"
    }
   },
   "outputs": [],
   "source": [
    "%matplotlib inline\n",
    "import seaborn as sns\n",
    "\n",
    "data['src'].value_counts()[:15].plot(kind='barh', figsize=(12, 5))"
   ]
  },
  {
   "cell_type": "code",
   "execution_count": null,
   "metadata": {
    "slideshow": {
     "slide_type": "subslide"
    }
   },
   "outputs": [],
   "source": [
    "# use chunksize to handle huge dataset\n",
    "import pandas as pd\n",
    "from pandas import Series\n",
    "\n",
    "data = pd.read_table('access_10000.log', sep=' ', chunksize=1000, names=[\n",
    "        'src', 'field2', 'field3', 'datetime', 'timezone', 'method', 'code', 'length', 'referer', 'agent'])\n",
    "invalid_visits = 0\n",
    "for chunk in data:\n",
    "    invalid_visits += len(chunk[chunk['code'] >= 300])\n",
    "print invalid_visits"
   ]
  },
  {
   "cell_type": "markdown",
   "metadata": {
    "slideshow": {
     "slide_type": "slide"
    }
   },
   "source": [
    "## Common Patterns\n",
    "\n",
    "![bible](//a1.att.hudong.com/34/62/19300001337301131296620943684.jpg)"
   ]
  },
  {
   "cell_type": "markdown",
   "metadata": {
    "slideshow": {
     "slide_type": "subslide"
    }
   },
   "source": [
    "### Singleton\n",
    "\n",
    "\n",
    "> http://blog.zhangyu.so/python/2016/02/16/design-patterns-of-python-borg/"
   ]
  },
  {
   "cell_type": "markdown",
   "metadata": {
    "slideshow": {
     "slide_type": "subslide"
    }
   },
   "source": [
    "### Decorator\n",
    "\n",
    "> http://blog.zhangyu.so/python/2016/02/17/design-patterns-of-python-decorator/"
   ]
  },
  {
   "cell_type": "markdown",
   "metadata": {
    "slideshow": {
     "slide_type": "subslide"
    }
   },
   "source": [
    "### Proxy\n",
    "\n",
    "> http://blog.zhangyu.so/python/2016/02/24/design-patterns-of-python-proxy/"
   ]
  },
  {
   "cell_type": "markdown",
   "metadata": {
    "slideshow": {
     "slide_type": "subslide"
    }
   },
   "source": [
    "### MapReduce\n",
    "\n",
    "> http://blog.zhangyu.so/python/2016/02/19/design-patterns-of-python-mapreduce/"
   ]
  },
  {
   "cell_type": "markdown",
   "metadata": {
    "slideshow": {
     "slide_type": "subslide"
    }
   },
   "source": [
    "> https://wiki.python.org/moin/Generators\n",
    "\n",
    "> https://eastlakeside.gitbooks.io/interpy-zh/content/Generators/Generators.html\n",
    "\n",
    "> https://blog.csdn.net/wangliyao518/article/details/83444107"
   ]
  },
  {
   "cell_type": "code",
   "execution_count": null,
   "metadata": {},
   "outputs": [],
   "source": []
  }
 ],
 "metadata": {
  "celltoolbar": "Slideshow",
  "kernelspec": {
   "display_name": "Python 2",
   "language": "python",
   "name": "python2"
  },
  "language_info": {
   "codemirror_mode": {
    "name": "ipython",
    "version": 2
   },
   "file_extension": ".py",
   "mimetype": "text/x-python",
   "name": "python",
   "nbconvert_exporter": "python",
   "pygments_lexer": "ipython2",
   "version": "2.7.13"
  },
  "toc": {
   "base_numbering": 1,
   "nav_menu": {},
   "number_sections": true,
   "sideBar": true,
   "skip_h1_title": false,
   "title_cell": "Table of Contents",
   "title_sidebar": "Contents",
   "toc_cell": false,
   "toc_position": {},
   "toc_section_display": true,
   "toc_window_display": true
  }
 },
 "nbformat": 4,
 "nbformat_minor": 1
}
