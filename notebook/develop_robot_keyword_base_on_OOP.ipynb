{
 "cells": [
  {
   "attachments": {
    "fengmian.jpg": {
     "image/jpeg": "[encoded data removed]"
    }
   },
   "cell_type": "markdown",
   "metadata": {
    "slideshow": {
     "slide_type": "-"
    }
   },
   "source": [
    "# Develop Robot keyword base on OOP\n",
    "![fengmian.jpg](attachment:fengmian.jpg)\n",
    "## <center>wang liyao (leo)</center>"
   ]
  },
  {
   "cell_type": "markdown",
   "metadata": {
    "slideshow": {
     "slide_type": "slide"
    }
   },
   "source": [
    "## what's OOP"
   ]
  },
  {
   "cell_type": "markdown",
   "metadata": {
    "slideshow": {
     "slide_type": "slide"
    }
   },
   "source": [
    "## why we need OOP"
   ]
  },
  {
   "cell_type": "markdown",
   "metadata": {
    "slideshow": {
     "slide_type": "slide"
    }
   },
   "source": [
    "## robot keyword develop & OOP"
   ]
  },
  {
   "cell_type": "markdown",
   "metadata": {
    "slideshow": {
     "slide_type": "slide"
    }
   },
   "source": [
    "## Low-level keyword development demo"
   ]
  },
  {
   "cell_type": "markdown",
   "metadata": {
    "slideshow": {
     "slide_type": "subslide"
    }
   },
   "source": [
    "### execute shell command keyword\n",
    "\n",
    "** implement a keyword to execute shell command on remote linux pc **\n",
    "\n",
    "** 实现一个可以在远程linux系统的pc上执行shell 命令的keyword **"
   ]
  },
  {
   "cell_type": "markdown",
   "metadata": {
    "slideshow": {
     "slide_type": "subslide"
    }
   },
   "source": [
    "### Procedure Oriented Programming"
   ]
  },
  {
   "cell_type": "code",
   "execution_count": null,
   "metadata": {
    "code_folding": [],
    "slideshow": {
     "slide_type": "subslide"
    }
   },
   "outputs": [],
   "source": [
    "#interface.py\n",
    "\n",
    "import paramiko\n",
    "def execute_shell_command(cmd, host, username, password):\n",
    "    ssh = paramiko.SSHClient()\n",
    "    ssh.set_missing_host_key_policy(paramiko.AutoAddPolicy())\n",
    "    ssh.connect(host, 22, username, password)\n",
    "    stdin,stdout,stderr = ssh.exec_command(cmd)\n",
    "    outmsg, errmsg = stdout.read(),stderr.read()\n",
    "    return outmsg\n",
    "    ssh.close()"
   ]
  },
  {
   "cell_type": "markdown",
   "metadata": {
    "slideshow": {
     "slide_type": "subslide"
    }
   },
   "source": [
    "### add requirement\n",
    "\n",
    "but one day, our customer need two keyword:\n",
    "1. “get ethernet port ip”, the inputt arguments is ethernet name and output is ip address\n",
    "2. \"get remote host name\", the output is host name"
   ]
  },
  {
   "cell_type": "code",
   "execution_count": null,
   "metadata": {
    "code_folding": [
     5,
     15,
     21
    ],
    "slideshow": {
     "slide_type": "subslide"
    }
   },
   "outputs": [],
   "source": [
    "#interface.py\n",
    "\n",
    "import paramiko\n",
    "import re\n",
    "\n",
    "def get_ethernet_ip_address(eth_name, host, username, password):\n",
    "    search_command = 'sudo ifconfig {}'.format(eth_name)\n",
    "    result = execute_shell_command(search_command, host, username, password)\n",
    "    pattern = r\"inet addr:(\\d{1,4}.\\d{1,4}.\\d{1,4}.\\d{1,4})\"\n",
    "    for line in stdout.split('\\n'):\n",
    "        ret = re.search(pattern, line)\n",
    "        if ret:\n",
    "            result = ret.groups()[0]\n",
    "    return result\n",
    "\n",
    "def get_host_name(host, username, password):\n",
    "    command = \"hostname\"\n",
    "    result = execute_shell_command(command)\n",
    "    return result.strip()\n",
    "\n",
    "\n",
    "def execute_shell_command(cmd, host, username, password):\n",
    "    ssh = paramiko.SSHClient()\n",
    "    ssh.set_missing_host_key_policy(paramiko.AutoAddPolicy())\n",
    "    ssh.connect(host, 22, username, password)\n",
    "    stdin,stdout,stderr = ssh.exec_command(cmd)\n",
    "    outmsg, errmsg = stdout.read(),stderr.read()\n",
    "    return outmsg\n",
    "    ssh.close()\n"
   ]
  },
  {
   "cell_type": "markdown",
   "metadata": {
    "slideshow": {
     "slide_type": "subslide"
    }
   },
   "source": [
    "### change requirement again\n",
    "\n",
    "** If one day user find get_ethernet_ip_address keyword use too much time when execute command in local pc, it seems not necessary via ssh execute local comand ** "
   ]
  },
  {
   "cell_type": "code",
   "execution_count": null,
   "metadata": {
    "code_folding": [
     6,
     19,
     27,
     36
    ],
    "slideshow": {
     "slide_type": "subslide"
    }
   },
   "outputs": [],
   "source": [
    "#interface.py\n",
    "\n",
    "import paramiko\n",
    "import subprocess\n",
    "import re\n",
    "\n",
    "def get_ethernet_ip_address(eth_name, host, username, password):\n",
    "    search_command = 'sudo ifconfig {}'.format(eth_name)\n",
    "    if host == '127.0.0.1' or host == 'localhost':\n",
    "        result = execute_local_command(search_command)\n",
    "    else:\n",
    "        result = execute_shell_command(search_command, host, username, password)\n",
    "    pattern = r\"inet addr:(\\d{1,4}.\\d{1,4}.\\d{1,4}.\\d{1,4})\"\n",
    "    for line in stdout.split('\\n'):\n",
    "        ret = re.search(pattern, line)\n",
    "        if ret:\n",
    "            result = ret.groups()[0]\n",
    "    return result\n",
    "\n",
    "def get_host_name(host, username, password):\n",
    "    command = \"hostname\"\n",
    "    if host == '127.0.0.1' or host == 'localhost':\n",
    "        result = execute_local_command(scommand)    \n",
    "    else:\n",
    "        result = execute_shell_command(command, host, username, password)\n",
    "    return result.strip()\n",
    "\n",
    "def execute_shell_command(cmd, host, username, password):\n",
    "    ssh = paramiko.SSHClient()\n",
    "    ssh.set_missing_host_key_policy(paramiko.AutoAddPolicy())\n",
    "    ssh.connect(host, 22, username, password)\n",
    "    stdin,stdout,stderr = ssh.exec_command(cmd)\n",
    "    outmsg, errmsg = stdout.read(),stderr.read()\n",
    "    return outmsg\n",
    "    ssh.close()\n",
    "\n",
    "def execute_local_command(cmd):\n",
    "    result = subprocess.check_output(cmd)\n",
    "    return result\n"
   ]
  },
  {
   "cell_type": "markdown",
   "metadata": {
    "slideshow": {
     "slide_type": "subslide"
    }
   },
   "source": [
    "### change requirement once again\n",
    "** one day our boss tell me maybe use SSHLibrary better than paramiko  **"
   ]
  },
  {
   "cell_type": "code",
   "execution_count": null,
   "metadata": {
    "code_folding": [
     7,
     20,
     29,
     38,
     42
    ],
    "slideshow": {
     "slide_type": "subslide"
    }
   },
   "outputs": [],
   "source": [
    "#interface.py\n",
    "\n",
    "import paramiko\n",
    "import subprocess\n",
    "from SSHLibrary import SSHClient\n",
    "import re\n",
    "\n",
    "def get_ethernet_ip_address(eth_name, host, username, password):\n",
    "    search_command = 'sudo ifconfig {}'.format(eth_name)\n",
    "    if host == '127.0.0.1' or host == 'localhost':\n",
    "        result = execute_local_command(search_command)\n",
    "    else:\n",
    "        result = execute_shell_command_new(search_command, host, username, password)\n",
    "    pattern = r\"inet addr:(\\d{1,4}.\\d{1,4}.\\d{1,4}.\\d{1,4})\"\n",
    "    for line in stdout.split('\\n'):\n",
    "        ret = re.search(pattern, line)\n",
    "        if ret:\n",
    "            result = ret.groups()[0]\n",
    "    return result\n",
    "\n",
    "def get_host_name(host, username, password):\n",
    "    command = \"hostname\"\n",
    "    if host == '127.0.0.1' or host == 'localhost':\n",
    "        result = execute_local_command(scommand)    \n",
    "    else:\n",
    "        result = execute_shell_command_new(command, host, username, password)\n",
    "    return result.strip()\n",
    "\n",
    "\n",
    "def execute_shell_command(cmd, host, username, password):\n",
    "    ssh = paramiko.SSHClient()\n",
    "    ssh.set_missing_host_key_policy(paramiko.AutoAddPolicy())\n",
    "    ssh.connect(host, 22, username, password)\n",
    "    stdin,stdout,stderr = ssh.exec_command(cmd)\n",
    "    outmsg, errmsg = stdout.read(),stderr.read()\n",
    "    ssh.close()\n",
    "    return outmsg\n",
    "\n",
    "def execute_local_command(cmd):\n",
    "    result = subprocess.check_output(cmd)\n",
    "    return result\n",
    "\n",
    "def execute_shell_command_new(cmd, host, username, password):\n",
    "    client = SSHClient(host)\n",
    "    client.login(username, password)\n",
    "    result, _, _ = client.execute_command(cmd)\n",
    "    client.logout()\n",
    "    return result\n",
    "execute_shell_command_new('sudo ifconfig', '192.168.99.100', 'docker', 'tcuser')"
   ]
  },
  {
   "cell_type": "markdown",
   "metadata": {
    "slideshow": {
     "slide_type": "subslide"
    }
   },
   "source": [
    "### what's the disadvantage about all the previous code?"
   ]
  },
  {
   "cell_type": "markdown",
   "metadata": {
    "slideshow": {
     "slide_type": "subslide"
    }
   },
   "source": [
    "### use OOP refactor the code"
   ]
  },
  {
   "cell_type": "code",
   "execution_count": 17,
   "metadata": {
    "code_folding": [
     3,
     5,
     8,
     18,
     24,
     25,
     32,
     37,
     42,
     49,
     52,
     60,
     63,
     66
    ],
    "slideshow": {
     "slide_type": "subslide"
    }
   },
   "outputs": [],
   "source": [
    "# imp.py\n",
    "import paramiko\n",
    "\n",
    "class HostAccess(object):\n",
    "\n",
    "    def __init__(self, connection):\n",
    "        self.con = connection\n",
    "\n",
    "    def get_ethernet_ip_addr(self, eth_name):\n",
    "        result = \"\"\n",
    "        stderr, stdout = self.con.exec_command(\"ifconfig {}\".format(eth_name))\n",
    "        pattern = r\"(inet addr:\\d{1,4}.\\d{1,4}.\\d{1,4}.\\d{1,4})\"\n",
    "        for line in stdout.split('\\n'):\n",
    "            ret = re.search(pattern, line)\n",
    "            if ret:\n",
    "                result = ret.groups()[0]\n",
    "        return result\n",
    "\n",
    "    def get_host_name(self):\n",
    "        stderr, stdout = self.con.exec_command('hostname')\n",
    "        result = stdout.strip()\n",
    "        return result\n",
    "\n",
    "\n",
    "class SshConnection(object):\n",
    "    def __init__(self, host,username, password, port=22):\n",
    "        self.host = host\n",
    "        self.port = port\n",
    "        self.username = username\n",
    "        self.password = password\n",
    "        self.con = None\n",
    "\n",
    "    def connect(self):\n",
    "        self.con = paramiko.SSHClient()\n",
    "        self.con.set_missing_host_key_policy(paramiko.AutoAddPolicy())\n",
    "        self.con.connect(self.host, self.port, self.username, self.password)\n",
    "\n",
    "    def exec_command(self, command):\n",
    "        stdin, stdout, stderr = self.con.exec_command(command)\n",
    "        ret = stdout.read()\n",
    "        return ret\n",
    "\n",
    "    def disconnect(self):\n",
    "        self.con.close()\n",
    "\n",
    "\n",
    "# interface.py\n",
    "class Interface(object):\n",
    "\n",
    "    def __init__(self):\n",
    "        self.ssh_con = None\n",
    "\n",
    "    def setup_connection(self, **kwargs):\n",
    "        host_ip = kwargs.get('host')\n",
    "        username = kwargs.get('username')\n",
    "        password = kwargs.get('password')\n",
    "        self.ssh_con = SshConnection(host_ip, username, password)\n",
    "        self.ssh_con.connect()\n",
    "        self.access_obj = HostAccess(self.ssh_con)\n",
    "\n",
    "    def execute_command_on_host(command):\n",
    "        return self.ssh_conn.exec_command(command)\n",
    "\n",
    "    def get_ethernet_ip_address(self, **kwargs):\n",
    "        return self.access_obj.get_lmp_ip_addr()\n",
    "    \n",
    "    def get_host_name():\n",
    "        return self.acess.obj.get_host_name()\n",
    "\n",
    "    def teardown_connection(self, **kwargs):\n",
    "        self.ssh_con.disconnect()\n"
   ]
  },
  {
   "cell_type": "markdown",
   "metadata": {
    "code_folding": [],
    "slideshow": {
     "slide_type": "subslide"
    }
   },
   "source": [
    "### local don't need ssh only need add a new class"
   ]
  },
  {
   "cell_type": "code",
   "execution_count": null,
   "metadata": {
    "code_folding": [],
    "slideshow": {
     "slide_type": "subslide"
    }
   },
   "outputs": [],
   "source": [
    "# imp.py\n",
    "import subprocess\n",
    "\n",
    "class LocalSshConnection(object):\n",
    "    def __init__(self):\n",
    "        pass\n",
    "    def connect(self):\n",
    "        pass\n",
    "    def disconnect(self):\n",
    "        pass\n",
    "    def exec_command(self, command):\n",
    "        result = subprocess.check_output(cmd)\n",
    "        return result"
   ]
  },
  {
   "cell_type": "code",
   "execution_count": null,
   "metadata": {
    "code_folding": [],
    "slideshow": {
     "slide_type": "subslide"
    }
   },
   "outputs": [],
   "source": [
    "# imp.py\n",
    "import paramiko\n",
    "import subprocess\n",
    "class HostAccess(object):\n",
    "    def __init__(self, connection):\n",
    "        self.con = connection\n",
    "    def get_ethernet_ip_addr(self, eth_name):\n",
    "        result = \"\"\n",
    "        stderr, stdout = self.con.exec_command(\"ifconfig {}\".format(eth_name))\n",
    "        pattern = r\"(inet addr:\\d{1,4}.\\d{1,4}.\\d{1,4}.\\d{1,4})\"\n",
    "        for line in stdout.split('\\n'):\n",
    "            ret = re.search(pattern, line)\n",
    "            if ret:\n",
    "                result = ret.groups()[0]\n",
    "        return result\n",
    "    def get_host_name(self):\n",
    "        stderr, stdout = self.con.exec_command('hostname')\n",
    "        result = stdout.strip()\n",
    "        return result    \n",
    "class LocalSshConnection(object):\n",
    "    def __init__(self):\n",
    "        pass\n",
    "    def connect(self):\n",
    "        pass\n",
    "    def disconnect(self):\n",
    "        pass\n",
    "    def exec_command(self, command):\n",
    "        result = subprocess.check_output(cmd)\n",
    "        return result\n",
    "class SshConnection(object):\n",
    "    def __init__(self, host,username, password, port=22):\n",
    "        self.host = host\n",
    "        self.port = port\n",
    "        self.username = username\n",
    "        self.password = password\n",
    "        self.con = None\n",
    "    def connect(self):\n",
    "        self.con = paramiko.SSHClient()\n",
    "        self.con.set_missing_host_key_policy(paramiko.AutoAddPolicy())\n",
    "        self.con.connect(self.host, self.port, self.username, self.password)\n",
    "    def exec_command(self, command):\n",
    "        stdin, stdout, stderr = self.con.exec_command(command)\n",
    "        ret = stdout.read()\n",
    "        return ret\n",
    "    def disconnect(self):\n",
    "        self.con.close()\n",
    "# interface.py\n",
    "class Interface(object):\n",
    "    def __init__(self):\n",
    "        self.ssh_con = None\n",
    "    def setup_connection(self, **kwargs):\n",
    "        host_ip = kwargs.get('host')\n",
    "        username = kwargs.get('username')\n",
    "        password = kwargs.get('password')\n",
    "        # self.ssh_con = SshConnection(host_ip, username, password)\n",
    "        ssh_con_dict = {'127.0.0.1': LocalSshConnection, 'localhost': LocalSshConnection}\n",
    "        self.ssh_con = ssh_con_dict.get(host_ip, SshConnection)\n",
    "        self.ssh_con.connect()\n",
    "        self.access_obj = HostAccess(self.ssh_con)\n",
    "    def execute_command_on_host(command):\n",
    "        return self.ssh_conn.exec_command(command)\n",
    "    def get_ethernet_ip_address(self, **kwargs):\n",
    "        return self.access_obj.get_lmp_ip_addr()\n",
    "    def get_host_name():\n",
    "        return self.acess.obj.get_host_name()\n",
    "    def teardown_connection(self, **kwargs):\n",
    "        self.ssh_con.disconnect()\n"
   ]
  },
  {
   "cell_type": "markdown",
   "metadata": {
    "slideshow": {
     "slide_type": "subslide"
    }
   },
   "source": [
    "### ssh need Sshlibrary refactor"
   ]
  },
  {
   "cell_type": "code",
   "execution_count": 19,
   "metadata": {
    "code_folding": [],
    "slideshow": {
     "slide_type": "subslide"
    }
   },
   "outputs": [],
   "source": [
    "# imp.py\n",
    "from SSHLibrary import SSHClient\n",
    "class SshConnection_new(object):\n",
    "    def __init__(self, host,username, password, port=22):\n",
    "        self.host = host\n",
    "        self.port = port\n",
    "        self.username = username\n",
    "        self.password = password\n",
    "        self.con = None\n",
    "    def connect(self):\n",
    "        self.con = SSHClient(self.host)\n",
    "        self.con.login(self.username, self.password)\n",
    "    def exec_command(self, command):\n",
    "        stdin, stdout, stderr = self.con.exec_command(command)\n",
    "        ret = stdout.read()\n",
    "        return ret\n",
    "    def disconnect(self):\n",
    "        self.con.logout()"
   ]
  },
  {
   "cell_type": "markdown",
   "metadata": {
    "slideshow": {
     "slide_type": "subslide"
    }
   },
   "source": [
    "### POP vs OOP"
   ]
  },
  {
   "cell_type": "markdown",
   "metadata": {
    "slideshow": {
     "slide_type": "slide"
    }
   },
   "source": [
    "# another low-level keyword development demo"
   ]
  },
  {
   "cell_type": "markdown",
   "metadata": {
    "slideshow": {
     "slide_type": "subslide"
    }
   },
   "source": [
    "### impemen  \"kill process\" keyword\n",
    "Users have a requirement to implement a keyword to kill process, input arguments is a list of the \"process name\". "
   ]
  },
  {
   "cell_type": "code",
   "execution_count": null,
   "metadata": {
    "code_folding": [
     1
    ],
    "slideshow": {
     "slide_type": "subslide"
    }
   },
   "outputs": [],
   "source": [
    "import subbprocess\n",
    "def kill_process(*process_list):\n",
    "    for each_process in process_list:\n",
    "        ppid = subprocess.check_output(\"ps -ef |grep {} |grep -v grep |awk -F ' ' '{print $2}'\".format(each_process))\n",
    "        ret = subbprocess.call('sudo kill - 9 {}'.format(ppid))"
   ]
  },
  {
   "cell_type": "markdown",
   "metadata": {
    "slideshow": {
     "slide_type": "subslide"
    }
   },
   "source": [
    "### \"bug\" driven keyword need be modified\n",
    "One day, our user wanted to kill the kibana process with this keyword, but found that it didn't work. then we found out that the kibana process was not named kibana but node"
   ]
  },
  {
   "cell_type": "code",
   "execution_count": 2,
   "metadata": {
    "code_folding": [
     1
    ],
    "slideshow": {
     "slide_type": "subslide"
    }
   },
   "outputs": [],
   "source": [
    "import subprocess\n",
    "def kill_process(*process_list):\n",
    "    for each_process in process_list:\n",
    "        if each_p_process == 'kibana':\n",
    "            each_process = 'node'\n",
    "        ppid = subprocess.check_output(\"ps -ef |grep {} |grep -v grep |awk -F ' ' '{print $2}'\".format(each_process))\n",
    "        ret = subbprocess.call('sudo kill - 9 {}'.format(ppid))"
   ]
  },
  {
   "cell_type": "markdown",
   "metadata": {
    "slideshow": {
     "slide_type": "subslide"
    }
   },
   "source": [
    "### refactor the 'kill process' keyword with OOP"
   ]
  },
  {
   "cell_type": "code",
   "execution_count": 4,
   "metadata": {
    "code_folding": [],
    "slideshow": {
     "slide_type": "subslide"
    }
   },
   "outputs": [],
   "source": [
    "import subprocess\n",
    "class Process(object):\n",
    "    def __init__(self, name):\n",
    "        self.process_name = name\n",
    "    def pid(self):\n",
    "        return subprocess.check_output(\"ps -ef |grep {} |grep -v grep |awk -F ' ' '{print $2}'\".format(process_name))\n",
    "    def start(self):\n",
    "        pass\n",
    "    def stop(self):\n",
    "        subbprocess.call('sudo kill - 9 {}'.format(self.pid))\n",
    "class KibanaProcess(Process):\n",
    "    def __init__(self, name):\n",
    "        self.process_nme = 'node'\n",
    "class ProcessFactory(object):\n",
    "    def get_process_instant(self, name):\n",
    "        ssh_con_dict = {'kibana': KibanaProcess}\n",
    "        process_class = ssh_con_dict.get(name, Process)\n",
    "        return process_class(name)\n",
    "class ProcessControl(object):\n",
    "    def __init__(self, process_name_list):\n",
    "        self.ppid = None\n",
    "        self.process_name_list = process_name_list\n",
    "    def stop(self):\n",
    "        for process_name in self.process_name_list:\n",
    "            ProcessFactory().get_process_instant(process_name).stop()\n",
    "def kill_process(*process_list):\n",
    "    ProcessControl(process_list).stop()\n",
    "                "
   ]
  },
  {
   "cell_type": "markdown",
   "metadata": {
    "slideshow": {
     "slide_type": "subslide"
    }
   },
   "source": [
    "### add new process"
   ]
  },
  {
   "cell_type": "code",
   "execution_count": null,
   "metadata": {
    "code_folding": [],
    "slideshow": {
     "slide_type": "subslide"
    }
   },
   "outputs": [],
   "source": [
    "class BtsLogProcess(Process):\n",
    "    def __init__(self, name):\n",
    "        self.process_nme = 'syslog.py'\n",
    "\n",
    "class SiteManagerProcess(Process):\n",
    "    \n",
    "    def __init__(self, name):\n",
    "        self.process_nme = 'java'"
   ]
  },
  {
   "cell_type": "markdown",
   "metadata": {
    "slideshow": {
     "slide_type": "slide"
    }
   },
   "source": [
    "# High-level keyword development demo"
   ]
  },
  {
   "cell_type": "markdown",
   "metadata": {
    "slideshow": {
     "slide_type": "subslide"
    }
   },
   "source": [
    "Suppose we already have capture syslog, ttitrace log and aatrace message log(every have start and stop * log keywords), and one day user want us to implement a new common keyword for capture all the logs"
   ]
  },
  {
   "cell_type": "markdown",
   "metadata": {
    "slideshow": {
     "slide_type": "subslide"
    }
   },
   "source": [
    "### POP implementation"
   ]
  },
  {
   "cell_type": "code",
   "execution_count": 6,
   "metadata": {
    "code_folding": [],
    "slideshow": {
     "slide_type": "subslide"
    }
   },
   "outputs": [],
   "source": [
    "# interface.py\n",
    "def start_capture_common_logs(syslog=True, ttitrace=True, aatrace=True, log_save_path=\"/tmp\"):\n",
    "    start_syslog(log_save_path)\n",
    "    start_ttitrace(log_save_path)\n",
    "    start_aaMessageTrace(log_save_path)\n",
    "\n",
    "def stop_capture_common_logs():\n",
    "    stop_syslog()\n",
    "    stop_ttitrace()\n",
    "    stop_aaMessageTrace() "
   ]
  },
  {
   "cell_type": "markdown",
   "metadata": {
    "slideshow": {
     "slide_type": "subslide"
    }
   },
   "source": [
    "### new requirement\n",
    "user want provide the aatrace profile which include the aatrace message filter, beside, user also want save the different log to different path"
   ]
  },
  {
   "cell_type": "code",
   "execution_count": null,
   "metadata": {
    "slideshow": {
     "slide_type": "subslide"
    }
   },
   "outputs": [],
   "source": [
    "# interface.py\n",
    "def start_capture_common_logs(syslog=True, ttitrace=True, aatrace=True, log_save_path=\"/tmp\"):\n",
    "    start_syslog(syslog_save_path)\n",
    "    start_ttitrace(ttitrace_save_path)\n",
    "    start_aaMessageTrace(aatrace_save_path)\n",
    "\n",
    "def stop_capture_common_logs():\n",
    "    stop_syslog()\n",
    "    stop_ttitrace()\n",
    "    stop_aaMessageTrace() "
   ]
  }
 ],
 "metadata": {
  "celltoolbar": "Slideshow",
  "kernelspec": {
   "display_name": "Python 2",
   "language": "python",
   "name": "python2"
  },
  "language_info": {
   "codemirror_mode": {
    "name": "ipython",
    "version": 2
   },
   "file_extension": ".py",
   "mimetype": "text/x-python",
   "name": "python",
   "nbconvert_exporter": "python",
   "pygments_lexer": "ipython2",
   "version": "2.7.13"
  },
  "toc": {
   "base_numbering": 1,
   "nav_menu": {},
   "number_sections": true,
   "sideBar": true,
   "skip_h1_title": false,
   "title_cell": "Table of Contents",
   "title_sidebar": "Contents",
   "toc_cell": false,
   "toc_position": {},
   "toc_section_display": true,
   "toc_window_display": false
  }
 },
 "nbformat": 4,
 "nbformat_minor": 2
}
