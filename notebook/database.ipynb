{
 "cells": [
  {
   "cell_type": "code",
   "execution_count": 19,
   "metadata": {},
   "outputs": [
    {
     "name": "stdout",
     "output_type": "stream",
     "text": [
      "Database version : 5.7.20-log \n"
     ]
    }
   ],
   "source": [
    "import MySQLdb\n",
    "\n",
    "# 打开数据库连接\n",
    "db = MySQLdb.connect(\"localhost\", \"root\", \"btstest\", \"innovation\", charset='utf8' )\n",
    "\n",
    "# 使用cursor()方法获取操作游标 \n",
    "cursor = db.cursor()\n",
    "\n",
    "# 使用execute方法执行SQL语句\n",
    "cursor.execute(\"SELECT VERSION()\")\n",
    "\n",
    "# 使用 fetchone() 方法获取一条数据\n",
    "data = cursor.fetchone()\n",
    "\n",
    "print \"Database version : %s \" % data\n",
    "\n",
    "\n",
    "cursor.execute(\"DROP TABLE IF EXISTS point_progress\")\n",
    "\n",
    "# # 创建数据表SQL语句\n",
    "sql = \"\"\"CREATE TABLE point_progress (\n",
    "          squad  CHAR(45) NOT NULL,\n",
    "          month  CHAR(45) NOT NULL,\n",
    "          approve_plan INT,  \n",
    "          approve_actual INT,\n",
    "          done_plan INT,\n",
    "          done_actual INT,\n",
    "          score_plan INT,\n",
    "          score_actual INT)\"\"\"\n",
    "\n",
    "cursor.execute(sql)\n",
    "\n",
    "# 关闭数据库连接\n",
    "\n",
    "values = [\n",
    "('squad_1', 'Apr', 0, 0, 0,  0, 0, 0),\\\n",
    "('squad_2', 'Apr', 2, 2, 0,  1, 2, 4),\\\n",
    "('squad_3', 'Apr', 0, 0, 0,  0, 0, 0),\\\n",
    "('squad_4','Apr',  1, 1, 0,  1, 1, 3),\\\n",
    "('squad_5','Apr',  1, 0, 0,  0, 1, 0),\\\n",
    "('squad_6','Apr',  1, 1, 0,  0, 1, 1),\\\n",
    "('squad_7','Apr',  0, 0, 0,  0, 0, 0),\\\n",
    "('squad_8','Apr',  1, 0, 0, 0,  1, 0),\\\n",
    "('squad_9','Apr',  1, 1, 0, 0, 1,  1),\\\n",
    "('squad_10','Apr', 1, 2, 0, 0, 1,  2),\\\n",
    "('squad_11','Apr', 1, 1, 1, 0, 3,  1),\\\n",
    "('squad_12','Apr', 0, 0, 0, 0, 0,  0)]\n",
    "\n",
    "\n",
    "\n",
    "# SQL 插入语句\n",
    "for value in values:\n",
    "    sql = \"INSERT INTO point_progress(squad, month, approve_plan, approve_actual, done_plan, done_actual, score_plan, score_actual) \\\n",
    "           VALUES ('%s', '%s', '%d', '%d', '%d', '%d', '%d', '%d')\" % (value)\n",
    "    try:\n",
    "       # 执行sql语句\n",
    "       cursor.execute(sql)\n",
    "       # 提交到数据库执行\n",
    "       db.commit()\n",
    "    except Exception, e:\n",
    "       # 发生错误时回滚\n",
    "       print '++++', e\n",
    "       db.rollback()\n",
    "\n",
    "\n",
    "\n",
    "db.close()"
   ]
  },
  {
   "cell_type": "code",
   "execution_count": null,
   "metadata": {},
   "outputs": [],
   "source": []
  }
 ],
 "metadata": {
  "kernelspec": {
   "display_name": "Python 2",
   "language": "python",
   "name": "python2"
  },
  "language_info": {
   "codemirror_mode": {
    "name": "ipython",
    "version": 2
   },
   "file_extension": ".py",
   "mimetype": "text/x-python",
   "name": "python",
   "nbconvert_exporter": "python",
   "pygments_lexer": "ipython2",
   "version": "2.7.13"
  }
 },
 "nbformat": 4,
 "nbformat_minor": 2
}
