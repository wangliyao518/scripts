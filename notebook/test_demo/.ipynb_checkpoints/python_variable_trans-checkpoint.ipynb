{
 "cells": [
  {
   "cell_type": "code",
   "execution_count": 1,
   "metadata": {},
   "outputs": [
    {
     "name": "stdout",
     "output_type": "stream",
     "text": [
      "----: [1]\n",
      "++++: [1]\n",
      "----: [2]\n",
      "++++: [2]\n"
     ]
    }
   ],
   "source": [
    "def test(value, list_var):\n",
    "    list_tmp = list_var\n",
    "    list_tmp.append(value)\n",
    "    print '----:',list_tmp\n",
    "    print '++++:',list_var\n",
    "\n",
    "test(1, [])\n",
    "test(2, [])"
   ]
  },
  {
   "cell_type": "code",
   "execution_count": 2,
   "metadata": {},
   "outputs": [
    {
     "name": "stdout",
     "output_type": "stream",
     "text": [
      "---- 1\n",
      "---- 2\n",
      "---- 3\n",
      "17\n",
      "<type 'tuple'>\n",
      "++++ (4, 5, 6)\n"
     ]
    }
   ],
   "source": [
    "def request(borads, cpu, *params):\n",
    "    for board in borads:\n",
    "        print '----', board\n",
    "    print cpu\n",
    "    para = params\n",
    "    print type(para)\n",
    "    for i in para:\n",
    "        print '++++', i\n",
    "request([1,2,3], 0x11, (4,5,6))"
   ]
  },
  {
   "cell_type": "code",
   "execution_count": 14,
   "metadata": {},
   "outputs": [
    {
     "name": "stdout",
     "output_type": "stream",
     "text": [
      "['wang in test'] leo\n",
      "['wang in test'] lee\n"
     ]
    }
   ],
   "source": [
    "def test(a, b):\n",
    "    import copy\n",
    "    c = a #copy.copy(a)\n",
    "    c[0] = \"wang in test\"\n",
    "    b = \"leo\"\n",
    "    print a, b\n",
    "\n",
    "name = ['zhang']\n",
    "value='lee'\n",
    "test(name, value)\n",
    "print name, value\n",
    "\n",
    "\n"
   ]
  },
  {
   "cell_type": "code",
   "execution_count": 26,
   "metadata": {},
   "outputs": [
    {
     "data": {
      "text/plain": [
       "'/opt'"
      ]
     },
     "execution_count": 26,
     "metadata": {},
     "output_type": "execute_result"
    }
   ],
   "source": [
    "class b(object):\n",
    "\n",
    "    def __str__(self):\n",
    "        return self.path\n",
    "\n",
    "    def __init__(self):\n",
    "        self.path = '/opt'\n",
    "\n",
    "def test():\n",
    "    return \"{}\".format(b())\n",
    "\n",
    "a=test()\n",
    "a\n",
    "\n",
    "\n",
    "\n"
   ]
  },
  {
   "cell_type": "code",
   "execution_count": null,
   "metadata": {
    "collapsed": true
   },
   "outputs": [],
   "source": []
  }
 ],
 "metadata": {
  "kernelspec": {
   "display_name": "Python 2",
   "language": "python",
   "name": "python2"
  },
  "language_info": {
   "codemirror_mode": {
    "name": "ipython",
    "version": 2
   },
   "file_extension": ".py",
   "mimetype": "text/x-python",
   "name": "python",
   "nbconvert_exporter": "python",
   "pygments_lexer": "ipython2",
   "version": "2.7.13"
  },
  "toc": {
   "base_numbering": 1,
   "nav_menu": {},
   "number_sections": true,
   "sideBar": true,
   "skip_h1_title": false,
   "title_cell": "Table of Contents",
   "title_sidebar": "Contents",
   "toc_cell": false,
   "toc_position": {},
   "toc_section_display": true,
   "toc_window_display": false
  }
 },
 "nbformat": 4,
 "nbformat_minor": 2
}
