{
 "cells": [
  {
   "cell_type": "code",
   "execution_count": 1,
   "metadata": {
    "code_folding": [
     6,
     20,
     37
    ],
    "scrolled": true
   },
   "outputs": [
    {
     "name": "stderr",
     "output_type": "stream",
     "text": [
      "Bottle v0.12.13 server starting up (using WSGIRefServer())...\n",
      "Listening on http://localhost:8282/\n",
      "Hit Ctrl-C to quit.\n",
      "\n",
      "127.0.0.1 - - [23/Aug/2018 15:23:47] \"GET / HTTP/1.1\" 404 720\n"
     ]
    },
    {
     "name": "stdout",
     "output_type": "stream",
     "text": [
      "=====================================\n"
     ]
    },
    {
     "name": "stderr",
     "output_type": "stream",
     "text": [
      "127.0.0.1 - - [23/Aug/2018 15:24:00] \"GET /users HTTP/1.1\" 200 24\n",
      "127.0.0.1 - - [23/Aug/2018 15:24:13] \"GET /login HTTP/1.1\" 200 208\n"
     ]
    },
    {
     "name": "stdout",
     "output_type": "stream",
     "text": [
      "+++++++++++++ admin\n",
      "---------++_-- admin\n"
     ]
    },
    {
     "name": "stderr",
     "output_type": "stream",
     "text": [
      "127.0.0.1 - - [23/Aug/2018 15:24:38] \"POST /login HTTP/1.1\" 200 29\n"
     ]
    }
   ],
   "source": [
    "from bottle import get, post, request, run, route, template, delete, response\n",
    "import json\n",
    "\n",
    "\n",
    "users_list = ['tom', 'jerry', 'lily']\n",
    "\n",
    "def check_login(name, password):\n",
    "    return True\n",
    "    \n",
    "\n",
    "#@route('/login')\n",
    "@get('/login')\n",
    "def login_form():\n",
    "    return '''<form method = \"POST\">\n",
    "                <input name=\"name\" type=\"text\" />\n",
    "                <input name=\"password\" type=\"password\" />\n",
    "                <input type=\"submit\" value=\"Login\" />\n",
    "                </form>'''\n",
    "#@route('/login', method = 'POST')\n",
    "@post('/login')\n",
    "def login():\n",
    "    name = request.forms.get('name')\n",
    "    password = request.forms.get('password')\n",
    "    print '+++++++++++++', name\n",
    "    print '---------++_--',password\n",
    "    if check_login(name, password):\n",
    "        return '<p>Your login was correct</p>'\n",
    "    else:\n",
    "        return '<p>Login failed</p>'\n",
    "\n",
    "@route('/hello')\n",
    "@route('/hello/:name')\n",
    "def hello(name = 'World'):\n",
    "    #return template('hello', name = name)\n",
    "    return template('<b>Hello {{name}}</b>!', name=name)\n",
    "\n",
    "@get('/users')\n",
    "def users():\n",
    "    \n",
    "    print '====================================='\n",
    "    response.set_header('Content-Type', 'application/json')\n",
    "    return json.dumps(users_list)\n",
    "\n",
    "#@route('/users', method = 'POST')\n",
    "@post('/users')\n",
    "def users():\n",
    "    #form_data = request.POST\n",
    "    #print '----',form_data.keys()\n",
    "    name = request.forms.get('users')\n",
    "    #print '++++',name, dir(request.forms), request.forms.keys(), request.forms.values()\n",
    "    #print '----', request.query_string()\n",
    "    users_list.append(name)\n",
    "    \n",
    "\n",
    "\n",
    "run(host='localhost',port=8282, debug=True)"
   ]
  },
  {
   "cell_type": "code",
   "execution_count": null,
   "metadata": {
    "collapsed": true
   },
   "outputs": [],
   "source": [
    "import urllib2\n",
    "import json\n",
    "import os\n",
    "os.environ['http_proxy']=\"\"\n",
    "os.environ['https_proxy']=\"\"\n",
    "\n",
    "data = {\n",
    "    'users': 123,\n",
    "    '/users': 456\n",
    "}\n",
    "print '-----------'\n",
    "headers = {'Content-Type': 'application/json'}\n",
    "request = urllib2.Request(url='http://127.0.0.1:8282/users', headers=headers, data=json.dumps(data))\n",
    "response = urllib2.urlopen(request)"
   ]
  },
  {
   "cell_type": "code",
   "execution_count": null,
   "metadata": {
    "collapsed": true
   },
   "outputs": [],
   "source": [
    "import os\n",
    "import httplib, json\n",
    "os.environ['http_proxy']=\"\"\n",
    "os.environ['https_proxy']=\"\"\n",
    "c = httplib.HTTPConnection('localhost', 8282)\n",
    "headers = {'Content-type': 'application/json', 'Accept': 'text/plain'}\n",
    "\n",
    "import urllib,urllib2,json\n",
    "url='http://127.0.0.1:8282/users'\n",
    "values ={'users':'Smith','passwd':'123456}\n",
    "jdata = json.dumps(values)\n",
    "req = urllib2.Request(url, jdata)\n",
    "response = urllib2.urlopen(req)"
   ]
  },
  {
   "cell_type": "code",
   "execution_count": null,
   "metadata": {
    "collapsed": true
   },
   "outputs": [],
   "source": [
    "import urllib\n",
    "import urllib2\n",
    "\n",
    "test_data = {'ServiceCode':'aaaa','b':'bbbbb'}\n",
    "test_data_urlencode = urllib.urlencode(test_data)\n",
    "\n",
    "requrl = \"http://192.168.81.16/cgi-bin/python_test/test.py\"\n",
    "\n",
    "req = urllib2.Request(url = requrl,data =test_data_urlencode)\n",
    "print req\n",
    "\n",
    "res_data = urllib2.urlopen(req)\n",
    "res = res_data.read()\n",
    "print res"
   ]
  }
 ],
 "metadata": {
  "kernelspec": {
   "display_name": "Python 2",
   "language": "python",
   "name": "python2"
  },
  "language_info": {
   "codemirror_mode": {
    "name": "ipython",
    "version": 2
   },
   "file_extension": ".py",
   "mimetype": "text/x-python",
   "name": "python",
   "nbconvert_exporter": "python",
   "pygments_lexer": "ipython2",
   "version": "2.7.13"
  },
  "toc": {
   "base_numbering": 1,
   "nav_menu": {},
   "number_sections": true,
   "sideBar": true,
   "skip_h1_title": false,
   "title_cell": "Table of Contents",
   "title_sidebar": "Contents",
   "toc_cell": false,
   "toc_position": {},
   "toc_section_display": true,
   "toc_window_display": false
  }
 },
 "nbformat": 4,
 "nbformat_minor": 2
}
