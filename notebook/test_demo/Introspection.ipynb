{
 "cells": [
  {
   "cell_type": "code",
   "execution_count": 1,
   "metadata": {},
   "outputs": [
    {
     "name": "stdout",
     "output_type": "stream",
     "text": [
      "\r\n",
      "Pinging 127.0.0.1 with 32 bytes of data:\r\n",
      "Reply from 127.0.0.1: bytes=32 time<1ms TTL=128\r\n",
      "Reply from 127.0.0.1: bytes=32 time<1ms TTL=128\r\n",
      "Reply from 127.0.0.1: bytes=32 time<1ms TTL=128\r\n",
      "Reply from 127.0.0.1: bytes=32 time<1ms TTL=128\r\n",
      "\r\n",
      "Ping statistics for 127.0.0.1:\r\n",
      "    Packets: Sent = 4, Received = 4, Lost = 0 (0% loss),\r\n",
      "Approximate round trip times in milli-seconds:\r\n",
      "    Minimum = 0ms, Maximum = 0ms, Average = 0ms\r\n",
      "\n"
     ]
    }
   ],
   "source": [
    "import subprocess\n",
    "class BashWrapper(object):\n",
    "        fun_name = []\n",
    "        def __getattr__(self, fun): \n",
    "            BashWrapper.fun_name.append(fun)\n",
    "            setattr(self, fun, lambda args: subprocess.check_output('{} {}'.format(BashWrapper.fun_name[0], args),shell=True))\n",
    "            return self.fun\n",
    "              \n",
    "bash = BashWrapper()\n",
    "#print '+++', dir(bash)\n",
    "#print '--', BashWrapper.__dict__\n",
    "#setattr(bash, \"ls\", lambda *args: subprocess.check_output('{}'.format('ls', args),shell=True))\n",
    "print bash.ping(\"-i 1 127.0.0.1\")"
   ]
  },
  {
   "cell_type": "code",
   "execution_count": null,
   "metadata": {
    "collapsed": true
   },
   "outputs": [],
   "source": []
  }
 ],
 "metadata": {
  "kernelspec": {
   "display_name": "Python 2",
   "language": "python",
   "name": "python2"
  },
  "language_info": {
   "codemirror_mode": {
    "name": "ipython",
    "version": 2
   },
   "file_extension": ".py",
   "mimetype": "text/x-python",
   "name": "python",
   "nbconvert_exporter": "python",
   "pygments_lexer": "ipython2",
   "version": "2.7.14"
  }
 },
 "nbformat": 4,
 "nbformat_minor": 2
}
