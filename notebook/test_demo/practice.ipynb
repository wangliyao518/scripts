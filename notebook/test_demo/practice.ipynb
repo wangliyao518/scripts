{
 "cells": [
  {
   "cell_type": "code",
   "execution_count": 1,
   "metadata": {},
   "outputs": [
    {
     "name": "stdout",
     "output_type": "stream",
     "text": [
      "hheeLLlloo  cchhiinnaa\n"
     ]
    }
   ],
   "source": [
    "def double_char(s):\n",
    "    return  reduce(lambda x, y: x+y*2, s, \"\")\n",
    "\n",
    "a = double_char(\"heLlo china\")\n",
    "print a"
   ]
  },
  {
   "cell_type": "code",
   "execution_count": 32,
   "metadata": {},
   "outputs": [
    {
     "name": "stdout",
     "output_type": "stream",
     "text": [
      "init action in father class \n",
      "init action in father class A\n",
      "init action in father class B\n",
      "init action in father class C\n",
      "init in subclass\n"
     ]
    }
   ],
   "source": [
    "class FatherA(object):\n",
    "\n",
    "    def __init__(self):\n",
    "        print 'init action in father class A'\n",
    "\n",
    " \n",
    "class FatherB(object):\n",
    "\n",
    "    def __init__(self):\n",
    "        print 'init action in father class B'\n",
    "\n",
    "class FatherC(object):\n",
    "\n",
    "    def __init__(self):\n",
    "        print 'init action in father class C'\n",
    "\n",
    "\n",
    "class SubClass(FatherA, FatherB, FatherC):\n",
    "\n",
    "    def __init__(self):\n",
    "\n",
    "        print 'init action in father class '\n",
    "        [sub_class.__init__(self) for sub_class in SubClass.__bases__]\n",
    "            #print sub_class\n",
    "            #sub_class.__init__(self)\n",
    "        #super(SubClass, self).__init__()\n",
    "        print \"init in subclass\"\n",
    "\n",
    "        \n",
    "b = SubClass()"
   ]
  },
  {
   "cell_type": "code",
   "execution_count": 15,
   "metadata": {},
   "outputs": [
    {
     "name": "stdout",
     "output_type": "stream",
     "text": [
      "heLlo china\n"
     ]
    }
   ],
   "source": [
    "def double_char(s):\n",
    "    return  reduce(lambda x, y: x+y.strip(x[-1]), s)\n",
    "\n",
    "a = double_char(\"heeLllo cchinaa\")\n",
    "print a"
   ]
  },
  {
   "cell_type": "code",
   "execution_count": 4,
   "metadata": {},
   "outputs": [
    {
     "name": "stdout",
     "output_type": "stream",
     "text": [
      "[(1, 4), (2, 5), (3, 6)] [(6, 9), (7, 10), (8, 11)]\n"
     ]
    },
    {
     "data": {
      "text/plain": [
       "[(1, 2, 3), (4, 5, 6)]"
      ]
     },
     "execution_count": 4,
     "metadata": {},
     "output_type": "execute_result"
    }
   ],
   "source": [
    "x=[1,2,3]\n",
    "y=[4,5,6]\n",
    "a=[6,7,8]\n",
    "b=[9,10,11]\n",
    "xy=zip(x, y)\n",
    "ab=zip(a, b)\n",
    "print xy, ab\n",
    "zip(*xy)\n",
    "\n",
    "\n",
    "\n"
   ]
  },
  {
   "cell_type": "code",
   "execution_count": 6,
   "metadata": {},
   "outputs": [
    {
     "data": {
      "text/plain": [
       "[11, 12, 13, 14, 15, 16]"
      ]
     },
     "execution_count": 6,
     "metadata": {},
     "output_type": "execute_result"
    }
   ],
   "source": [
    "a=[1,2,3,4,5,6]\n",
    "[x+10 for x in a]\n",
    "[12]* 5\n"
   ]
  },
  {
   "cell_type": "code",
   "execution_count": null,
   "metadata": {
    "collapsed": true
   },
   "outputs": [],
   "source": [
    "s = \"good_morning\"\n",
    "print s[5:-1]\n",
    "a = range(1,6,2)\n",
    "print a"
   ]
  },
  {
   "cell_type": "code",
   "execution_count": 8,
   "metadata": {},
   "outputs": [
    {
     "name": "stdout",
     "output_type": "stream",
     "text": [
      "1\n"
     ]
    }
   ],
   "source": [
    "x, y =1, 2\n",
    "min = x if x<y else y\n",
    "print min"
   ]
  },
  {
   "cell_type": "code",
   "execution_count": 10,
   "metadata": {},
   "outputs": [
    {
     "name": "stdout",
     "output_type": "stream",
     "text": [
      "20 ('a',) {}\n",
      "func info: a\n",
      "21 ('b',) {}\n",
      "func info: b\n",
      "20 ('c',) {}\n",
      "func info: c\n"
     ]
    }
   ],
   "source": [
    "def wrap_info (f):\n",
    "    b = {\"b\":20};\n",
    "    def inner_func (*p, **k):\n",
    "        print b['b'], p, k\n",
    "        b['b'] += 1\n",
    "        f(*p, **k)\n",
    "    return inner_func\n",
    "\n",
    "def info (s):\n",
    "    print \"func info: %s\" % s\n",
    "\n",
    "\n",
    "f1 = wrap_info (info)   #fl = innner_func\n",
    "f1 (\"a\")                #inner_func('a')  20, a, {}   ;intfo('a'),  func info: a\n",
    "f2 = wrap_info (info)   #f2 = inner_func\n",
    "f1 (\"b\")                #innerf_func('b')  21, b, {} ; info('b'),    func info: b \n",
    "f2 (\"c\")                #20, c, func info: c\n"
   ]
  },
  {
   "cell_type": "code",
   "execution_count": 5,
   "metadata": {},
   "outputs": [
    {
     "name": "stdout",
     "output_type": "stream",
     "text": [
      "log from parent\n"
     ]
    }
   ],
   "source": [
    "class parent(object):\n",
    "    def __init__(self):\n",
    "        self.name = 'parent'\n",
    "    def log(self):\n",
    "        print 'log from %s' % self.name\n",
    "\n",
    "class son(parent):\n",
    "    def __init__(self):\n",
    "        self.name = 'son'\n",
    "\n",
    "    def log(self):\n",
    "        print 'log from %s' % self.name\n",
    "        \n",
    "p = parent()\n",
    "s = son()\n",
    "parent.log(s)\n",
    "\n",
    "\n",
    "        \n",
    "\n",
    "\n"
   ]
  },
  {
   "cell_type": "code",
   "execution_count": 1,
   "metadata": {},
   "outputs": [
    {
     "name": "stdout",
     "output_type": "stream",
     "text": [
      "zhangsan\n",
      "30\n",
      "man\n",
      "yanyi\n"
     ]
    }
   ],
   "source": [
    "class Person(object):  \n",
    "    def __init__(self,name,age,sex):  \n",
    "        self.name=name  \n",
    "        self.age= age  \n",
    "        self.sex=sex  \n",
    "    def disPlay(self):  \n",
    "        print self.name  \n",
    "        print self.age  \n",
    "        print self.sex  \n",
    "#Student inherit fromm Person           \n",
    "class Student(Person):  \n",
    "    def __init__(self, name, age, sex, gardon):  \n",
    "        super(Student, self).__init__(name, age, sex)   #note:Please use parent class __init__ \n",
    "        self.gardon = gardon  \n",
    "    def disPlay(self):              #note: Override display \n",
    "        #Person.disPlay(self)\n",
    "        super(Student, self).disPlay()\n",
    "        print self.gardon\n",
    "\n",
    "stu1 = Student(\"zhangsan\", 30, \"man\", \"yanyi\")   \n",
    "stu1.disPlay()  \n"
   ]
  },
  {
   "cell_type": "code",
   "execution_count": null,
   "metadata": {
    "collapsed": true
   },
   "outputs": [],
   "source": [
    "def operate_fun(a, b, oper):\n",
    "\n",
    "    return float('%0.2f'%eval('{}{}{}'.format(float(a), oper, float(b))))"
   ]
  },
  {
   "cell_type": "code",
   "execution_count": 17,
   "metadata": {},
   "outputs": [
    {
     "name": "stdout",
     "output_type": "stream",
     "text": [
      "accuracy score:\n",
      "0.9\n",
      "             precision    recall  f1-score   support\n",
      "\n",
      "          0       1.00      1.00      1.00        10\n",
      "          1       0.88      0.78      0.82         9\n",
      "          2       0.83      0.91      0.87        11\n",
      "\n",
      "avg / total       0.90      0.90      0.90        30\n",
      "\n",
      "\n",
      "\n",
      "[  8.86511141e-26   5.64775369e-01   4.35224631e-01]\n",
      "('Predict label:', 1)\n",
      "('Correct label:', 1)\n",
      "[  9.99999942e-01   3.78533502e-08   2.02808786e-08]\n",
      "('Predict label:', 0)\n",
      "('Correct label:', 0)\n",
      "[  9.92889672e-70   8.98623548e-02   9.10137645e-01]\n",
      "('Predict label:', 2)\n",
      "('Correct label:', 2)\n",
      "[  4.40394869e-21   5.97659713e-01   4.02340287e-01]\n",
      "('Predict label:', 1)\n",
      "('Correct label:', 1)\n",
      "[  5.68223856e-43   2.90652338e-01   7.09347662e-01]\n",
      "('Predict label:', 2)\n",
      "('Correct label:', 1)\n"
     ]
    }
   ],
   "source": [
    "import numpy as npy  \n",
    "from sklearn import linear_model, datasets  \n",
    "from sklearn.cross_validation import train_test_split  \n",
    "from sklearn.feature_extraction import DictVectorizer  \n",
    "from sklearn.metrics import accuracy_score, classification_report  \n",
    "  \n",
    "iris = datasets.load_iris()  \n",
    "X = iris.data[:, :2]  # we only take the first two features.  \n",
    "Y = iris.target \n",
    "\n",
    "#print len(X)\n",
    "#for n in range(150):  \n",
    "#    print(X[n], Y[n])\n",
    "\n",
    "X_train, X_test, y_train, y_test = train_test_split(X, Y, test_size=0.2, random_state=42)\n",
    "logreg = linear_model.LogisticRegression(C=1e5, solver='lbfgs',multi_class='multinomial')\n",
    "logreg.fit(X_train, y_train)\n",
    "prediction = logreg.predict(X_test)  \n",
    "print(\"accuracy score:\")  \n",
    "print(accuracy_score(y_test, prediction))  \n",
    "print(classification_report(y_test, prediction))\n",
    "      \n",
    "class MyLogisticRegression:  \n",
    "\n",
    "    def __init__(self, weights, constants, labels):  \n",
    "        self.weights = weights  \n",
    "        self.constants = constants  \n",
    "        self.labels = labels  \n",
    "\n",
    "    def predict_proba(self,X):  \n",
    "        proba_list = []  \n",
    "        len_label = len(self.labels)  \n",
    "        for n in X: #.toarray():  \n",
    "            pb = []  \n",
    "            count = 0  \n",
    "            for i in range(len_label):  \n",
    "                value = npy.exp(npy.dot(n, self.weights[i]) + self.constants[i])  \n",
    "                count = count + value  \n",
    "                pb.append(value)  \n",
    "            proba_list.append([x/count for x in pb])  \n",
    "        return npy.asarray(proba_list)  \n",
    "\n",
    "    def predict(self,X):  \n",
    "        proba_list = self.predict_proba(X)  \n",
    "        predicts = []  \n",
    "        for n in proba_list.tolist():  \n",
    "            i = n.index(max(n))  \n",
    "            predicts.append(self.labels[i])  \n",
    "        return npy.asarray(predicts)\n",
    "\n",
    "print('\\n')  \n",
    "my_logreg = MyLogisticRegression(logreg.coef_, logreg.intercept_, logreg.classes_)  \n",
    "my_logreg_proba = my_logreg.predict_proba(X_test)  \n",
    "my_logreg_pred = my_logreg.predict(X_test)  \n",
    "for index in range (5):  \n",
    "    print(my_logreg_proba[index])  \n",
    "    print(\"Predict label:\", my_logreg_pred[index])  \n",
    "    print(\"Correct label:\", y_test[index])\n",
    "\n"
   ]
  },
  {
   "cell_type": "code",
   "execution_count": 44,
   "metadata": {},
   "outputs": [
    {
     "ename": "SyntaxError",
     "evalue": "invalid syntax (<ipython-input-44-ad6964494e35>, line 17)",
     "output_type": "error",
     "traceback": [
      "\u001b[0;36m  File \u001b[0;32m\"<ipython-input-44-ad6964494e35>\"\u001b[0;36m, line \u001b[0;32m17\u001b[0m\n\u001b[0;31m    a=sum(data1[i+1]) for i in xrange(sum(data1[i])/10 + data1[i][0]/10)\u001b[0m\n\u001b[0m                        ^\u001b[0m\n\u001b[0;31mSyntaxError\u001b[0m\u001b[0;31m:\u001b[0m invalid syntax\n"
     ]
    }
   ],
   "source": [
    "def calculator_backup(data):\n",
    "    total = 0\n",
    "    data1=[[0,0] for i in xrange(12)]\n",
    "    data1[:len(data)] = data\n",
    "    for i in xrange(10):\n",
    "        total += sum(data1[i]) \n",
    "        for i in xrange(sum(data1[i])/10 + data1[i][0]/10):\n",
    "            total += sum(data1[i+1])\n",
    "    print total\n",
    "    \n",
    "def calculator(data):\n",
    "    total = 0\n",
    "    data1=[[0,0] for i in xrange(12)]\n",
    "    data1[:len(data)] = data\n",
    "    for i in xrange(10):\n",
    "        total = total + sum(data1[i])\n",
    "        a=sum(data1[i+1]) for i in xrange(sum(data1[i])/10 + data1[i][0]/10)\n",
    "\n",
    "    print total\n",
    "\n",
    "test_1_data = [[10, 0], [10, 0], [10, 0], [10, 0], [10, 0], [10, 0],[10, 0],[10, 0], [10, 0], [10, 0], [10, 0], [10, 0],]\n",
    "test_2_data = [[10, 0], [10, 0], [10, 0], [10, 0], [10, 0], [10, 0],[10, 0],[10, 0], [10, 0], [0, 0]]\n",
    "test_3_data = [[9, 0], [9, 1], [10, 0], [10, 0], [10, 0], [10, 0],[10, 0],[10, 0], [10, 0], [0, 0]]\n",
    "\n",
    "calculator(test_3_data)\n",
    "\n",
    "\n",
    "\n",
    "#[sum(data[i]) + sum(data[i + sum(data[i])/10]) + sum(data[i + sum(data[i], data[i][0])/20*2])*sum(data[i], data[i][0])/20 for i in xrange(0, len(data)-2)]\n",
    "\n"
   ]
  },
  {
   "cell_type": "code",
   "execution_count": 63,
   "metadata": {},
   "outputs": [
    {
     "name": "stdout",
     "output_type": "stream",
     "text": [
      "['1', '2', '3', '3']\n",
      "[0, 1, 2, 2]\n",
      "---- 62.4 0 1 1 1 0\n"
     ]
    }
   ],
   "source": [
    "def calculator_book(data):\n",
    "    tmp = list(data)\n",
    "    print tmp\n",
    "    for i in xrange(len(tmp)):\n",
    "        tmp[i] = int(tmp[i])-1    \n",
    "    print tmp\n",
    "    \n",
    "calculator_book('1233')\n",
    "data = ['a', 'b', 'b', 'c', 'c', 'c', 'd', 'd', 'd']\n",
    "from itertools import combinations\n",
    "list_data = []\n",
    "list(combinations(data, 2))\n",
    "\n",
    "string_data = '1233'\n",
    "total = 1000000\n",
    "for a in xrange(0, 10):\n",
    "    for b in xrange(0, 4):\n",
    "        for c in xrange(0, 3):\n",
    "            for d in xrange(0, 2):\n",
    "                for e in xrange(0, 1):\n",
    "                    if a+2*b+3*c+4*d+5*e==9:\n",
    "                        tmp = 8*a + 0.95*8*2*b + 0.9*8*3*c +0.8*8*4*d +0.75*8*5*e\n",
    "                        if tmp<total:\n",
    "                            A,B,C,D,E=a,b,c,d,e\n",
    "                            total = tmp\n",
    "                        #print a, b, c, d, e\n",
    "print '----', total, A,B,C,D,E\n",
    "\n",
    "#a+b+c+d+e = sum（[int(i) for i in string_data])\n",
    "#a=sum([int(i) for i in string_data])\n",
    "#print a\n",
    "#print 0<=a<=sum([int(i) for i in string_data])\n",
    "#print len(string_data)*(len(string_data)-1)/2\n",
    "#print 0<=b<=(len(string_data)*(len(string_data)-1)/2)\n",
    "#print 0=<c<=9\n",
    "\n",
    "A=['a']\n",
    "B=['b', 'b']\n",
    "C=['c', 'c', 'c']\n",
    "D=['d', 'd', 'd']\n",
    "E=[\"\"]\n",
    "\n",
    "\n",
    "def group():\n",
    "    pass\n",
    "\n",
    "\n",
    "# collections = set()\n",
    "# for a in A:\n",
    "#     for b in B:\n",
    "#         for c in C:\n",
    "#             for d in D:\n",
    "#                 for e in E:\n",
    "#                     collections.add(a+b+c+d+e)\n",
    "#                     print a,b,c,d,e\n",
    "\n",
    "# print collections\n"
   ]
  },
  {
   "cell_type": "code",
   "execution_count": null,
   "metadata": {
    "collapsed": true,
    "scrolled": false
   },
   "outputs": [],
   "source": [
    "class Fib():\n",
    "    def __init__(self):\n",
    "        self.prev = 0\n",
    "        self.curr = 1\n",
    " \n",
    "    def __iter__(self):\n",
    "        return self\n",
    " \n",
    "    def next(self):\n",
    "        return iter([1, 2, 3])\n",
    "a=Fib()\n",
    "next(a)\n",
    "        \n",
    "        \n",
    "        \n",
    "    \n",
    "\n"
   ]
  },
  {
   "cell_type": "code",
   "execution_count": 21,
   "metadata": {},
   "outputs": [
    {
     "name": "stdout",
     "output_type": "stream",
     "text": [
      "------------------\n"
     ]
    },
    {
     "ename": "KeyboardInterrupt",
     "evalue": "",
     "output_type": "error",
     "traceback": [
      "\u001b[0;31m---------------------------------------------------------------------------\u001b[0m",
      "\u001b[0;31mKeyboardInterrupt\u001b[0m                         Traceback (most recent call last)",
      "\u001b[0;32m<ipython-input-21-c82bb650d89c>\u001b[0m in \u001b[0;36m<module>\u001b[0;34m()\u001b[0m\n\u001b[1;32m      5\u001b[0m \u001b[1;32mprint\u001b[0m \u001b[1;34m'------------------'\u001b[0m\u001b[1;33m\u001b[0m\u001b[0m\n\u001b[1;32m      6\u001b[0m \u001b[0mret\u001b[0m \u001b[1;33m=\u001b[0m \u001b[0mitertools\u001b[0m\u001b[1;33m.\u001b[0m\u001b[0mpermutations\u001b[0m\u001b[1;33m(\u001b[0m\u001b[0mdata\u001b[0m\u001b[1;33m)\u001b[0m\u001b[1;33m\u001b[0m\u001b[0m\n\u001b[0;32m----> 7\u001b[0;31m \u001b[1;32mfor\u001b[0m \u001b[0meach_data\u001b[0m \u001b[1;32min\u001b[0m \u001b[0mret\u001b[0m\u001b[1;33m:\u001b[0m\u001b[1;33m\u001b[0m\u001b[0m\n\u001b[0m\u001b[1;32m      8\u001b[0m     \u001b[1;32mif\u001b[0m \u001b[0mabs\u001b[0m\u001b[1;33m(\u001b[0m\u001b[0meach_data\u001b[0m\u001b[1;33m.\u001b[0m\u001b[0mindex\u001b[0m\u001b[1;33m(\u001b[0m\u001b[1;36m14\u001b[0m\u001b[1;33m)\u001b[0m \u001b[1;33m-\u001b[0m \u001b[0meach_data\u001b[0m\u001b[1;33m.\u001b[0m\u001b[0mindex\u001b[0m\u001b[1;33m(\u001b[0m\u001b[1;36m41\u001b[0m\u001b[1;33m)\u001b[0m\u001b[1;33m)\u001b[0m\u001b[1;33m<=\u001b[0m\u001b[1;36m5\u001b[0m\u001b[1;33m:\u001b[0m\u001b[1;33m\u001b[0m\u001b[0m\n\u001b[1;32m      9\u001b[0m         \u001b[0meach_data_len\u001b[0m\u001b[1;33m=\u001b[0m\u001b[0mlen\u001b[0m\u001b[1;33m(\u001b[0m\u001b[0meach_data\u001b[0m\u001b[1;33m)\u001b[0m\u001b[1;33m-\u001b[0m\u001b[1;36m1\u001b[0m\u001b[1;33m\u001b[0m\u001b[0m\n",
      "\u001b[0;31mKeyboardInterrupt\u001b[0m: "
     ]
    }
   ],
   "source": [
    "T=5\n",
    "data=[11,12,13,14,21,23,24,31,33,34,41,42,43]\n",
    "start, end=41, 14\n",
    "import itertools\n",
    "print '------------------'\n",
    "ret = itertools.permutations(data)\n",
    "for each_data in ret:\n",
    "    if abs(each_data.index(14) - each_data.index(41))<=5:\n",
    "        each_data_len=len(each_data)-1\n",
    "        for index, ele in enumerate(each_data):\n",
    "            value =  abs(each_data[index+1]-each_data[index])\n",
    "            if value!=1 and value!=10:\n",
    "                break\n",
    "            if index==each_data_len:\n",
    "                print 'yes'\n",
    "                print each_data\n",
    "                break\n",
    "print '++++++'\n",
    "\n"
   ]
  },
  {
   "cell_type": "code",
   "execution_count": null,
   "metadata": {
    "collapsed": true
   },
   "outputs": [],
   "source": [
    "import itertools\n",
    "T=5\n",
    "data1=[11,12,13,14,21,23,24,31,33,34,41,42,43]\n",
    "print '------------------'\n",
    "def find_data():\n",
    "    data=[11,12,13,22,23,32,33,41,42]\n",
    "    start_data, end_data=13, 41\n",
    "    ret=itertools.permutations(data)\n",
    "    for each_data in ret:\n",
    "        end_index = each_data.index(end_data) \n",
    "        start_index = each_data.index(start_data)\n",
    "        if start_index>end_index:\n",
    "            start_index, end_index = end_index, start_index\n",
    "        if abs(start_index - end_index)<=5:\n",
    "            each_data_len=end_index-start_index-1 \n",
    "            for index, ele in enumerate(each_data[start_index:end_index+1]):\n",
    "                value =  abs(each_data[start_index+index+1]-each_data[start_index+index])\n",
    "                if value!=1 and value!=10:\n",
    "                    #print each_data\n",
    "                    break\n",
    "                if index==each_data_len:\n",
    "                    print 'yes', each_data[index+1], each_data[index]\n",
    "                    print each_data\n",
    "                    return True\n",
    "print '++++++++'"
   ]
  },
  {
   "cell_type": "code",
   "execution_count": 115,
   "metadata": {},
   "outputs": [
    {
     "name": "stdout",
     "output_type": "stream",
     "text": [
      "['91', '82', '62', '40', '03', '71', '13', '19', '46', '46', '4', '00']\n",
      "[(9, 1), (8, 2), (6, 2), (4, 0), (0, 3), (7, 1), (1, 3), (1, 9), (4, 6), (4, 6), (0, 4), (0, 0)]\n",
      "[20, 18, 8, 4, 3, 8, 4, 20, 20, 14]\n"
     ]
    }
   ],
   "source": [
    "test_data=\"9/|8/|62|4-|-3|71|13|-/|4/|4/||4\"\n",
    "test_data = test_data.replace(\"||\",\"|\").replace(\"X\", '100').replace('-/', '19').replace(\"-\", '0').split(\"|\")    \n",
    "\n",
    "data=['00']*12; new_data = [[0, 0]]*12\n",
    "data[0:len(test_data)] = test_data\n",
    "data_tmp = [i.replace(\"/\", str(10-int(i[0]))) for i in data]\n",
    "print data_tmp\n",
    "for i, j in enumerate(data_tmp):\n",
    "    new_data[i]= int(j)/10, int(j)%10\n",
    "print new_data\n",
    "\n",
    "#total_list = [sum(new_data[i]) + sum(new_data[i + sum(new_data[i])/10]) + sum(new_data[i + sum(new_data[i], new_data[i][0])/20*2])*(sum(new_data[i], new_data[i][0])/20) for i in xrange(0, 10)]\n",
    "total_list = [sum(new_data[i]) + (sum(new_data[i])/10)*(sum(new_data[i + sum(new_data[i])/10]) + sum(new_data[i + sum(new_data[i], new_data[i][0])/20*2])*(sum(new_data[i], new_data[i][0])/20)) for i in xrange(0, 10)]\n",
    "print total_list\n",
    "#print reduce(lambda x,y :  x+y, total_list,0)\n",
    "#for each_data in test_data:\n",
    "    #if \"/\" in each_data:\n",
    "#    each_data = each_data.replace(\"/\", str(10-int(each_data[0])))\n",
    "    #print each_data\n",
    "#    data.append(each_data)\n",
    "#print data    "
   ]
  },
  {
   "cell_type": "code",
   "execution_count": null,
   "metadata": {
    "collapsed": true
   },
   "outputs": [],
   "source": [
    "# -*- coding: utf-8 -*-\n",
    "#test_data=\"9/|8/|62|4-|-3|71|13|-/|4/|4/||4\"\n",
    "test_data = \"5/|5/|5/|5/|5/|5/|5/|5/|5/|5/||5 \"\n",
    "\n",
    "test_data = test_data.replace(\"||\",\"|\").replace(\"X\", '100').replace('-/', '19').replace(\"-\", '0').split(\"|\")\n",
    "\n",
    "data=['00']*12; new_data = [[0, 0]]*12\n",
    "data[0:len(test_data)] = test_data\n",
    "data_tmp = [i.replace(\"/\", str(10-int(i[0]))) for i in data]\n",
    "print data_tmp\n",
    "for i, j in enumerate(data_tmp):\n",
    "    new_data[i]= int(j)/10, int(j)%10\n",
    "print new_data\n",
    "\n",
    "#total_list = [sum(new_data[i]) + sum(new_data[i + sum(new_data[i])/10]) + sum(new_data[i + sum(new_data[i], new_data[i][0])/20*2])*(sum(new_data[i], new_data[i][0])/20) for i in xrange(0, 10)]\n",
    "total_list = [sum(new_data[i]) + (sum(new_data[i])/10)*(sum(new_data[i + sum(new_data[i])/10]) + sum(new_data[i + sum(new_data[i], new_data[i][0])/20*2])*(sum(new_data[i], new_data[i][0])/20)) for i in xrange(0, 10)]\n",
    "print total_list\n",
    "print reduce(lambda x,y :  x+y, total_list,0)\n",
    "\n"
   ]
  },
  {
   "cell_type": "code",
   "execution_count": 112,
   "metadata": {},
   "outputs": [
    {
     "name": "stdout",
     "output_type": "stream",
     "text": [
      "15\n",
      "['X', '7/', '90', 'X', '08', '8/', '06', 'X', 'X', 'X', '', '81']\n",
      "['10', '7', '/', '9', '0', '10', '0', '8', '8', '/', '0', '6', '10', '10', '10', '8', '1']\n",
      "[20, 7.0, 12.0, 9.0, 0.0, 18.0, 0.0, 8.0, 8.0, 2.0, 0.0, 6.0, 30.0, 28.0, 19.0, 8.0, 1.0]\n",
      "['10', '7', '/', '9', '0', '10', '0', '8', '8', '/', '0', '6', '10', '10', '10', '8', '1']\n",
      "10\n",
      "167\n"
     ]
    }
   ],
   "source": [
    "# -*- coding: utf-8 -*-\n",
    "#test_data=\"9/|8/|62|4-|-3|71|13|-/|4/|4/||4\"\n",
    "test_data = \"9-|9-|9-|9-|9-|9-|9-|9-|9-|9-||\"\n",
    "test_data = \"X|X|X|X|X|X|X|X|X|X||XX\"\n",
    "test_data = \"5/|5/|5/|5/|5/|5/|5/|5/|5/|5/||5\"\n",
    "test_data = \"X|7/|9-|X|-8|8/|-6|X|X|X||81\"\n",
    "edge_index = test_data.index(\"||\") - test_data[:test_data.index(\"||\")].count('|')\n",
    "print edge_index\n",
    "\n",
    "test_data = test_data.replace(\"-\", '0').strip().split(\"|\")\n",
    "print test_data\n",
    "data = []\n",
    "[data.extend(list(i)) for i in test_data]\n",
    "data = [i.replace(\"X\", \"10\") for i in data]\n",
    "print data\n",
    "\n",
    "course_data = []\n",
    "for index, each_data in enumerate(data):\n",
    "     if \"/\" in each_data:\n",
    "        course_data.append(10 - float(data[index-1]) + float(data[index+1]))\n",
    "     if \"10\" in each_data  and index<edge_index and data[index+2]==\"/\":\n",
    "        course_data.append(20)\n",
    "     elif \"10\" in each_data and index<edge_index:\n",
    "        course_data.append(10 + float(data[index+1]) +float(data[index+2]))\n",
    "     elif \"/\" not in each_data:\n",
    "        course_data.append(float(each_data))\n",
    "print course_data\n",
    "print data\n",
    "print test_data.index(\"\")\n",
    "print int(reduce(lambda x,y :  float(x)+float(y), course_data[:edge_index],0))\n",
    "#for index, each_node in enumerate(data):\n",
    "#     if index==10:\n",
    "#         break    \n",
    "#     if \"/\" in each_node:\n",
    "#         next_index =2 if index==9 else 1\n",
    "#         current_value = 10 - float(data[index-1]) + float((data[index+next_index]).replace(\"X\", '10'))\n",
    "#         print '---',current_value\n",
    "#     elif 'X' in each_node:\n",
    "#         print each_node\n",
    "#     else:\n",
    "#         current_value = float(each_node)\n",
    "\n",
    "\n",
    "#:\n",
    "#def count_each_value(data):\n",
    "#    if \"/\" or \"X\" in test_data:\n",
    "#        return 10\n",
    "#    else:\n",
    "#        return int(data)\n",
    "#for index, every_group in enumerate(test_data):\n",
    "#    if 'X'==every_group:\n",
    "#        current_value = count_each_valueQAt_each_value(every_group)    \n",
    "#    current_value = count_each_value(every_group)\n",
    "#    print \"++++===\", current_value\n",
    "#for index, every_group in enumerate(test_data):\n",
    "#    print '___', index\n",
    "#    if index == 10:\n",
    "#        break    \n",
    "#    if \"/\" in every_group:\n",
    "#        next_index = 2 if index==10 else 1\n",
    "#        print '====',test_data[index+next_index][0].replace('X', 10)\n",
    "#        current_value = 10 + int(test_data[index+next_index][0].replace('X', 10))\n",
    "#    if \"X\" in every_group:\n",
    "#        pass\n",
    "#    print current_value\n",
    "#    total_value += current_value\n",
    "#print total_value\n",
    "#data=['00']*12; new_data = [[0, 0]]*12\n",
    "#data[0:len(test_data)] = test_data\n",
    "#data_tmp = [i.replace(\"/\", str(10-int(i[0]))) for i in data]\n",
    "#print data_tmp\n"
   ]
  },
  {
   "cell_type": "code",
   "execution_count": 104,
   "metadata": {},
   "outputs": [
    {
     "name": "stdout",
     "output_type": "stream",
     "text": [
      "['9-', '9-', '9-', '9-', '9-', '9-', '9-', '9-', '9-', '9-', '', '']\n"
     ]
    }
   ],
   "source": [
    "test_data = \"9-|9-|9-|9-|9-|9-|9-|9-|9-|9-||\"\n",
    "\n",
    "def my_count(a, b=0, c=0):\n",
    "    if a.isalpha()\n",
    "        test_data\n",
    "    if \"/\" in a:\n",
    "        value = 10 + my_count()\n",
    "count(test_data.split(\"|\"))\n",
    "#     if '/' in data:\n",
    "#         value = 10 +  count()\n",
    "#     if \"-\" in data:\n",
    "#         value = int(data[0])\n",
    "#     if 'X' in data:\n",
    "#         value = 10 + count(next_data) + count()\n",
    "        \n"
   ]
  },
  {
   "cell_type": "code",
   "execution_count": 142,
   "metadata": {},
   "outputs": [
    {
     "name": "stdout",
     "output_type": "stream",
     "text": [
      "14 16 17 15 18\n",
      "---- 490.4 1 1 1 1 14\n"
     ]
    }
   ],
   "source": [
    "data = \"53535341532333552421153122532224531451214533345121155451243411423124254253442345\"\n",
    "\n",
    "a_num = data.count(\"1\")\n",
    "b_num = data.count(\"2\")\n",
    "c_num = data.count(\"3\")\n",
    "d_num = data.count(\"4\")\n",
    "e_num = data.count(\"5\")\n",
    "print a_num,b_num, c_num, d_num,e_num\n",
    "a_range= a_num + b_num + c_num + d_num + e_num\n",
    "total = a_range*8\n",
    "for a in xrange(0, a_range+1):\n",
    "    for b in xrange(0, 11):        #5\n",
    "        for c in xrange(0, 11):    #3\n",
    "            for d in xrange(0, 16):    #3\n",
    "                for e in xrange(0, 15):\n",
    "                    if a+2*b+3*c +4*d+5*e == a_range and e+d<=15 and 14<e+d+c+b<=18 and c+d+e<=16 and a+b+c+d+e<=18:\n",
    "                        tmp = 8*a + 0.95*8*2*b+0.9*8*3*c + 0.8*8*4*d + 0.75*8*5*e\n",
    "                        if tmp<total:\n",
    "                            A,B,C,D,E=a,b,c,d,e\n",
    "                            total = tmp\n",
    "                        #print a, b, c, d, e\n",
    "print '----', total, A,B,C,D,E\n"
   ]
  },
  {
   "cell_type": "code",
   "execution_count": null,
   "metadata": {
    "collapsed": true
   },
   "outputs": [],
   "source": [
    "pad = curses.newpad(100, 100)\n",
    "#  These loops fill the pad with letters; this is\n",
    "# explained in the next section\n",
    "for y in range(0, 100):\n",
    "    for x in range(0, 100):\n",
    "        try: pad.addch(y,x, ord('a') + (x*x+y*y) % 26 )\n",
    "        except curses.error: pass\n",
    "\n",
    "#  Displays a section of the pad in the middle of the screen\n",
    "pad.refresh( 0,0, 5,5, 20,75)\n",
    "\n",
    "\n"
   ]
  },
  {
   "cell_type": "code",
   "execution_count": 2,
   "metadata": {},
   "outputs": [
    {
     "name": "stdout",
     "output_type": "stream",
     "text": [
      "True\n",
      "True\n",
      "True\n",
      "True\n",
      "True\n",
      "True\n",
      "True\n",
      "True\n"
     ]
    }
   ],
   "source": [
    "##old code like this\n",
    "# if self.build_no.startswith('TL') or 'TDD' in self.build_no:\n",
    "#             if tl_index == 1:\n",
    "#                 build = abi_build\n",
    "#             else:\n",
    "#                 build = self.build_no\n",
    "#         else:\n",
    "#             if tl_index == 1:\n",
    "#                 build = self.build_no\n",
    "#             else:\n",
    "#                 build = abi_build\n",
    "\n",
    "def test(build_no, tl_index=1):\n",
    "    abi_build = \"abi_build\"\n",
    "    if build_no.startswith('TL') or 'TDD' in build_no:\n",
    "        if tl_index == 1:\n",
    "            build = abi_build\n",
    "        else:\n",
    "            build = build_no\n",
    "    else:\n",
    "        if tl_index == 1:\n",
    "            build = build_no\n",
    "        else:\n",
    "            build = abi_build\n",
    "    return build\n",
    "\n",
    "def test_new(build_no, tl_index=1):\n",
    "    abi_build = \"abi_build\"\n",
    "    a, b = abi_build, build_no\n",
    "    (a, b) = (a, b) if (build_no.startswith('TL') or 'TDD' in build_no) else (b, a)\n",
    "    build = a if tl_index == 1 else b\n",
    "    return build\n",
    "\n",
    "print test('TL00_1208_1145')==test_new('TL00_1208_1145')\n",
    "print test('SBTSTDD_1219_1432') == test_new('SBTSTDD_1219_1432')\n",
    "print test('TL00_1208_1145', 2)==test_new('TL00_1208_1145', 2)\n",
    "print test('SBTSTDD_1219_1432', 2) == test_new('SBTSTDD_1219_1432', 2)\n",
    "\n",
    "print test('FL00_1208_1145')==test_new('FL00_1208_1145')\n",
    "print test('SBTSFDD_1219_1432') == test_new('SBTSFDD_1219_1432')\n",
    "print test('FL00_1208_1145', 2)==test_new('FL00_1208_1145', 2)\n",
    "print test('SBTSFDD_1219_1432', 2) == test_new('SBTSFDD_1219_1432', 2)"
   ]
  },
  {
   "cell_type": "code",
   "execution_count": 5,
   "metadata": {},
   "outputs": [
    {
     "name": "stdout",
     "output_type": "stream",
     "text": [
      "cm setup\n"
     ]
    }
   ],
   "source": [
    "class PM(object):\n",
    "\n",
    "    def _setup(self):\n",
    "        print 'pm setup'\n",
    "\n",
    "    def get(self):\n",
    "        print 'pm get function'\n",
    "\n",
    "    def pm_keyword(self):\n",
    "        self._setup()\n",
    "\n",
    "class CM(object):\n",
    "\n",
    "    def _setup(self):\n",
    "        print 'cm setup'\n",
    "\n",
    "    def get(self):\n",
    "        print 'cm get function'\n",
    "\n",
    "    def cm_keyword(self):\n",
    "        CM._setup(self)\n",
    "\n",
    "\n",
    "class SM(object):\n",
    " \n",
    "    def _setup(self):\n",
    "        print 'SM setup'\n",
    "\n",
    "    def get(self):\n",
    "        print 'SM get function'\n",
    "\n",
    "    def sm_keyword(self):\n",
    "        self._setup()\n",
    "        \n",
    "class interface(SM, CM, PM): #multiple inherit need take care of the same name function\n",
    "    pass\n",
    "\n",
    "interface().cm_keyword()\n",
    "\n",
    " \n",
    "\n",
    "\n",
    "    \n",
    "    \n",
    "\n",
    "\n"
   ]
  },
  {
   "cell_type": "code",
   "execution_count": null,
   "metadata": {},
   "outputs": [],
   "source": []
  }
 ],
 "metadata": {
  "kernelspec": {
   "display_name": "Python 2",
   "language": "python",
   "name": "python2"
  },
  "language_info": {
   "codemirror_mode": {
    "name": "ipython",
    "version": 2
   },
   "file_extension": ".py",
   "mimetype": "text/x-python",
   "name": "python",
   "nbconvert_exporter": "python",
   "pygments_lexer": "ipython2",
   "version": "2.7.13"
  }
 },
 "nbformat": 4,
 "nbformat_minor": 2
}
