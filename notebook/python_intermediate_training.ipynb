{
 "cells": [
  {
   "cell_type": "markdown",
   "metadata": {
    "slideshow": {
     "slide_type": "slide"
    }
   },
   "source": [
    "# Python Intermediate\n",
    "\n",
    "![python](https://upload.wikimedia.org/wikipedia/commons/c/c3/Python-logo-notext.svg)\n",
    "### <center>--by wang liyao (leo)<center> ###"
   ]
  },
  {
   "cell_type": "markdown",
   "metadata": {
    "slideshow": {
     "slide_type": "slide"
    }
   },
   "source": [
    "## agenda  ##\n",
    "\n",
    "- Functional programming\n",
    "- Decorator\n",
    "- Unit Testing\n",
    "- Introspection\n",
    "- Parallel Handling\n",
    "- Web Development\n",
    "- Reference\n",
    "- Q&A\n",
    "\n",
    "\n",
    "\n",
    "\n"
   ]
  },
  {
   "cell_type": "markdown",
   "metadata": {
    "slideshow": {
     "slide_type": "slide"
    }
   },
   "source": [
    "## Functional programming\n",
    "\n",
    "![lambda](/files/images/lambda.png)"
   ]
  },
  {
   "cell_type": "markdown",
   "metadata": {
    "slideshow": {
     "slide_type": "subslide"
    }
   },
   "source": [
    ">it’s almost certainly ture that functional programming is the next big thing\n",
    "\n",
    "--- Uncle Bob Martin"
   ]
  },
  {
   "cell_type": "code",
   "execution_count": null,
   "metadata": {
    "collapsed": true,
    "slideshow": {
     "slide_type": "subslide"
    }
   },
   "outputs": [],
   "source": [
    "# use function as parameter\n",
    "def get_visit_ips(file_path, callback):\n",
    "    with open(file_pth) as fp:\n",
    "        return [callback(line) for line in fp]"
   ]
  },
  {
   "cell_type": "code",
   "execution_count": null,
   "metadata": {
    "collapsed": true,
    "slideshow": {
     "slide_type": "subslide"
    }
   },
   "outputs": [],
   "source": [
    "# return function\n",
    "def cache(func):\n",
    "    cached = {}\n",
    "    def _func(attr, *args, **kwargs):\n",
    "        if attr not in cached:\n",
    "            cached[attr] = func(attr, *args, **kwargs)\n",
    "        return cached[attr]\n",
    "    \n",
    "    return _func\n",
    "        "
   ]
  },
  {
   "cell_type": "code",
   "execution_count": null,
   "metadata": {
    "collapsed": true,
    "slideshow": {
     "slide_type": "subslide"
    }
   },
   "outputs": [],
   "source": [
    "# lambda\n",
    "lambda : True"
   ]
  },
  {
   "cell_type": "code",
   "execution_count": null,
   "metadata": {
    "collapsed": true,
    "slideshow": {
     "slide_type": "fragment"
    }
   },
   "outputs": [],
   "source": [
    "lambda x: x ** 2"
   ]
  },
  {
   "cell_type": "code",
   "execution_count": null,
   "metadata": {
    "collapsed": true,
    "slideshow": {
     "slide_type": "fragment"
    }
   },
   "outputs": [],
   "source": [
    "lambda x, y: x + y"
   ]
  },
  {
   "cell_type": "code",
   "execution_count": null,
   "metadata": {
    "collapsed": true,
    "slideshow": {
     "slide_type": "subslide"
    }
   },
   "outputs": [],
   "source": [
    "# map\n",
    "map(lambda x: x ** 2, range(10))"
   ]
  },
  {
   "cell_type": "code",
   "execution_count": null,
   "metadata": {
    "collapsed": true,
    "slideshow": {
     "slide_type": "fragment"
    }
   },
   "outputs": [],
   "source": [
    "# reduce\n",
    "reduce(lambda x, y: x + y, range(10))"
   ]
  },
  {
   "cell_type": "code",
   "execution_count": null,
   "metadata": {
    "collapsed": true,
    "slideshow": {
     "slide_type": "fragment"
    }
   },
   "outputs": [],
   "source": [
    "# filter\n",
    "filter(lambda x: x % 2 == 0, range(10))"
   ]
  },
  {
   "cell_type": "markdown",
   "metadata": {
    "slideshow": {
     "slide_type": "slide"
    }
   },
   "source": [
    "### Decorator"
   ]
  },
  {
   "cell_type": "markdown",
   "metadata": {
    "slideshow": {
     "slide_type": "fragment"
    }
   },
   "source": [
    "![Telecom Tree](/files/images/telecomtree.jpg)"
   ]
  },
  {
   "cell_type": "code",
   "execution_count": null,
   "metadata": {
    "collapsed": true,
    "slideshow": {
     "slide_type": "subslide"
    }
   },
   "outputs": [],
   "source": [
    "class MyDict(dict):\n",
    "    @property\n",
    "    def max(self):\n",
    "        return max(self.values())\n",
    "\n",
    "MyDict(a=1, b=2, c=3).max"
   ]
  },
  {
   "cell_type": "code",
   "execution_count": 2,
   "metadata": {
    "slideshow": {
     "slide_type": "subslide"
    }
   },
   "outputs": [
    {
     "name": "stdout",
     "output_type": "stream",
     "text": [
      "6\n",
      "6\n"
     ]
    }
   ],
   "source": [
    "# cache wrapper\n",
    "def cache(func):\n",
    "    cached = {}\n",
    "    def _f(*args):\n",
    "        if args not in cached:\n",
    "            result = func(*args)\n",
    "            cached[args] = result\n",
    "        else:\n",
    "            print 'cache hint!'\n",
    "        return cached[args]\n",
    "    return _f\n",
    "\n",
    "@cache\n",
    "def sum_(*args):\n",
    "    return sum(args)\n",
    "\n",
    "print sum_(1,2,3)  ####cache(sum)()\n",
    "print sum_(3,2,1)"
   ]
  },
  {
   "cell_type": "markdown",
   "metadata": {
    "slideshow": {
     "slide_type": "subslide"
    }
   },
   "source": [
    "### One more step"
   ]
  },
  {
   "cell_type": "code",
   "execution_count": 3,
   "metadata": {
    "slideshow": {
     "slide_type": "subslide"
    }
   },
   "outputs": [
    {
     "name": "stdout",
     "output_type": "stream",
     "text": [
      "6\n",
      "cache hint!\n",
      "6\n",
      "cache hint!\n",
      "6\n"
     ]
    }
   ],
   "source": [
    "# cache wrapper for function\n",
    "import time\n",
    "\n",
    "def cache(timeout):\n",
    "    def _wrapped(func):\n",
    "        cached_start = {}\n",
    "        cached = {}\n",
    "        def _f(*args):\n",
    "            if args not in cached or ((time.time() - cached_start[args]) > timeout):\n",
    "                result = func(*args)\n",
    "                cached[args] = result\n",
    "                cached_start[args] = time.time()\n",
    "            else:\n",
    "                print 'cache hint!'\n",
    "            return cached[args]\n",
    "        return _f\n",
    "    return _wrapped\n",
    "\n",
    "@cache(2)\n",
    "def sum_(*nums):\n",
    "    return sum(nums)\n",
    "\n",
    "print sum_(1,2,3)\n",
    "print sum_(1,2,3)\n",
    "from time import sleep\n",
    "sleep(2)\n",
    "print sum_(1,2,3)"
   ]
  },
  {
   "cell_type": "markdown",
   "metadata": {
    "slideshow": {
     "slide_type": "subslide"
    }
   },
   "source": [
    "### functools"
   ]
  },
  {
   "cell_type": "markdown",
   "metadata": {
    "slideshow": {
     "slide_type": "fragment"
    }
   },
   "source": [
    ">Tools for working with functions and callable objects"
   ]
  },
  {
   "cell_type": "code",
   "execution_count": 4,
   "metadata": {
    "slideshow": {
     "slide_type": "subslide"
    }
   },
   "outputs": [
    {
     "name": "stdout",
     "output_type": "stream",
     "text": [
      "Tom and Jerry live in Hangzhou, China\n"
     ]
    }
   ],
   "source": [
    "# functools.partial\n",
    "import functools\n",
    "\n",
    "def echo(name, city, country):\n",
    "    print '%s live in %s, %s' % (name, city, country)\n",
    "    \n",
    "f = functools.partial(echo, city='Hangzhou', country='China')\n",
    "\n",
    "f('Tom and Jerry')"
   ]
  },
  {
   "cell_type": "code",
   "execution_count": 6,
   "metadata": {
    "slideshow": {
     "slide_type": "subslide"
    }
   },
   "outputs": [
    {
     "name": "stdout",
     "output_type": "stream",
     "text": [
      "wrapper\n"
     ]
    }
   ],
   "source": [
    "# functools.wraps\n",
    "import functools\n",
    "\n",
    "def before_deco(f):\n",
    "    #@functools.wraps(f)\n",
    "    def wrapper(*args, **kwargs):\n",
    "        print 'before'\n",
    "        return f(*args, **kwargs)\n",
    "    \n",
    "    return wrapper\n",
    "\n",
    "@before_deco\n",
    "def test(name):\n",
    "    print name\n",
    "    \n",
    "print test.func_name"
   ]
  },
  {
   "cell_type": "markdown",
   "metadata": {
    "slideshow": {
     "slide_type": "subslide"
    }
   },
   "source": [
    "### Practice"
   ]
  },
  {
   "cell_type": "code",
   "execution_count": null,
   "metadata": {
    "collapsed": true,
    "slideshow": {
     "slide_type": "fragment"
    }
   },
   "outputs": [],
   "source": [
    "# implement a to_int function, that convert hex string data to integer\n",
    "# eg:\n",
    "#     to_int('\\xef')  ==> 239\n",
    "#     to_int('\\xef\\x01')  ==> 61185\n",
    "# NOTE: builtin function ord can return the integer ordinal of a one-character string\n"
   ]
  },
  {
   "cell_type": "markdown",
   "metadata": {
    "slideshow": {
     "slide_type": "slide"
    }
   },
   "source": [
    "## Unit Testing"
   ]
  },
  {
   "cell_type": "code",
   "execution_count": 4,
   "metadata": {
    "slideshow": {
     "slide_type": "subslide"
    }
   },
   "outputs": [
    {
     "name": "stderr",
     "output_type": "stream",
     "text": [
      ".\n",
      "----------------------------------------------------------------------\n",
      "Ran 1 test in 0.001s\n",
      "\n",
      "OK\n"
     ]
    },
    {
     "data": {
      "text/plain": [
       "<unittest.runner.TextTestResult run=1 errors=0 failures=0>"
      ]
     },
     "execution_count": 4,
     "metadata": {},
     "output_type": "execute_result"
    }
   ],
   "source": [
    "# Unit Testing\n",
    "import unittest\n",
    "\n",
    "def to_int(data):\n",
    "    sum = 1\n",
    "    return sum \n",
    "\n",
    "\n",
    "class TestToInt(unittest.TestCase):\n",
    "    def test_to_int_with_one_char_string(self):\n",
    "        self.assertEqual(to_int('\\x01'), 1)\n",
    "    \n",
    "    def test_to_int_with_two_chars_string(self):\n",
    "        self.assertEqual(to_int('\\xef\\x01'), 61185)\n",
    "\n",
    "suite = unittest.TestLoader().loadTestsFromTestCase(TestToInt)\n",
    "unittest.TextTestRunner().run(suite)"
   ]
  },
  {
   "cell_type": "code",
   "execution_count": null,
   "metadata": {
    "collapsed": true,
    "slideshow": {
     "slide_type": "subslide"
    }
   },
   "outputs": [],
   "source": [
    "# Unit Testing\n",
    "import unittest\n",
    "\n",
    "def to_int(data):\n",
    "    sum = 0\n",
    "    for index, num in enumerate(data[::-1]): \n",
    "        sum += ord(num)*16**(index*2) \n",
    "    return sum\n",
    "\n",
    "\n",
    "class TestToInt(unittest.TestCase):\n",
    "    def test_to_int_with_one_char_string(self):\n",
    "        self.assertEqual(to_int('\\x01'), 1)\n",
    "    \n",
    "    def test_to_int_with_two_chars_string(self):\n",
    "        self.assertEqual(to_int('\\xef\\x01'), 61185)\n",
    "\n",
    "suite = unittest.TestLoader().loadTestsFromTestCase(TestToInt)\n",
    "unittest.TextTestRunner().run(suite)"
   ]
  },
  {
   "cell_type": "code",
   "execution_count": 1,
   "metadata": {},
   "outputs": [
    {
     "name": "stderr",
     "output_type": "stream",
     "text": [
      "..\n",
      "----------------------------------------------------------------------\n",
      "Ran 2 tests in 0.020s\n",
      "\n",
      "OK\n"
     ]
    },
    {
     "data": {
      "text/plain": [
       "<unittest.runner.TextTestResult run=2 errors=0 failures=0>"
      ]
     },
     "execution_count": 1,
     "metadata": {},
     "output_type": "execute_result"
    }
   ],
   "source": [
    "# Unit Testing\n",
    "import unittest\n",
    "\n",
    "def to_int(data):\n",
    "    sum = reduce(lambda x,y : x + y, map(lambda x, y: ord(x)*(16**(y*2)), data[::-1], range(len(data))), 0)\n",
    "    return sum\n",
    "\n",
    "class TestToInt(unittest.TestCase):\n",
    "    def test_to_int_with_one_char_string(self):\n",
    "        self.assertEqual(to_int('\\x01'), 1)\n",
    "    \n",
    "    def test_to_int_with_two_chars_string(self):\n",
    "        self.assertEqual(to_int('\\xef\\x01'), 61185)\n",
    "\n",
    "suite = unittest.TestLoader().loadTestsFromTestCase(TestToInt)\n",
    "unittest.TextTestRunner().run(suite)"
   ]
  },
  {
   "cell_type": "code",
   "execution_count": 5,
   "metadata": {
    "slideshow": {
     "slide_type": "subslide"
    }
   },
   "outputs": [
    {
     "name": "stderr",
     "output_type": "stream",
     "text": [
      "."
     ]
    },
    {
     "name": "stdout",
     "output_type": "stream",
     "text": [
      "\n"
     ]
    },
    {
     "name": "stderr",
     "output_type": "stream",
     "text": [
      "\n",
      "----------------------------------------------------------------------\n",
      "Ran 1 test in 0.003s\n",
      "\n",
      "OK\n"
     ]
    },
    {
     "data": {
      "text/plain": [
       "<unittest.runner.TextTestResult run=1 errors=0 failures=0>"
      ]
     },
     "execution_count": 5,
     "metadata": {},
     "output_type": "execute_result"
    }
   ],
   "source": [
    "# mock\n",
    "import time\n",
    "\n",
    "def delay_print(msg, delay):\n",
    "    time.sleep(delay)\n",
    "    print msg\n",
    "    \n",
    "import unittest\n",
    "\n",
    "time.sleep = lambda x: True\n",
    "\n",
    "class TestDelayPrint(unittest.TestCase):\n",
    "    def test_delay_print_empty_string(self):\n",
    "        delay_print('', 5)\n",
    "            \n",
    "suite = unittest.TestLoader().loadTestsFromTestCase(TestDelayPrint)\n",
    "unittest.TextTestRunner().run(suite)"
   ]
  },
  {
   "cell_type": "markdown",
   "metadata": {
    "slideshow": {
     "slide_type": "subslide"
    }
   },
   "source": [
    "### One more step"
   ]
  },
  {
   "cell_type": "code",
   "execution_count": 12,
   "metadata": {
    "slideshow": {
     "slide_type": "subslide"
    }
   },
   "outputs": [
    {
     "name": "stderr",
     "output_type": "stream",
     "text": [
      "....\n",
      "----------------------------------------------------------------------\n",
      "Ran 4 tests in 0.017s\n",
      "\n",
      "OK\n"
     ]
    },
    {
     "data": {
      "text/plain": [
       "<unittest.runner.TextTestResult run=4 errors=0 failures=0>"
      ]
     },
     "execution_count": 12,
     "metadata": {},
     "output_type": "execute_result"
    }
   ],
   "source": [
    "import unittest\n",
    "from mock import Mock\n",
    "import re\n",
    "\n",
    "class FsmAccess(object):\n",
    "\n",
    "    def __init__(self, connection):\n",
    "        self.con = connection\n",
    "\n",
    "    def get_lmp_ip_address(self):\n",
    "        result = \"\"\n",
    "        stderr, stdout = self.con.exec_command(\"ifconfig eth3\")\n",
    "        pattern = r\"(\\d{1,4}.\\d{1,4}.\\d{1,4}.\\d{1,4})\"\n",
    "        for line in stdout.split('\\n'):\n",
    "            ret = re.search(pattern, line)\n",
    "            if ret:\n",
    "                result = ret.groups()[0]\n",
    "        return result\n",
    "\n",
    "\n",
    "class MockConnection(object):\n",
    "\n",
    "    def exec_command(self, command):\n",
    "        return  0, 'eth3      Link encap:Ethernet  HWaddr 00:0F:BB:BA:99:CD  \\ninet address:10.0.1.2  Bcast:10.0.2.255  Mask:255.255.255.0\\nUP BROADCAST RUNNING MULTICAST  MTU:1500  Metric:1\\nRX packets:0 errors:0 dropped:0 overruns:0 frame:0\\nTX packets:16 errors:0 dropped:0 overruns:0 carrier:0\\ncollisions:0 txqueuelen:1000\\nRX bytes:0 (0.0 B)  TX bytes:1152 (1.1 KiB)'\n",
    "\n",
    "class TestFsmAccess(unittest.TestCase):\n",
    "    \n",
    "    def test_get_lmp_ip_add_not_use_Mock(self):\n",
    "        mock_instant = MockConnection()\n",
    "        fsm_instance = FsmAccess(connection=mock_instant)\n",
    "        ret = fsm_instance.get_lmp_ip_address()\n",
    "        self.assertEqual(ret, '10.0.1.2')\n",
    "\n",
    "    def test_get_lmp_ip_address_use_mock(self):\n",
    "        con_mock = Mock()\n",
    "        con_mock.exec_command.return_value = 0, 'eth3      Link encap:Ethernet  HWaddr 00:0F:BB:BA:99:CD  \\ninet address:10.0.1.2  Bcast:10.0.2.255  Mask:255.255.255.0\\nUP BROADCAST RUNNING MULTICAST  MTU:1500  Metric:1\\nRX packets:0 errors:0 dropped:0 overruns:0 frame:0\\nTX packets:16 errors:0 dropped:0 overruns:0 carrier:0\\ncollisions:0 txqueuelen:1000\\nRX bytes:0 (0.0 B)  TX bytes:1152 (1.1 KiB)'\n",
    "        fsm_instance = FsmAccess(connection=con_mock)\n",
    "        ret = fsm_instance.get_lmp_ip_address()\n",
    "        self.assertEqual(ret, '10.0.1.2')\n",
    "\n",
    "    def test_get_lmp_ip_address_use_mock_return_value(self):\n",
    "        fsm_instance = FsmAccess(connection=Mock())\n",
    "        fsm_instance.con.exec_command = Mock(return_value=(0, 'eth3      Link encap:Ethernet  HWaddr 00:0F:BB:BA:99:CD  \\ninet address:10.0.1.2  Bcast:10.0.2.255  Mask:255.255.255.0\\nUP BROADCAST RUNNING MULTICAST  MTU:1500  Metric:1\\nRX packets:0 errors:0 dropped:0 overruns:0 frame:0\\nTX packets:16 errors:0 dropped:0 overruns:0 carrier:0\\ncollisions:0 txqueuelen:1000\\nRX bytes:0 (0.0 B)  TX bytes:1152 (1.1 KiB)'))\n",
    "        ret = fsm_instance.get_lmp_ip_address()\n",
    "        self.assertEqual(ret, '10.0.1.2')\n",
    "\n",
    "    def test_get_lmp_ip_address_use_mock_return_value_new(self):\n",
    "        fsm_instance = FsmAccess(connection=Mock())\n",
    "        fsm_instance.con.exec_command = Mock(return_value=(0, 'eth3      Link encap:Ethernet  HWaddr 00:0F:BB:BA:99:CD  \\ninet addr:10.0.1.2  Bcast:10.0.2.255  Mask:255.255.255.0\\nUP BROADCAST RUNNING MULTICAST  MTU:1500  Metric:1\\nRX packets:0 errors:0 dropped:0 overruns:0 frame:0\\nTX packets:16 errors:0 dropped:0 overruns:0 carrier:0\\ncollisions:0 txqueuelen:1000\\nRX bytes:0 (0.0 B)  TX bytes:1152 (1.1 KiB)'))\n",
    "        ret = fsm_instance.get_lmp_ip_address()\n",
    "        self.assertEqual(ret, '10.0.1.2')\n",
    "\n",
    "suite = unittest.TestLoader().loadTestsFromTestCase(TestFsmAccess)\n",
    "\n",
    "unittest.TextTestRunner().run(suite)"
   ]
  },
  {
   "cell_type": "markdown",
   "metadata": {
    "slideshow": {
     "slide_type": "subslide"
    }
   },
   "source": [
    "### Practice\n",
    "\n",
    "> small change with the get_lmp_ip_address example, assume the output word address is addr\n",
    "\n",
    "    def test_get_lmp_ip_address_with_new_output(self):\n",
    "        fsm_instance = FsmAccess(connection=Mock())\n",
    "        fsm_instance.con.exec_command = Mock(return_value=(0, 'eth3      Link encap:Ethernet  HWaddr 00:0F:BB:BA:99:CD  \\ninet addr:10.0.1.2  Bcast:10.0.2.255  Mask:255.255.255.0\\nUP BROADCAST RUNNING MULTICAST  MTU:1500  Metric:1\\nRX packets:0 errors:0 dropped:0 overruns:0 frame:0\\nTX packets:16 errors:0 dropped:0 overruns:0 carrier:0\\ncollisions:0 txqueuelen:1000\\nRX bytes:0 (0.0 B)  TX bytes:1152 (1.1 KiB)'))\n",
    "        ret = fsm_instance.get_lmp_ip_address()\n",
    "        self.assertEqual(ret, '10.0.1.2')"
   ]
  },
  {
   "cell_type": "markdown",
   "metadata": {
    "slideshow": {
     "slide_type": "slide"
    }
   },
   "source": [
    "## Introspection\n",
    "\n",
    "![introspection](/files/images/introspection.jpg)"
   ]
  },
  {
   "cell_type": "code",
   "execution_count": null,
   "metadata": {
    "collapsed": true,
    "slideshow": {
     "slide_type": "subslide"
    }
   },
   "outputs": [],
   "source": [
    "# dir\n",
    "import os\n",
    "\n",
    "print dir(os)"
   ]
  },
  {
   "cell_type": "code",
   "execution_count": null,
   "metadata": {
    "collapsed": true,
    "slideshow": {
     "slide_type": "subslide"
    }
   },
   "outputs": [],
   "source": [
    "# type\n",
    "s = 'hello world'\n",
    "\n",
    "print type(s)"
   ]
  },
  {
   "cell_type": "markdown",
   "metadata": {
    "slideshow": {
     "slide_type": "subslide"
    }
   },
   "source": [
    "> Everything is an object in Python."
   ]
  },
  {
   "cell_type": "code",
   "execution_count": null,
   "metadata": {
    "collapsed": true,
    "slideshow": {
     "slide_type": "subslide"
    }
   },
   "outputs": [],
   "source": [
    "a = 5\n",
    "print type(a)\n",
    "print type(type(a))"
   ]
  },
  {
   "cell_type": "code",
   "execution_count": null,
   "metadata": {
    "collapsed": true,
    "slideshow": {
     "slide_type": "subslide"
    }
   },
   "outputs": [],
   "source": [
    "# hasattr\n",
    "class DynamicObject(object):\n",
    "    def __getattr__(self, attr):\n",
    "        if attr in ('a', 'b', 'c'):\n",
    "            return attr.upper()\n",
    "        raise AttributeError\n",
    "\n",
    "obj = DynamicObject()\n",
    "\n",
    "print hasattr(obj, 'a')\n",
    "print hasattr(obj, 'd')\n"
   ]
  },
  {
   "cell_type": "markdown",
   "metadata": {
    "slideshow": {
     "slide_type": "subslide"
    }
   },
   "source": [
    "### Practice"
   ]
  },
  {
   "cell_type": "code",
   "execution_count": null,
   "metadata": {
    "collapsed": true,
    "slideshow": {
     "slide_type": "fragment"
    }
   },
   "outputs": [],
   "source": [
    "# 1. implement a bash wrapper, so that I can call bash command like a class attribute\n",
    "#\n",
    "#     bash = BashWrapper()\n",
    "#     bash.ping('10.69.69.124')\n",
    "#     bash.ls('-l', '~')\n",
    "#\n",
    "# Write your code here"
   ]
  },
  {
   "cell_type": "code",
   "execution_count": 2,
   "metadata": {},
   "outputs": [
    {
     "name": "stdout",
     "output_type": "stream",
     "text": [
      "\r\n",
      "Pinging 127.0.0.1 with 32 bytes of data:\r\n",
      "Reply from 127.0.0.1: bytes=32 time<1ms TTL=128\r\n",
      "Reply from 127.0.0.1: bytes=32 time<1ms TTL=128\r\n",
      "Reply from 127.0.0.1: bytes=32 time<1ms TTL=128\r\n",
      "Reply from 127.0.0.1: bytes=32 time<1ms TTL=128\r\n",
      "\r\n",
      "Ping statistics for 127.0.0.1:\r\n",
      "    Packets: Sent = 4, Received = 4, Lost = 0 (0% loss),\r\n",
      "Approximate round trip times in milli-seconds:\r\n",
      "    Minimum = 0ms, Maximum = 0ms, Average = 0ms\r\n",
      "\n"
     ]
    }
   ],
   "source": [
    "import subprocess\n",
    "class BashWrapper(object):\n",
    "        fun_name = []\n",
    "        def __getattr__(self, fun): \n",
    "            BashWrapper.fun_name.append(fun)\n",
    "            setattr(self, fun, lambda args: subprocess.check_output('{} {}'.format(BashWrapper.fun_name[0], args),shell=True))\n",
    "            return self.fun\n",
    "              \n",
    "bash = BashWrapper()\n",
    "print bash.ping(\"-i 1 127.0.0.1\")"
   ]
  },
  {
   "cell_type": "code",
   "execution_count": null,
   "metadata": {
    "collapsed": true,
    "slideshow": {
     "slide_type": "fragment"
    }
   },
   "outputs": [],
   "source": [
    "# one more step...\n",
    "# 2. what about a bash wrapper module, so that I can call bash command like a module import\n",
    "#     from bashwrapper import ping\n",
    "#     ping('10.69.69.124')\n",
    "#     from bashwrapper import ls\n",
    "#     ls('-l', '~')"
   ]
  },
  {
   "cell_type": "markdown",
   "metadata": {
    "slideshow": {
     "slide_type": "slide"
    }
   },
   "source": [
    "## Parallel Handling\n",
    "\n",
    "![run](/files/images/run.png)"
   ]
  },
  {
   "cell_type": "code",
   "execution_count": 1,
   "metadata": {
    "slideshow": {
     "slide_type": "subslide"
    }
   },
   "outputs": [
    {
     "name": "stdout",
     "output_type": "stream",
     "text": [
      "32234\n",
      "8614\n",
      "137994\n",
      "used time: 2.9279999733\n"
     ]
    }
   ],
   "source": [
    "# fetch content size from a series of web sites\n",
    "import urllib\n",
    "import time\n",
    "\n",
    "urls = ['http://tdlte-report-server.china.nsn-net.net',\n",
    "        'http://10.140.161.16/ta_doc/',\n",
    "        'http://pypi.ute.inside.nsn.com']\n",
    "begin = time.time()\n",
    "for url in urls:\n",
    "    print len(urllib.urlopen(url, proxies={}).read())\n",
    "end = time.time()\n",
    "print 'used time:', end-begin"
   ]
  },
  {
   "cell_type": "code",
   "execution_count": 2,
   "metadata": {
    "slideshow": {
     "slide_type": "subslide"
    }
   },
   "outputs": [
    {
     "name": "stdout",
     "output_type": "stream",
     "text": [
      "32234\n",
      "2420\n",
      "2429\n",
      "used time: 2.75999999046\n"
     ]
    }
   ],
   "source": [
    "# introduce thread\n",
    "from threading import Thread\n",
    "import urllib\n",
    "import time\n",
    "\n",
    "urls = ['http://tdlte-report-server.china.nsn-net.net',\n",
    "        'http://10.140.161.16/ta_doc/',\n",
    "        'http://pypi.ute.inside.nsn.com']\n",
    "\n",
    "class UrlFetchThread(Thread):\n",
    "    def __init__(self, url, *args):\n",
    "        super(UrlFetchThread, self).__init__(*args)\n",
    "        self._url = url\n",
    "        \n",
    "    def run(self):\n",
    "        print len(urllib.urlopen(self._url).read())\n",
    "\n",
    "begin = time.time()\n",
    "threads = map(UrlFetchThread, urls)\n",
    "for t in threads:\n",
    "    t.start()\n",
    "    t.join()\n",
    "end = time.time()\n",
    "print 'used time:', end-begin"
   ]
  },
  {
   "cell_type": "code",
   "execution_count": 3,
   "metadata": {
    "slideshow": {
     "slide_type": "subslide"
    }
   },
   "outputs": [
    {
     "name": "stdout",
     "output_type": "stream",
     "text": [
      "used time: 2.54800009727\n"
     ]
    }
   ],
   "source": [
    "# introduce multi process\n",
    "from multiprocessing import Process\n",
    "import urllib\n",
    "import time\n",
    "\n",
    "urls = ['http://tdlte-report-server.china.nsn-net.net',\n",
    "        'http://10.140.161.16/ta_doc/',\n",
    "        'http://pypi.ute.inside.nsn.com']\n",
    "\n",
    "class UrlFetchProcess(Process):\n",
    "    def __init__(self, url, *args):\n",
    "        super(UrlFetchProcess, self).__init__(*args)\n",
    "        self._url = url\n",
    "        \n",
    "    def run(self):\n",
    "        print len(urllib.urlopen(self._url).read())\n",
    "begin = time.time()        \n",
    "processes = map(UrlFetchProcess, urls)\n",
    "for p in processes:\n",
    "    p.start()\n",
    "    p.join()\n",
    "end = time.time()\n",
    "print 'used time:', end - begin"
   ]
  },
  {
   "cell_type": "code",
   "execution_count": null,
   "metadata": {
    "slideshow": {
     "slide_type": "subslide"
    }
   },
   "outputs": [
    {
     "name": "stdout",
     "output_type": "stream",
     "text": [
      "begin test!\n"
     ]
    }
   ],
   "source": [
    "# use Pool\n",
    "import time\n",
    "from multiprocessing import Pool\n",
    "from multiprocessing.dummy import Pool as ThreadPool\n",
    "\n",
    "urls = ['http://tdlte-report-server.china.nsn-net.net',\n",
    "        'http://10.140.161.16/ta_doc/',\n",
    "        'http://pypi.ute.inside.nsn.com']\n",
    "\n",
    "def fetch_content(url):\n",
    "    print len(urllib.urlopen(url).read())\n",
    "\n",
    "print 'begin test!'\n",
    "procss_start_time = time.time()\n",
    "pool = Pool()\n",
    "pool.map(fetch_content, urls)\n",
    "pool.close()\n",
    "pool.join()\n",
    "procss_end_time = time.time()\n",
    "print 'proces use time:', procss_end_time - procss_start_time\n",
    "\n",
    "# -----------------------------------------\n",
    "thread_start_time = time.time()\n",
    "thread_pool = ThreadPool()\n",
    "thread_pool.map(fetch_content, urls)\n",
    "thread_pool.close()\n",
    "thread_pool.join()\n",
    "thread_end_time = time.time()\n",
    "print 'thread use time:', thread_end_time - thread_start_time"
   ]
  },
  {
   "cell_type": "code",
   "execution_count": null,
   "metadata": {
    "collapsed": true,
    "slideshow": {
     "slide_type": "subslide"
    }
   },
   "outputs": [],
   "source": [
    "# introduce gevent\n",
    "import gevent\n",
    "from gevent import monkey\n",
    "import time\n",
    "monkey.patch_all()\n",
    "\n",
    "urls = ['http://tdlte-report-server.china.nsn-net.net',\n",
    "        'http://10.140.161.16/ta_doc/',\n",
    "        'http://pypi.ute.inside.nsn.com']\n",
    "\n",
    "def fetch_content(url):\n",
    "    print len(urllib.urlopen(url).read())\n",
    "begin = time.time()    \n",
    "[gevent.spawn(fetch_content, url) for url in urls]\n",
    "\n",
    "gevent.wait()\n",
    "end = time.time()\n",
    "print 'used time:', end - begin"
   ]
  },
  {
   "cell_type": "code",
   "execution_count": null,
   "metadata": {
    "collapsed": true,
    "slideshow": {
     "slide_type": "subslide"
    }
   },
   "outputs": [],
   "source": [
    "# Queue\n",
    "from multiprocessing import Process, Queue\n",
    "import time\n",
    "\n",
    "def f(q, num):\n",
    "    q.put([num, None, 'hello'])\n",
    "\n",
    "if __name__ == '__main__':\n",
    "    q = Queue()\n",
    "    begin  = time.time()\n",
    "    p1 = Process(target=f, args=(q, 12))\n",
    "    p2 = Process(target=f, args=(q, 24))\n",
    "    p1.start()\n",
    "    p2.start()\n",
    "    print q.get()\n",
    "    print q.get()\n",
    "    p1.join()\n",
    "    p2.join()\n",
    "    end = time.time()\n",
    "    print 'used time:', end - begin"
   ]
  },
  {
   "cell_type": "markdown",
   "metadata": {
    "slideshow": {
     "slide_type": "subslide"
    }
   },
   "source": [
    "### Practice"
   ]
  },
  {
   "cell_type": "code",
   "execution_count": null,
   "metadata": {
    "collapsed": true,
    "slideshow": {
     "slide_type": "fragment"
    }
   },
   "outputs": [],
   "source": [
    "# (after class) implement a FAST ftp downloder \n",
    "# eg: download ftp://hztdltev01.china.nsn-net.net/esa_data/\n"
   ]
  },
  {
   "cell_type": "markdown",
   "metadata": {
    "slideshow": {
     "slide_type": "slide"
    }
   },
   "source": [
    "## Web Development\n",
    "\n",
    "![Python Web](/files/images/pyweb.png)"
   ]
  },
  {
   "cell_type": "code",
   "execution_count": null,
   "metadata": {
    "collapsed": true,
    "slideshow": {
     "slide_type": "subslide"
    }
   },
   "outputs": [],
   "source": [
    "# BaseHTTPServer and SimpleHTTPServer\n",
    "# python -m SimpleHTTPServer 8080\n",
    "from BaseHTTPServer import HTTPServer\n",
    "from SimpleHTTPServer import SimpleHTTPRequestHandler\n",
    "\n",
    "server = HTTPServer(('0.0.0.0', 8282), SimpleHTTPRequestHandler)\n",
    "\n",
    "server.serve_forever()"
   ]
  },
  {
   "cell_type": "code",
   "execution_count": null,
   "metadata": {
    "collapsed": true,
    "slideshow": {
     "slide_type": "subslide"
    }
   },
   "outputs": [],
   "source": [
    "# with micro framework bottle.py\n",
    "from bottle import route, run, template\n",
    "\n",
    "@route('/hello/<name>')\n",
    "def index(name):\n",
    "    return template('<b>Hello {{name}}</b>!', name=name)\n",
    "\n",
    "run(host='localhost', port=8181)"
   ]
  },
  {
   "cell_type": "markdown",
   "metadata": {
    "slideshow": {
     "slide_type": "subslide"
    }
   },
   "source": [
    "### Practice"
   ]
  },
  {
   "cell_type": "code",
   "execution_count": null,
   "metadata": {
    "collapsed": true,
    "slideshow": {
     "slide_type": "subslide"
    }
   },
   "outputs": [],
   "source": [
    "# implement a simple REST service for user operation using Python, \n",
    "#   you can store the user info into memory, DB or files.\n",
    "#   the return data should be in JSON format, \n",
    "#     GET/POST/DELETE method should be supported\n",
    "# Example:\n",
    "#     GET  /api/users  ==> \n",
    "#         ['tom', 'jerry', 'lily']\n",
    "#     POST  /api/users  ['james', 'terry']  ==>  \n",
    "#         ['tom', 'jerry', 'lily', 'james', 'terry']\n",
    "#     DELETE  /api/users/james  ==>  \n",
    "#         ['tom', 'jerry', 'lily', 'terry']\n",
    "from bottle import get, post, delete, response, run\n",
    "import json\n",
    "\n",
    "@get('/api/users')\n",
    "def users():\n",
    "    response.set_header('Content-Type', 'application/json')\n",
    "    return json.dumps(['tom', 'jerry', 'lily'])\n",
    "\n",
    "run(host='localhost', port=11111)"
   ]
  },
  {
   "cell_type": "markdown",
   "metadata": {
    "slideshow": {
     "slide_type": "slide"
    }
   },
   "source": [
    "## Reference\n",
    "\n",
    "* http://www.diveintopython.net/power_of_introspection/\n",
    "* https://docs.python.org/2/library/inspect.html\n",
    "* https://docs.python.org/2/howto/functional.html\n",
    "* https://en.wikipedia.org/wiki/Functional_programming\n",
    "* https://docs.python.org/2/library/functions.html#iter\n",
    "* http://butunclebob.com/files/downloads/Prime%20Factors%20Kata.ppt\n",
    "* https://blog.8thlight.com/uncle-bob/2013/05/27/TheTransformationPriorityPremise.html\n",
    "* https://wiki.python.org/moin/Generators\n",
    "* https://docs.python.org/2/library/threading.html\n",
    "* https://docs.python.org/2/library/multiprocessing.html\n",
    "* http://www.gevent.org/intro.html\n",
    "* http://bottlepy.org/docs/dev/index.html\n",
    "* http://api.mongodb.org/python/current/tutorial.html\n",
    "* https://docs.python.org/2/library/simplehttpserver.html"
   ]
  },
  {
   "cell_type": "markdown",
   "metadata": {
    "slideshow": {
     "slide_type": "slide"
    }
   },
   "source": [
    "## Q & A"
   ]
  }
 ],
 "metadata": {
  "celltoolbar": "Slideshow",
  "kernelspec": {
   "display_name": "Python 2",
   "language": "python",
   "name": "python2"
  },
  "language_info": {
   "codemirror_mode": {
    "name": "ipython",
    "version": 2
   },
   "file_extension": ".py",
   "mimetype": "text/x-python",
   "name": "python",
   "nbconvert_exporter": "python",
   "pygments_lexer": "ipython2",
   "version": "2.7.13"
  }
 },
 "nbformat": 4,
 "nbformat_minor": 1
}
