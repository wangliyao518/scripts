{
 "cells": [
  {
   "cell_type": "markdown",
   "metadata": {},
   "source": [
    "# Develop Robot keyword base on OOP\n",
    "\n",
    "** wang liyao (leo)**"
   ]
  },
  {
   "cell_type": "markdown",
   "metadata": {
    "slideshow": {
     "slide_type": "slide"
    }
   },
   "source": [
    "## what's OOP"
   ]
  },
  {
   "cell_type": "markdown",
   "metadata": {
    "slideshow": {
     "slide_type": "fragment"
    }
   },
   "source": [
    "OOP, an object-oriented programming method, was a popular software  \n",
    "programming method in the 1990s.  \n",
    "It emphasizes \"abstraction\", \"encapsulation\", \"inheritance\" and  \n",
    "\"polymorphism\" of objects."
   ]
  },
  {
   "cell_type": "markdown",
   "metadata": {
    "slideshow": {
     "slide_type": "subslide"
    }
   },
   "source": [
    "OOP just like mall different component have different functionality\n",
    "\n"
   ]
  },
  {
   "cell_type": "markdown",
   "metadata": {
    "slideshow": {
     "slide_type": "subslide"
    }
   },
   "source": [
    "- just like computer, Plug and Play"
   ]
  },
  {
   "cell_type": "markdown",
   "metadata": {
    "slideshow": {
     "slide_type": "slide"
    }
   },
   "source": [
    "## why we need OOP"
   ]
  },
  {
   "cell_type": "markdown",
   "metadata": {
    "slideshow": {
     "slide_type": "fragment"
    }
   },
   "source": [
    "** 1. maintainability **  \n",
    "** 2. Extensibility **  \n",
    "** 3. reusability **"
   ]
  },
  {
   "cell_type": "markdown",
   "metadata": {
    "slideshow": {
     "slide_type": "fragment"
    }
   },
   "source": [
    "** 4. most important of all:  \n",
    "OOP has a good reputation and we have a heart for excellence  \n",
    "\n",
    "**"
   ]
  },
  {
   "cell_type": "markdown",
   "metadata": {
    "slideshow": {
     "slide_type": "slide"
    }
   },
   "source": [
    "## robot keyword  & OOP"
   ]
  },
  {
   "cell_type": "markdown",
   "metadata": {
    "slideshow": {
     "slide_type": "fragment"
    }
   },
   "source": [
    "1. Robot was developed by python\n",
    "2. Robot keyword can developed by python\n",
    "3. Robot itself is also a programming language.  \n",
    "It is a language for users to write demand stories  \n",
    "Demand story is like narration.  \n",
    "It's a process oriented thing.  \n",
    "We can easily write process case"
   ]
  },
  {
   "cell_type": "markdown",
   "metadata": {
    "slideshow": {
     "slide_type": "slide"
    }
   },
   "source": [
    "## Low-level keyword development demo"
   ]
  },
  {
   "cell_type": "markdown",
   "metadata": {
    "slideshow": {
     "slide_type": "subslide"
    }
   },
   "source": [
    "### execute shell command keyword\n",
    "\n",
    "** implement a keyword to execute shell command on remote linux pc **\n"
   ]
  },
  {
   "cell_type": "markdown",
   "metadata": {
    "slideshow": {
     "slide_type": "subslide"
    }
   },
   "source": [
    "### Procedure Oriented Programming"
   ]
  },
  {
   "cell_type": "code",
   "execution_count": null,
   "metadata": {
    "code_folding": [],
    "slideshow": {
     "slide_type": "subslide"
    }
   },
   "outputs": [],
   "source": [
    "#interface.py\n",
    "\n",
    "import paramiko\n",
    "def execute_shell_command(cmd, host, username, password):\n",
    "    ssh = paramiko.SSHClient()\n",
    "    ssh.set_missing_host_key_policy(paramiko.AutoAddPolicy())\n",
    "    ssh.connect(host, 22, username, password)\n",
    "    stdin,stdout,stderr = ssh.exec_command(cmd)\n",
    "    outmsg, errmsg = stdout.read(),stderr.read()\n",
    "    ssh.close()\n",
    "    return outmsg"
   ]
  },
  {
   "cell_type": "markdown",
   "metadata": {
    "slideshow": {
     "slide_type": "subslide"
    }
   },
   "source": [
    "### add requirement\n",
    "\n",
    "but one day, our customer need two keywords:\n",
    "1. “get ethernet port ip”,input arguments: ethernet name, output: ip address\n",
    "2. \"get remote host name\", output: host name"
   ]
  },
  {
   "cell_type": "code",
   "execution_count": null,
   "metadata": {
    "code_folding": [
     5,
     15,
     21
    ],
    "slideshow": {
     "slide_type": "subslide"
    }
   },
   "outputs": [],
   "source": [
    "#interface.py\n",
    "\n",
    "import paramiko\n",
    "import re\n",
    "\n",
    "def get_ethernet_ip_address(eth_name, host, username, password):\n",
    "    search_command = 'sudo ifconfig {}'.format(eth_name)\n",
    "    result = execute_shell_command(search_command, host, username, password)\n",
    "    pattern = r\"inet addr:(\\d{1,4}.\\d{1,4}.\\d{1,4}.\\d{1,4})\"\n",
    "    for line in stdout.split('\\n'):\n",
    "        ret = re.search(pattern, line)\n",
    "        if ret:\n",
    "            result = ret.groups()[0]\n",
    "    return result\n",
    "\n",
    "def get_host_name(host, username, password):\n",
    "    command = \"hostname\"\n",
    "    result = execute_shell_command(command)\n",
    "    return result.strip()\n",
    "\n",
    "\n",
    "def execute_shell_command(cmd, host, username, password):\n",
    "    ssh = paramiko.SSHClient()\n",
    "    ssh.set_missing_host_key_policy(paramiko.AutoAddPolicy())\n",
    "    ssh.connect(host, 22, username, password)\n",
    "    stdin,stdout,stderr = ssh.exec_command(cmd)\n",
    "    outmsg, errmsg = stdout.read(),stderr.read()\n",
    "    ssh.close()\n",
    "    return outmsg\n"
   ]
  },
  {
   "cell_type": "markdown",
   "metadata": {
    "slideshow": {
     "slide_type": "subslide"
    }
   },
   "source": [
    "### change requirement again\n",
    "\n",
    "** If one day user find get_ethernet_ip_address keyword use too much time  \n",
    "when execute command in local pc, it seems not necessary via ssh execute  \n",
    "local comand ** "
   ]
  },
  {
   "cell_type": "code",
   "execution_count": null,
   "metadata": {
    "code_folding": [
     6,
     19,
     27
    ],
    "slideshow": {
     "slide_type": "subslide"
    }
   },
   "outputs": [],
   "source": [
    "#interface.py\n",
    "\n",
    "import paramiko\n",
    "import subprocess\n",
    "import re\n",
    "\n",
    "def get_ethernet_ip_address(eth_name, host, username, password):\n",
    "    search_command = 'sudo ifconfig {}'.format(eth_name)\n",
    "    if host == '127.0.0.1' or host == 'localhost':\n",
    "        result = execute_local_command(search_command)\n",
    "    else:\n",
    "        result = execute_shell_command(search_command, host, username, password)\n",
    "    pattern = r\"inet addr:(\\d{1,4}.\\d{1,4}.\\d{1,4}.\\d{1,4})\"\n",
    "    for line in stdout.split('\\n'):\n",
    "        ret = re.search(pattern, line)\n",
    "        if ret:\n",
    "            result = ret.groups()[0]\n",
    "    return result\n",
    "\n",
    "def get_host_name(host, username, password):\n",
    "    command = \"hostname\"\n",
    "    if host == '127.0.0.1' or host == 'localhost':\n",
    "        result = execute_local_command(scommand)    \n",
    "    else:\n",
    "        result = execute_shell_command(command, host, username, password)\n",
    "    return result.strip()\n",
    "\n",
    "def execute_shell_command(cmd, host, username, password):\n",
    "    ssh = paramiko.SSHClient()\n",
    "    ssh.set_missing_host_key_policy(paramiko.AutoAddPolicy())\n",
    "    ssh.connect(host, 22, username, password)\n",
    "    stdin,stdout,stderr = ssh.exec_command(cmd)\n",
    "    outmsg, errmsg = stdout.read(),stderr.read()\n",
    "    ssh.close()\n",
    "    return outmsg\n",
    "\n",
    "def execute_local_command(cmd):\n",
    "    result = subprocess.check_output(cmd, shell=True)\n",
    "    return result\n"
   ]
  },
  {
   "cell_type": "markdown",
   "metadata": {
    "slideshow": {
     "slide_type": "subslide"
    }
   },
   "source": [
    "### change requirement once again\n",
    "** one day our boss tell me maybe use SSHLibrary better than paramiko  **"
   ]
  },
  {
   "cell_type": "code",
   "execution_count": null,
   "metadata": {
    "code_folding": [
     7,
     20,
     27,
     36,
     40
    ],
    "slideshow": {
     "slide_type": "subslide"
    }
   },
   "outputs": [],
   "source": [
    "#interface.py\n",
    "\n",
    "import paramiko\n",
    "import subprocess\n",
    "from SSHLibrary import SSHClient\n",
    "import re\n",
    "\n",
    "def get_ethernet_ip_address(eth_name, host, username, password):\n",
    "    search_command = 'sudo ifconfig {}'.format(eth_name)\n",
    "    if host == '127.0.0.1' or host == 'localhost':\n",
    "        result = execute_local_command(search_command)\n",
    "    else:\n",
    "        result = execute_shell_command_new(search_command, host, username, password)\n",
    "    pattern = r\"inet addr:(\\d{1,4}.\\d{1,4}.\\d{1,4}.\\d{1,4})\"\n",
    "    for line in stdout.split('\\n'):\n",
    "        ret = re.search(pattern, line)\n",
    "        if ret:\n",
    "            result = ret.groups()[0]\n",
    "    return result\n",
    "\n",
    "def get_host_name(host, username, password):\n",
    "    command = \"hostname\"\n",
    "    if host == '127.0.0.1' or host == 'localhost':\n",
    "        result = execute_local_command(scommand)    \n",
    "    else:\n",
    "        result = execute_shell_command_new(command, host, username, password)\n",
    "    return result.strip()\n",
    "def execute_shell_command(cmd, host, username, password):\n",
    "    ssh = paramiko.SSHClient()\n",
    "    ssh.set_missing_host_key_policy(paramiko.AutoAddPolicy())\n",
    "    ssh.connect(host, 22, username, password)\n",
    "    stdin,stdout,stderr = ssh.exec_command(cmd)\n",
    "    outmsg, errmsg = stdout.read(),stderr.read()\n",
    "    ssh.close()\n",
    "    return outmsg\n",
    "\n",
    "def execute_local_command(cmd):\n",
    "    result = subprocess.check_output(cmd, shell=True)\n",
    "    return result\n",
    "\n",
    "def execute_shell_command_new(cmd, host, username, password):\n",
    "    client = SSHClient(host)\n",
    "    client.login(username, password)\n",
    "    result, _, _ = client.execute_command(cmd)\n",
    "    client.close()\n",
    "    return result\n"
   ]
  },
  {
   "cell_type": "markdown",
   "metadata": {
    "slideshow": {
     "slide_type": "subslide"
    }
   },
   "source": [
    "### what's the disadvantage about all the previous code?"
   ]
  },
  {
   "cell_type": "markdown",
   "metadata": {
    "slideshow": {
     "slide_type": "fragment"
    }
   },
   "source": [
    "**1. execution efficiency problem:  \n",
    "every keyword need ssh connect and disconnect**"
   ]
  },
  {
   "cell_type": "markdown",
   "metadata": {
    "slideshow": {
     "slide_type": "fragment"
    }
   },
   "source": [
    "** 2. modification efficiency problem:  \n",
    "once use new function, all the used place need replace  \n",
    "nonreusable  **"
   ]
  },
  {
   "cell_type": "markdown",
   "metadata": {
    "slideshow": {
     "slide_type": "subslide"
    }
   },
   "source": [
    "### use OOP refactor the code"
   ]
  },
  {
   "cell_type": "code",
   "execution_count": null,
   "metadata": {
    "code_folding": [
     3,
     5,
     8,
     18,
     22,
     23,
     30,
     40,
     44,
     46,
     53,
     55,
     58,
     60
    ],
    "slideshow": {
     "slide_type": "subslide"
    }
   },
   "outputs": [],
   "source": [
    "# imp.py\n",
    "import paramiko\n",
    "import re\n",
    "class HostAccess(object):\n",
    "\n",
    "    def __init__(self, connection):\n",
    "        self.con = connection\n",
    "\n",
    "    def get_ethernet_ip_addr(self, eth_name):\n",
    "        result = \"\"\n",
    "        stdout = self.con.exec_command(\"ifconfig {}\".format(eth_name))\n",
    "        pattern = r\"(inet addr:\\d{1,4}.\\d{1,4}.\\d{1,4}.\\d{1,4})\"\n",
    "        for line in stdout.split('\\n'):\n",
    "            ret = re.search(pattern, line)\n",
    "            if ret:\n",
    "                result = ret.groups()[0]\n",
    "        return result\n",
    "\n",
    "    def get_host_name(self):\n",
    "        stderr, stdout = self.con.exec_command('hostname')\n",
    "        result = stdout.strip()\n",
    "        return result\n",
    "class SshConnection(object):\n",
    "    def __init__(self, host,username, password, port=22):\n",
    "        self.host = host\n",
    "        self.port = port\n",
    "        self.username = username\n",
    "        self.password = password\n",
    "        self.con = None\n",
    "\n",
    "    def connect(self):\n",
    "        self.con = paramiko.SSHClient()\n",
    "        self.con.set_missing_host_key_policy(paramiko.AutoAddPolicy())\n",
    "        self.con.connect(self.host, self.port, self.username, self.password)\n",
    "\n",
    "    def exec_command(self, command):\n",
    "        stdin, stdout, stderr = self.con.exec_command(command)\n",
    "        ret = stdout.read()\n",
    "        return ret\n",
    "\n",
    "    def disconnect(self):\n",
    "        self.con.close()\n",
    "# interface.py\n",
    "class Interface(object):\n",
    "    def __init__(self):\n",
    "        self.ssh_con = None\n",
    "    def setup_connection(self, **kwargs):\n",
    "        host_ip = kwargs.get('host')\n",
    "        username = kwargs.get('username')\n",
    "        password = kwargs.get('password')\n",
    "        self.ssh_con = SshConnection(host_ip, username, password)\n",
    "        self.ssh_con.connect()\n",
    "        self.access_obj = HostAccess(self.ssh_con)\n",
    "    def execute_command_on_host(command):\n",
    "        return self.ssh_conn.exec_command(command)\n",
    "    def get_ethernet_ip_address(self, **kwargs):\n",
    "        eth_name = kwargs.get('eth_name')\n",
    "        return self.access_obj.get_ethernet_ip_addr(eth_name)\n",
    "    def get_host_name():\n",
    "        return self.acess.obj.get_host_name()\n",
    "    def teardown_connection(self, **kwargs):\n",
    "        self.ssh_con.disconnect()\n",
    "interfacer = Interface()\n",
    "interfacer.setup_connection(host=\"192.168.99.100\", username=\"docker\", password=\"tcuser\")\n",
    "print \"###eth0:\", interfacer.get_ethernet_ip_address(eth_name='eth0')\n",
    "interfacer.teardown_connection()"
   ]
  },
  {
   "cell_type": "markdown",
   "metadata": {
    "code_folding": [],
    "slideshow": {
     "slide_type": "subslide"
    }
   },
   "source": [
    "### local don't need ssh only need add a new class"
   ]
  },
  {
   "cell_type": "code",
   "execution_count": 9,
   "metadata": {
    "code_folding": [
     3
    ],
    "slideshow": {
     "slide_type": "subslide"
    }
   },
   "outputs": [],
   "source": [
    "# imp.py\n",
    "import subprocess\n",
    "\n",
    "class LocalSshConnection(object):\n",
    "    def __init__(self, host, username, password):\n",
    "        pass\n",
    "    def connect(self):\n",
    "        pass\n",
    "    def disconnect(self):\n",
    "        pass\n",
    "    def exec_command(self, command):\n",
    "        result = subprocess.check_output(cmd, shell=True)\n",
    "        return result"
   ]
  },
  {
   "cell_type": "code",
   "execution_count": null,
   "metadata": {
    "code_folding": [
     4,
     20,
     21,
     30,
     49,
     51,
     60
    ],
    "slideshow": {
     "slide_type": "subslide"
    }
   },
   "outputs": [],
   "source": [
    "# imp.py\n",
    "import paramiko\n",
    "import subprocess\n",
    "import re\n",
    "class HostAccess(object):\n",
    "    def __init__(self, connection):\n",
    "        self.con = connection\n",
    "    def get_ethernet_ip_addr(self, eth_name):\n",
    "        result = \"\"\n",
    "        stdout = self.con.exec_command(\"sudo ifconfig {}\".format(eth_name))\n",
    "        pattern = r\"(inet addr:\\d{1,4}.\\d{1,4}.\\d{1,4}.\\d{1,4})\"\n",
    "        for line in stdout.split('\\n'):\n",
    "            ret = re.search(pattern, line)\n",
    "            if ret:\n",
    "                result = ret.groups()[0]\n",
    "        return result\n",
    "    def get_host_name(self):\n",
    "        stderr, stdout = self.con.exec_command('hostname')\n",
    "        result = stdout.strip()\n",
    "        return result    \n",
    "class LocalSshConnection(object):\n",
    "    def __init__(self, host, username, password):\n",
    "        pass\n",
    "    def connect(self):\n",
    "        pass\n",
    "    def disconnect(self):\n",
    "        pass\n",
    "    def exec_command(self, command):\n",
    "        result = subprocess.check_output(command, shell=True)\n",
    "        return result\n",
    "class SshConnection(object):\n",
    "    def __init__(self, host,username, password, port=22):\n",
    "        self.host = host\n",
    "        self.port = port\n",
    "        self.username = username\n",
    "        self.password = password\n",
    "        self.con = None\n",
    "    def connect(self):\n",
    "        self.con = paramiko.SSHClient()\n",
    "        self.con.set_missing_host_key_policy(paramiko.AutoAddPolicy())\n",
    "        self.con.connect(self.host, self.port, self.username, self.password)\n",
    "    def exec_command(self, command):\n",
    "        stdin, stdout, stderr = self.con.exec_command(command)\n",
    "        ret = stdout.read()\n",
    "        return ret\n",
    "    def disconnect(self):\n",
    "        self.con.close()\n",
    "# interface.py\n",
    "class Interface(object):\n",
    "    def __init__(self):\n",
    "        self.ssh_con = None\n",
    "    def setup_connection(self, **kwargs):\n",
    "        host_ip = kwargs.get('host')\n",
    "        username = kwargs.get('username')\n",
    "        password = kwargs.get('password')\n",
    "        # self.ssh_con = SshConnection(host_ip, username, password)\n",
    "        ssh_con_dict = {'127.0.0.1': LocalSshConnection, 'localhost': LocalSshConnection}\n",
    "        self.ssh_con = ssh_con_dict.get(host_ip, SshConnection)(host_ip, username, password)\n",
    "        self.ssh_con.connect()\n",
    "        self.access_obj = HostAccess(self.ssh_con)\n",
    "    def execute_command_on_host(command):\n",
    "        return self.ssh_conn.exec_command(command)\n",
    "    def get_ethernet_ip_address(self, **kwargs):\n",
    "        eth_name = kwargs.get('eth_name')\n",
    "        return self.access_obj.get_ethernet_ip_addr(eth_name)\n",
    "    def get_host_name():\n",
    "        return self.acess.obj.get_host_name()\n",
    "    def teardown_connection(self, **kwargs):\n",
    "        self.ssh_con.disconnect()\n"
   ]
  },
  {
   "cell_type": "markdown",
   "metadata": {
    "slideshow": {
     "slide_type": "subslide"
    }
   },
   "source": [
    "### ssh need Sshlibrary refactor"
   ]
  },
  {
   "cell_type": "code",
   "execution_count": 10,
   "metadata": {
    "code_folding": [
     2,
     3,
     19
    ],
    "slideshow": {
     "slide_type": "subslide"
    }
   },
   "outputs": [],
   "source": [
    "# imp.py\n",
    "from SSHLibrary import SSHClient\n",
    "class SshConnection_new(object):\n",
    "    def __init__(self, host,username, password, port=22):\n",
    "        self.host = host\n",
    "        self.port = port\n",
    "        self.username = username\n",
    "        self.password = password\n",
    "        self.con = None\n",
    "    def connect(self):\n",
    "        self.con = SSHClient(self.host)\n",
    "        self.con.login(self.username, self.password)\n",
    "    def exec_command(self, command):\n",
    "        stdin, stdout, stderr = self.con.exec_command(command)\n",
    "        ret = stdout.read()\n",
    "        return ret\n",
    "    def disconnect(self):\n",
    "        self.con.close()\n",
    "# interface.py\n",
    "class Interface(object):\n",
    "    def __init__(self):\n",
    "        self.ssh_con = None\n",
    "    def setup_connection(self, **kwargs):\n",
    "        host_ip = kwargs.get('host')\n",
    "        username = kwargs.get('username')\n",
    "        password = kwargs.get('password')\n",
    "        # self.ssh_con = SshConnection(host_ip, username, password)\n",
    "        ssh_con_dict = {'127.0.0.1': LocalSshConnection, 'localhost': LocalSshConnection}\n",
    "        self.ssh_con = ssh_con_dict.get(host_ip, SshConnection_new)(host_ip, username, password)\n",
    "        self.ssh_con.connect()\n",
    "        self.access_obj = HostAccess(self.ssh_con)\n",
    "    def execute_command_on_host(command):\n",
    "        return self.ssh_conn.exec_command(command)\n",
    "    def get_ethernet_ip_address(self, **kwargs):\n",
    "        eth_name = kwargs.get('eth_name')\n",
    "        return self.access_obj.get_ethernet_ip_addr(eth_name)\n",
    "    def get_host_name():\n",
    "        return self.acess.obj.get_host_name()\n",
    "    def teardown_connection(self, **kwargs):\n",
    "        self.ssh_con.disconnect()"
   ]
  },
  {
   "cell_type": "markdown",
   "metadata": {
    "slideshow": {
     "slide_type": "slide"
    }
   },
   "source": [
    "# low-level keyword development demo 2"
   ]
  },
  {
   "cell_type": "markdown",
   "metadata": {
    "slideshow": {
     "slide_type": "subslide"
    }
   },
   "source": [
    "### implement  \"kill process\" keyword\n",
    "Users have a requirement to implement a keyword to kill process,  \n",
    "input arguments is a list of the \"process name\". "
   ]
  },
  {
   "cell_type": "code",
   "execution_count": null,
   "metadata": {
    "code_folding": [],
    "slideshow": {
     "slide_type": "subslide"
    }
   },
   "outputs": [],
   "source": [
    "import subprocess\n",
    "def kill_process(*process_list):\n",
    "    for each_process in process_list:\n",
    "        ppid = subprocess.check_output(\"ps -ef |grep {} |grep -v grep |awk -F ' ' '{print $2}'\".format(each_process))\n",
    "        ret = subbprocess.call('sudo kill - 9 {}'.format(ppid))"
   ]
  },
  {
   "cell_type": "markdown",
   "metadata": {
    "slideshow": {
     "slide_type": "subslide"
    }
   },
   "source": [
    "### \"bug\" driven keyword need be modified\n",
    "One day, our user wanted to kill the kibana process with this keyword,  \n",
    "but found that it didn't work. then we found out that the kibana process  \n",
    "was not named kibana but node"
   ]
  },
  {
   "cell_type": "code",
   "execution_count": null,
   "metadata": {
    "code_folding": [],
    "slideshow": {
     "slide_type": "subslide"
    }
   },
   "outputs": [],
   "source": [
    "import subprocess\n",
    "def kill_process(*process_list):\n",
    "    for each_process in process_list:\n",
    "        if each_p_process == 'kibana':\n",
    "            each_process = 'node'\n",
    "        ppid = subprocess.check_output(\"ps -ef |grep {} |grep -v grep |awk -F ' ' '{print $2}'\".format(each_process))\n",
    "        ret = subbprocess.call('sudo kill - 9 {}'.format(ppid))"
   ]
  },
  {
   "cell_type": "markdown",
   "metadata": {
    "slideshow": {
     "slide_type": "subslide"
    }
   },
   "source": [
    "### refactor the 'kill process' keyword with OOP"
   ]
  },
  {
   "cell_type": "code",
   "execution_count": null,
   "metadata": {
    "code_folding": [
     1,
     11
    ],
    "slideshow": {
     "slide_type": "subslide"
    }
   },
   "outputs": [],
   "source": [
    "import subprocess\n",
    "class Process(object):\n",
    "    def __init__(self, name):\n",
    "        self.process_name = name\n",
    "    def pid(self):\n",
    "        ret = subprocess.check_output(\"ps -ef |grep {} |grep -v grep |awk -F ' ' '{print $2}'\".format(self.process_name), shell=True).strip()\n",
    "        return ret\n",
    "    def start(self):\n",
    "        pass\n",
    "    def stop(self):\n",
    "        subprocess.check_output('sudo kill -9 {}'.format(self.pid()), shell=True)\n",
    "class KibanaProcess(Process):\n",
    "    def __init__(self, name):\n",
    "        self.process_nme = 'node'\n",
    "class ProcessFactory(object):\n",
    "    def get_process_instant(self, name):\n",
    "        ssh_con_dict = {'kibana': KibanaProcess}\n",
    "        process_class = ssh_con_dict.get(name, Process)\n",
    "        return process_class(name)\n",
    "class ProcessControl(object):\n",
    "    def __init__(self, process_name_list):\n",
    "        self.ppid = None\n",
    "        self.process_name_list = process_name_list\n",
    "    def stop(self):\n",
    "        for process_name in self.process_name_list:\n",
    "            ProcessFactory().get_process_instant(process_name).stop()\n",
    "def kill_process(*process_list):\n",
    "    ProcessControl(process_list).stop()          "
   ]
  },
  {
   "cell_type": "markdown",
   "metadata": {
    "slideshow": {
     "slide_type": "subslide"
    }
   },
   "source": [
    "### add new process"
   ]
  },
  {
   "cell_type": "code",
   "execution_count": null,
   "metadata": {
    "code_folding": [],
    "slideshow": {
     "slide_type": "subslide"
    }
   },
   "outputs": [],
   "source": [
    "class BtsLogProcess(Process):\n",
    "    def __init__(self, name):\n",
    "        self.process_nme = 'syslog.py'\n",
    "\n",
    "class SiteManagerProcess(Process):\n",
    "    \n",
    "    def __init__(self, name):\n",
    "        self.process_nme = 'java'\n",
    "# then add the new class in factory\n",
    "class ProcessFactory(object):\n",
    "    def get_process_instant(self, name):\n",
    "        ssh_con_dict = {'kibana': KibanaProcess}\n",
    "        ssh_con_dict['btslog'] = BtsLogProcess\n",
    "        ssh_con_dict['SiteManager'] = SiteManagerProcess\n",
    "        process_class = ssh_con_dict.get(name, Process)\n",
    "        return process_class(name)\n"
   ]
  },
  {
   "cell_type": "markdown",
   "metadata": {
    "slideshow": {
     "slide_type": "slide"
    }
   },
   "source": [
    "# High-level keyword development demo"
   ]
  },
  {
   "cell_type": "markdown",
   "metadata": {
    "slideshow": {
     "slide_type": "subslide"
    }
   },
   "source": [
    "Suppose we already have capture syslog, infomodel log and aatrace message  \n",
    "log(every have start and stop * log keywords), and one day user want us to  \n",
    "implement a new common keyword for capture all the logs"
   ]
  },
  {
   "cell_type": "markdown",
   "metadata": {
    "slideshow": {
     "slide_type": "subslide"
    }
   },
   "source": [
    "### POP implementation"
   ]
  },
  {
   "cell_type": "code",
   "execution_count": null,
   "metadata": {
    "code_folding": [],
    "slideshow": {
     "slide_type": "subslide"
    }
   },
   "outputs": [],
   "source": [
    "# interface.py\n",
    "def start_capture_common_logs(syslog=True, infomodel=True, aatrace=True, log_save_path=\"/tmp\"):\n",
    "    start_syslog(log_save_path)\n",
    "    setup_infomodel(definitions_file_path=log_save_path)\n",
    "    start_infomodel_logger()\n",
    "    start_aatrace(log_save_path)\n",
    "\n",
    "def stop_capture_common_logs():\n",
    "    stop_syslog()\n",
    "    stop_infomodel_logger()\n",
    "    teardown_all_aliases_for_infomodel()\n",
    "    stop_aatrace() "
   ]
  },
  {
   "cell_type": "markdown",
   "metadata": {
    "slideshow": {
     "slide_type": "subslide"
    }
   },
   "source": [
    "### new requirement\n",
    "1. user want provide the aatrace profile which include the aatrace msg filter.\n",
    "2. user also want save the different log to different path\n",
    "3. If one log fails to start, the corresponding stop log is not executed"
   ]
  },
  {
   "cell_type": "code",
   "execution_count": null,
   "metadata": {
    "code_folding": [],
    "slideshow": {
     "slide_type": "subslide"
    }
   },
   "outputs": [],
   "source": [
    "# interface.py\n",
    "def start_capture_common_logs(syslog=True, infomodel=True, aatrace=True,\n",
    "                              syslog_save_path=\"/tmp\", infomodel_save_path=\"/tmp\", aatrace_save_path=\"/tmp\",\n",
    "                             aatrace_profile='profile.txt'):\n",
    "    start_syslog(syslog_save_path)\n",
    "    setup_infomodel(definitions_file_path=infomodel_save_path)\n",
    "    start_infomodel_logger()\n",
    "    start_aatrace(aatrace_save_path, profile=aatrace_profile)\n",
    "\n",
    "def stop_capture_common_logs():\n",
    "    try:\n",
    "        stop_syslog()\n",
    "    except:\n",
    "        pass\n",
    "    try:\n",
    "        stop_infomodel_logger()\n",
    "        teardown_all_aliases_for_infomodel()\n",
    "    except:\n",
    "        pass\n",
    "    try:\n",
    "        stop_aatrace()\n",
    "    except:\n",
    "        pass"
   ]
  },
  {
   "cell_type": "markdown",
   "metadata": {
    "slideshow": {
     "slide_type": "subslide"
    }
   },
   "source": [
    "### robot case example\n",
    "```robot\n",
    "***settings***\n",
    "library    ta_user_log\n",
    "\n",
    "***test cases***\n",
    "test_demo\n",
    "    start_capture_common_logs   syslog=${True}    infomodel=${True}    aatrace=${True}  \\\n",
    "    ...                 syslog_save_path=\"/tmp/syslog\"    infomodel_save_path=\"/tmp/infomodel\" \\   \n",
    "    ...                 aatrace_save_path=\"/tmp/aatrace\"  aatrace_profile=\"profile.txt\"                             \n",
    "    stop_capture_common_logs\n",
    "```"
   ]
  },
  {
   "cell_type": "markdown",
   "metadata": {
    "slideshow": {
     "slide_type": "subslide"
    }
   },
   "source": [
    "### What's the disadvantage about this example?"
   ]
  },
  {
   "cell_type": "markdown",
   "metadata": {
    "slideshow": {
     "slide_type": "fragment"
    }
   },
   "source": [
    "** 1.Too many parameters and the correspondence between parameters  \n",
    "can only be matched by name **"
   ]
  },
  {
   "cell_type": "markdown",
   "metadata": {
    "slideshow": {
     "slide_type": "fragment"
    }
   },
   "source": [
    "** 2.python stop *log function have too much try and except  \n",
    "waste unnecessary time **"
   ]
  },
  {
   "cell_type": "markdown",
   "metadata": {
    "slideshow": {
     "slide_type": "fragment"
    }
   },
   "source": [
    "** 3.Adding a new type of log is not convenient,  \n",
    "and changing the code in one place can cause bugs **"
   ]
  },
  {
   "cell_type": "markdown",
   "metadata": {
    "slideshow": {
     "slide_type": "subslide"
    }
   },
   "source": [
    "### refactor the capture logs with OOP"
   ]
  },
  {
   "cell_type": "code",
   "execution_count": null,
   "metadata": {
    "code_folding": [
     2
    ],
    "slideshow": {
     "slide_type": "subslide"
    }
   },
   "outputs": [],
   "source": [
    "# interface.py\n",
    "class user_log_config(object):\n",
    "    def __init__(self):\n",
    "        pass\n",
    "    def create_syslog_object(self, *args, **kwargs):\n",
    "        syslog_obj = SysLog(*args, **kwargs)\n",
    "        return syslog_obj\n",
    "    def create_infomodel_log_object(self, *args, **kwargs):\n",
    "        infomodel_obj = InfomodelLog(*args, **kwargs)\n",
    "        return infomodel_obj\n",
    "    def create_aatrace_log_object(self, *args, **kwargs):\n",
    "        aatrace_obj = AatraceLog(*args, **kwargs)\n",
    "        return aatrace_obj\n",
    "class ta_user_log(user_log_config):\n",
    "    def __init__(self):\n",
    "        self.log_obj_list = []\n",
    "    def start_collect_specific_log(self, *args):\n",
    "        for logger in args:\n",
    "            logger.start()\n",
    "            self.log_obj_list.append(logger)\n",
    "    def stop_collect_specific_log(self):\n",
    "        for logger in self.log_obj_list:\n",
    "            logger.stop()\n"
   ]
  },
  {
   "cell_type": "code",
   "execution_count": null,
   "metadata": {
    "code_folding": [
     2,
     12,
     13,
     22,
     23,
     34
    ],
    "slideshow": {
     "slide_type": "subslide"
    }
   },
   "outputs": [],
   "source": [
    "# log_imp.py\n",
    "from abc import abstractmethod\n",
    "class LogBase(object):\n",
    "    def __init__(self, *args, **kwargs):\n",
    "        self.args = args\n",
    "        self.kwargs = kwargs\n",
    "    @abstractmethod\n",
    "    def start(self):\n",
    "        pass\n",
    "    @abstractmethod\n",
    "    def stop(self):\n",
    "        pass\n",
    "class SysLog(LogBase):\n",
    "    def __init__(self, *args, **kwargs):\n",
    "        super(SysLog, self).__init__(*args, **kwargs)\n",
    "        self.log_save_path = kwargs.get('log_save_path', '/tmp')\n",
    "        self.syslogger = ute_syslog()\n",
    "    def start(self):\n",
    "        self.syslogger.start_syslog(self.log_save_path)\n",
    "    def stop(self):\n",
    "        self.syslogger.stop_syslog()\n",
    "\n",
    "class InfomodelLog(LogBase):\n",
    "    def __init__(self, *args, **kwargs):\n",
    "        super(InfomodelLog, self).__init__(*args, **kwargs)\n",
    "        self.infomodeler = ute_infomodel()\n",
    "        self.log_save_path = kwargs.get('log_save_path', '/tmp')\n",
    "    def start(self):\n",
    "        self.infomodeler.setup_infomodel(definitions_file_path=self.log_save_path)\n",
    "        self.infomodeler.start_infomodel_logger(self.log_save_path)\n",
    "    def stop(self):\n",
    "        self.infomodeler.stop_infomodel_logger()\n",
    "        self.infomodeler.teardown_all_aliases_for_infomodel()\n",
    "class AatraceLog(LogBase):\n",
    "    def __init__(self, *args, **kwargs):\n",
    "        super(AatraceLog, self).__init__(*args, **kwargs)\n",
    "        self.profile=kwagrs.get('profile.txt')\n",
    "        self.log_save_path = kwargs.get('log_save_path', '/tmp')\n",
    "        self.aatracelogger = ute_aatrace()\n",
    "    def start(self):\n",
    "        self.aatracelogger.start_aatrace(self.log_save_path, profile=self.profile)\n",
    "    def stop(self):\n",
    "        self.aatracelogger.stop_aatrace()"
   ]
  },
  {
   "cell_type": "markdown",
   "metadata": {
    "slideshow": {
     "slide_type": "subslide"
    }
   },
   "source": [
    "### robot case example\n",
    "```robot\n",
    "***settings***\n",
    "library    ta_user_log\n",
    "\n",
    "***test cases***\n",
    "test_demo\n",
    "    ${syslog_obj}=        create_syslog_object    log_save_path=\"/tmp/syslog/\"\n",
    "    ${infomodel_obj}=     create_infomodel_log_object    log_save_path=\"/tmp/infomodel/\"\n",
    "    ${aatrace_obj}=       create_aatrace_log_object      log_save_path=\"/tmp/aatrace/\"    profile=\"profile.txt\"\n",
    "    start_collect_specific_log    ${syslog_obj}    ${infomodel_obj}    ${aatrace_obj}\n",
    "    stop_collect_specific_log\n",
    "```"
   ]
  },
  {
   "cell_type": "markdown",
   "metadata": {
    "slideshow": {
     "slide_type": "slide"
    }
   },
   "source": [
    "# How to write OOP robot keyword "
   ]
  },
  {
   "cell_type": "markdown",
   "metadata": {
    "slideshow": {
     "slide_type": "subslide"
    }
   },
   "source": [
    "- clean code\n",
    "- Simulated good model"
   ]
  },
  {
   "cell_type": "markdown",
   "metadata": {
    "slideshow": {
     "slide_type": "subslide"
    }
   },
   "source": [
    "- constantly practice\n"
   ]
  },
  {
   "cell_type": "markdown",
   "metadata": {
    "slideshow": {
     "slide_type": "slide"
    }
   },
   "source": [
    "# Q&A"
   ]
  },
  {
   "cell_type": "markdown",
   "metadata": {
    "slideshow": {
     "slide_type": "slide"
    }
   },
   "source": [
    "# THANKS!"
   ]
  }
 ],
 "metadata": {
  "celltoolbar": "Attachments",
  "kernelspec": {
   "display_name": "Python 2",
   "language": "python",
   "name": "python2"
  },
  "language_info": {
   "codemirror_mode": {
    "name": "ipython",
    "version": 2
   },
   "file_extension": ".py",
   "mimetype": "text/x-python",
   "name": "python",
   "nbconvert_exporter": "python",
   "pygments_lexer": "ipython2",
   "version": "2.7.13"
  },
  "toc": {
   "base_numbering": 1,
   "nav_menu": {},
   "number_sections": true,
   "sideBar": true,
   "skip_h1_title": false,
   "title_cell": "Table of Contents",
   "title_sidebar": "Contents",
   "toc_cell": false,
   "toc_position": {},
   "toc_section_display": true,
   "toc_window_display": true
  }
 },
 "nbformat": 4,
 "nbformat_minor": 2
}
