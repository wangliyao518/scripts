{
 "cells": [
  {
   "cell_type": "markdown",
   "metadata": {
    "slideshow": {
     "slide_type": "slide"
    }
   },
   "source": [
    "# Python Intermediate\n",
    "\n",
    "![python](https://upload.wikimedia.org/wikipedia/commons/c/c3/Python-logo-notext.svg)\n",
    "\n",
    "### <center>--by wang liyao (leo)<center> ###"
   ]
  },
  {
   "cell_type": "markdown",
   "metadata": {
    "slideshow": {
     "slide_type": "slide"
    }
   },
   "source": [
    "## agenda  ##\n",
    "\n",
    "- Functional programming\n",
    "- Decorator\n",
    "- Unit Testing\n",
    "- Introspection\n",
    "- Parallel Handling\n",
    "- Web Development\n",
    "- Reference\n",
    "- Q&A\n",
    "\n",
    "\n",
    "\n",
    "\n"
   ]
  },
  {
   "cell_type": "markdown",
   "metadata": {
    "slideshow": {
     "slide_type": "slide"
    }
   },
   "source": [
    "## Functional programming\n",
    "\n",
    "lambda"
   ]
  },
  {
   "cell_type": "markdown",
   "metadata": {
    "slideshow": {
     "slide_type": "subslide"
    }
   },
   "source": [
    ">it’s almost certainly ture that functional programming is the next big thing\n",
    "\n",
    "--- Uncle Bob Martin"
   ]
  },
  {
   "cell_type": "code",
   "execution_count": null,
   "metadata": {
    "code_folding": [],
    "slideshow": {
     "slide_type": "subslide"
    }
   },
   "outputs": [],
   "source": [
    "# use function as parameter\n",
    "def get_visit_ips(file_path, callback):\n",
    "    with open(file_pth) as fp:\n",
    "        return [callback(line) for line in fp]"
   ]
  },
  {
   "cell_type": "code",
   "execution_count": null,
   "metadata": {
    "slideshow": {
     "slide_type": "subslide"
    }
   },
   "outputs": [],
   "source": [
    "# lambda\n",
    "lambda : True"
   ]
  },
  {
   "cell_type": "code",
   "execution_count": null,
   "metadata": {
    "slideshow": {
     "slide_type": "fragment"
    }
   },
   "outputs": [],
   "source": [
    "lambda x: x ** 2"
   ]
  },
  {
   "cell_type": "code",
   "execution_count": null,
   "metadata": {
    "slideshow": {
     "slide_type": "fragment"
    }
   },
   "outputs": [],
   "source": [
    "lambda x, y: x + y"
   ]
  },
  {
   "cell_type": "code",
   "execution_count": null,
   "metadata": {
    "slideshow": {
     "slide_type": "subslide"
    }
   },
   "outputs": [],
   "source": [
    "# map\n",
    "map(lambda x: x ** 2, range(10))"
   ]
  },
  {
   "cell_type": "code",
   "execution_count": null,
   "metadata": {
    "slideshow": {
     "slide_type": "fragment"
    }
   },
   "outputs": [],
   "source": [
    "# reduce\n",
    "reduce(lambda x, y: x + y, range(10))"
   ]
  },
  {
   "cell_type": "code",
   "execution_count": null,
   "metadata": {
    "slideshow": {
     "slide_type": "fragment"
    }
   },
   "outputs": [],
   "source": [
    "# filter\n",
    "filter(lambda x: x % 2 == 0, range(10))"
   ]
  },
  {
   "cell_type": "markdown",
   "metadata": {
    "slideshow": {
     "slide_type": "slide"
    }
   },
   "source": [
    "### Decorator"
   ]
  },
  {
   "cell_type": "code",
   "execution_count": 1,
   "metadata": {
    "slideshow": {
     "slide_type": "subslide"
    }
   },
   "outputs": [
    {
     "name": "stdout",
     "output_type": "stream",
     "text": [
      "5\n",
      "5\n",
      "cache hint!\n",
      "5\n"
     ]
    }
   ],
   "source": [
    "# return function\n",
    "def cache(func):\n",
    "    cached = {}\n",
    "    def _func(attr, *args, **kwargs):\n",
    "        if attr not in cached:\n",
    "            cached[attr] = func(attr, *args, **kwargs)\n",
    "        else:\n",
    "            print 'cache hint!'\n",
    "        return cached[attr]\n",
    "    \n",
    "    return _func\n",
    "\n",
    "def add_fun(a, b):\n",
    "    return a + b\n",
    "\n",
    "new_fun = cache(add_fun)\n",
    "print new_fun(2, 3)\n",
    "print new_fun(3, 2)\n",
    "print new_fun(2, 3)"
   ]
  },
  {
   "cell_type": "code",
   "execution_count": null,
   "metadata": {
    "slideshow": {
     "slide_type": "subslide"
    }
   },
   "outputs": [],
   "source": [
    "# cache wrapper\n",
    "import time\n",
    "def cache(func):\n",
    "    cached = {}\n",
    "    def _f(*args):\n",
    "        if args not in cached:\n",
    "            result = func(*args)\n",
    "            cached[args] = result\n",
    "        else:\n",
    "            print 'cache hint!'\n",
    "        return cached[args]\n",
    "    return _f\n",
    "\n",
    "@cache\n",
    "def sum_(*args):\n",
    "    return sum(args)\n",
    "start = time.clock()\n",
    "print sum_(3,2,1)  ####cache(sum)()\n",
    "cur = time.clock()\n",
    "print sum_(3,2,1)\n",
    "end = time.clock()\n",
    "print '1 cost:', cur - start\n",
    "print '2 cost:', end - cur"
   ]
  },
  {
   "cell_type": "markdown",
   "metadata": {
    "slideshow": {
     "slide_type": "subslide"
    }
   },
   "source": [
    "### One more step"
   ]
  },
  {
   "cell_type": "code",
   "execution_count": 2,
   "metadata": {
    "slideshow": {
     "slide_type": "subslide"
    }
   },
   "outputs": [
    {
     "name": "stdout",
     "output_type": "stream",
     "text": [
      "6\n",
      "6\n",
      "6\n"
     ]
    }
   ],
   "source": [
    "# cache wrapper for function\n",
    "import time\n",
    "\n",
    "def cache(timeout):\n",
    "    def _wrapped(func):\n",
    "        cached_start = {}\n",
    "        cached = {}\n",
    "        def _f(*args):\n",
    "            if args not in cached or ((time.time() - cached_start[args]) > timeout):\n",
    "                result = func(*args)\n",
    "                cached[args] = result\n",
    "                cached_start[args] = time.time()\n",
    "            else:\n",
    "                print 'cache hint!'\n",
    "            return cached[args]\n",
    "        return _f\n",
    "    return _wrapped\n",
    "\n",
    "#@cache(2)\n",
    "def sum_(*nums):  \n",
    "    return sum(nums)\n",
    "\n",
    "#print sum_(1,2,3)   # cache(2)(sum_)(1, 2, 3)\n",
    "#print sum_(1,2,3)\n",
    "print cache(3)(sum_)(1, 2, 3)\n",
    "print cache(3)(sum_)(1, 2, 3)\n",
    "from time import sleep\n",
    "sleep(1)\n",
    "print cache(2)(sum_)(1, 2, 3)\n",
    "#print sum_(1,2,3)"
   ]
  },
  {
   "cell_type": "code",
   "execution_count": null,
   "metadata": {
    "slideshow": {
     "slide_type": "subslide"
    }
   },
   "outputs": [],
   "source": [
    "class MyDict(dict):\n",
    "    @property\n",
    "    def max(self):\n",
    "        return max(self.values())\n",
    "\n",
    "MyDict(a=1, b=2, c=3).max"
   ]
  },
  {
   "cell_type": "markdown",
   "metadata": {
    "slideshow": {
     "slide_type": "subslide"
    }
   },
   "source": [
    "### functools"
   ]
  },
  {
   "cell_type": "markdown",
   "metadata": {
    "slideshow": {
     "slide_type": "fragment"
    }
   },
   "source": [
    ">Tools for working with functions and callable objects"
   ]
  },
  {
   "cell_type": "code",
   "execution_count": null,
   "metadata": {
    "slideshow": {
     "slide_type": "subslide"
    }
   },
   "outputs": [],
   "source": [
    "# functools.partial\n",
    "import functools\n",
    "\n",
    "def echo(name, city, country):\n",
    "    print '%s live in %s, %s' % (name, city, country)\n",
    "    \n",
    "f = functools.partial(echo, city='Hangzhou', country='China')\n",
    "\n",
    "f('Tom and Jerry')"
   ]
  },
  {
   "cell_type": "code",
   "execution_count": 5,
   "metadata": {
    "slideshow": {
     "slide_type": "subslide"
    }
   },
   "outputs": [
    {
     "name": "stdout",
     "output_type": "stream",
     "text": [
      "test\n"
     ]
    }
   ],
   "source": [
    "# functools.wraps\n",
    "import functools\n",
    "\n",
    "def before_deco(f):\n",
    "    @functools.wraps(f)\n",
    "    def wrapper(*args, **kwargs):\n",
    "        print 'before'\n",
    "        return f(*args, **kwargs)\n",
    "    \n",
    "    return wrapper\n",
    "\n",
    "@before_deco\n",
    "def test(name):   #test = before_deco(test) -> test() = before_deco(test) () = wrapper ()\n",
    "    print name\n",
    "    \n",
    "print test.func_name\n",
    "#print test('hello')"
   ]
  },
  {
   "cell_type": "markdown",
   "metadata": {
    "slideshow": {
     "slide_type": "subslide"
    }
   },
   "source": [
    "### Practice"
   ]
  },
  {
   "cell_type": "code",
   "execution_count": null,
   "metadata": {
    "slideshow": {
     "slide_type": "subslide"
    }
   },
   "outputs": [],
   "source": [
    "#斐波那契数列定义：From Wikipedia, the free encyclopedia\n",
    "\n",
    "#http://en.wikipedia.org/wiki/Fibonacci_number\n",
    "\n",
    "#In mathematics, the Fibonacci numbers or Fibonacci sequence are the numbers in the following integer sequence:[2][3]\n",
    "\n",
    "# 0,\\;1,\\;1,\\;2,\\;3,\\;5,\\;8,\\;13,\\;21,\\;34,\\;55,\\;89,\\;144,\\; \\ldots\\; (sequence A000045 in OEIS).\n",
    "# In mathematical terms, the sequence Fn of Fibonacci numbers is defined by the recurrence relation\n",
    "#F_0 = 0, F_1 = 1. F_n = F_{n-1} + F_{n-2}.\n",
    "# implement a function to evaluates the value of the postion N \n",
    "\n"
   ]
  },
  {
   "cell_type": "code",
   "execution_count": 8,
   "metadata": {
    "code_folding": [],
    "slideshow": {
     "slide_type": "subslide"
    }
   },
   "outputs": [
    {
     "name": "stdout",
     "output_type": "stream",
     "text": [
      "102334155\n",
      "0.0160000324249\n"
     ]
    }
   ],
   "source": [
    "def cache(func):\n",
    "    cached = {}\n",
    "    def _func(args):\n",
    "        if args not in cached:\n",
    "            cached[args] = func(args)\n",
    "        return cached[args]\n",
    "    \n",
    "    return _func\n",
    "\n",
    "@cache\n",
    "def fab(n):\n",
    "    if n==0 or n==1:\n",
    "        return n\n",
    "    else:\n",
    "        return fab(n-1) + fab(n-2)\n",
    "\n",
    "#print fab(0), fab(1), fab(2), fab(3), fab(4), fab(5)\n",
    "import time\n",
    "start_time = time.time()\n",
    "print fab(40)\n",
    "mid_time = time.time()\n",
    "#print cache(fab)(37)\n",
    "#end_time = time.time()\n",
    "print mid_time-start_time, #end_time-mid_time"
   ]
  },
  {
   "cell_type": "code",
   "execution_count": null,
   "metadata": {
    "slideshow": {
     "slide_type": "subslide"
    }
   },
   "outputs": [],
   "source": [
    "# implement a to_int function, that convert hex string data to integer\n",
    "# eg:\n",
    "#     to_int('\\xef')  ==> 239\n",
    "#     to_int('\\xef\\x01')  ==> 61185\n",
    "#     to_int('\\xef\\x01\\x01') ==> 15663361\n",
    "# NOTE: builtin function ord can return the integer ordinal of a one-character string\n"
   ]
  },
  {
   "cell_type": "markdown",
   "metadata": {
    "slideshow": {
     "slide_type": "slide"
    }
   },
   "source": [
    "## Unit Testing"
   ]
  },
  {
   "cell_type": "code",
   "execution_count": null,
   "metadata": {
    "slideshow": {
     "slide_type": "subslide"
    }
   },
   "outputs": [],
   "source": [
    "# Unit Testing\n",
    "import unittest\n",
    "\n",
    "def to_int(data):\n",
    "    sum = 1\n",
    "    return sum \n",
    "\n",
    "\n",
    "class TestToInt(unittest.TestCase):\n",
    "    def test_to_int_with_one_char_string(self):\n",
    "        self.assertEqual(to_int('\\x01'), 1)\n",
    "    \n",
    "    def _test_to_int_with_two_chars_string(self):\n",
    "        self.assertEqual(to_int('\\xef\\x01'), 61185)\n",
    "\n",
    "suite = unittest.TestLoader().loadTestsFromTestCase(TestToInt)\n",
    "unittest.TextTestRunner().run(suite)"
   ]
  },
  {
   "cell_type": "code",
   "execution_count": 9,
   "metadata": {
    "slideshow": {
     "slide_type": "subslide"
    }
   },
   "outputs": [
    {
     "name": "stderr",
     "output_type": "stream",
     "text": [
      "..\n",
      "----------------------------------------------------------------------\n",
      "Ran 2 tests in 0.031s\n",
      "\n",
      "OK\n"
     ]
    },
    {
     "data": {
      "text/plain": [
       "<unittest.runner.TextTestResult run=2 errors=0 failures=0>"
      ]
     },
     "execution_count": 9,
     "metadata": {},
     "output_type": "execute_result"
    }
   ],
   "source": [
    "# Unit Testing\n",
    "import unittest\n",
    "\n",
    "def to_int(data):\n",
    "    sum = 0\n",
    "    for index, num in enumerate(data[::-1]): \n",
    "        sum += ord(num)*16**(index*2) \n",
    "    return sum\n",
    "\n",
    "\n",
    "class TestToInt(unittest.TestCase):\n",
    "    def test_to_int_with_one_char_string(self):\n",
    "        self.assertEqual(to_int('\\x01'), 1)\n",
    "    \n",
    "    def test_to_int_with_two_chars_string(self):\n",
    "        self.assertEqual(to_int('\\xef\\x01'), 61185)\n",
    "\n",
    "suite = unittest.TestLoader().loadTestsFromTestCase(TestToInt)\n",
    "unittest.TextTestRunner().run(suite)"
   ]
  },
  {
   "cell_type": "code",
   "execution_count": 10,
   "metadata": {},
   "outputs": [
    {
     "name": "stderr",
     "output_type": "stream",
     "text": [
      "...\n",
      "----------------------------------------------------------------------\n",
      "Ran 3 tests in 0.047s\n",
      "\n",
      "OK\n"
     ]
    },
    {
     "data": {
      "text/plain": [
       "<unittest.runner.TextTestResult run=3 errors=0 failures=0>"
      ]
     },
     "execution_count": 10,
     "metadata": {},
     "output_type": "execute_result"
    }
   ],
   "source": [
    "# Unit Testing\n",
    "import unittest\n",
    "\n",
    "def to_int(data):\n",
    "    sum = reduce(lambda x,y : x + y, map(lambda x, y: ord(x)*(16**(y*2)), data[::-1], range(len(data))), 0)\n",
    "    return sum\n",
    "\n",
    "class TestToInt(unittest.TestCase):\n",
    "    def test_to_int_with_one_char_string(self):\n",
    "        self.assertEqual(to_int('\\x01'), 1)\n",
    "    \n",
    "    def test_to_int_with_two_chars_string(self):\n",
    "        self.assertEqual(to_int('\\xef\\x01'), 61185)\n",
    "\n",
    "    def test_to_int_with_three_chars_string(self):\n",
    "        self.assertEqual(to_int('\\xef\\x01\\x01'), 15663361)\n",
    "\n",
    "suite = unittest.TestLoader().loadTestsFromTestCase(TestToInt)\n",
    "unittest.TextTestRunner().run(suite)"
   ]
  },
  {
   "cell_type": "code",
   "execution_count": 6,
   "metadata": {
    "slideshow": {
     "slide_type": "notes"
    }
   },
   "outputs": [
    {
     "name": "stdout",
     "output_type": "stream",
     "text": [
      "61185\n",
      "1st cost: 0.0340001583099\n",
      "2nd cost: 0.0449998378754\n"
     ]
    }
   ],
   "source": [
    "def evaluates(x):\n",
    "    total_digit = len(x)\n",
    "    total_value = 0\n",
    "    y = x[::-1]\n",
    "    for index, value in enumerate(y):\n",
    "        #total_value += ord(value)*16**(2*(total_digit-index-1))\n",
    "        total_value += ord(value)*16**(2*(index))\n",
    "    return total_value\n",
    "\n",
    "def to_int(data):\n",
    "    sum = reduce(lambda x,y : x + y, map(lambda x, y: ord(x)*(16**(y*2)), data[::-1], range(len(data))), 0)\n",
    "    return sum\n",
    "\n",
    "\n",
    "import time\n",
    "print evaluates('\\xef\\x01')\n",
    "begin = time.time()\n",
    "for i in range(1000):\n",
    "    evaluates('\\xef\\x01\\x01\\x01\\x01\\x01\\xef\\x01\\x01\\x01\\x01\\x01\\xef\\x01\\x01\\x01\\x01\\x01\\xef\\x01\\x01\\x01\\x01\\x01')\n",
    "mid = time.time()\n",
    "for j in range(1000):\n",
    "    to_int('\\xef\\x01\\x01\\x01\\x01\\x01\\xef\\x01\\x01\\x01\\x01\\x01\\xef\\x01\\x01\\x01\\x01\\x01\\xef\\x01\\x01\\x01\\x01\\x01')\n",
    "end = time.time()\n",
    "print '1st cost:', mid-begin\n",
    "print '2nd cost:', end-mid"
   ]
  },
  {
   "cell_type": "code",
   "execution_count": 5,
   "metadata": {
    "slideshow": {
     "slide_type": "subslide"
    }
   },
   "outputs": [
    {
     "name": "stderr",
     "output_type": "stream",
     "text": [
      "."
     ]
    },
    {
     "name": "stdout",
     "output_type": "stream",
     "text": [
      "\n"
     ]
    },
    {
     "name": "stderr",
     "output_type": "stream",
     "text": [
      "\n",
      "----------------------------------------------------------------------\n",
      "Ran 1 test in 0.010s\n",
      "\n",
      "OK\n"
     ]
    },
    {
     "data": {
      "text/plain": [
       "<unittest.runner.TextTestResult run=1 errors=0 failures=0>"
      ]
     },
     "execution_count": 5,
     "metadata": {},
     "output_type": "execute_result"
    }
   ],
   "source": [
    "# mock\n",
    "import time\n",
    "\n",
    "def delay_print(msg, delay):\n",
    "    time.sleep(delay)\n",
    "    print msg\n",
    "    \n",
    "import unittest\n",
    "\n",
    "time.sleep = lambda x: True\n",
    "\n",
    "class TestDelayPrint(unittest.TestCase):\n",
    "    def test_delay_print_empty_string(self):\n",
    "        delay_print('', 5)\n",
    "            \n",
    "suite = unittest.TestLoader().loadTestsFromTestCase(TestDelayPrint)\n",
    "unittest.TextTestRunner().run(suite)"
   ]
  },
  {
   "cell_type": "markdown",
   "metadata": {
    "slideshow": {
     "slide_type": "subslide"
    }
   },
   "source": [
    "### One more step"
   ]
  },
  {
   "cell_type": "code",
   "execution_count": 13,
   "metadata": {
    "code_folding": [
     27,
     33,
     40
    ],
    "slideshow": {
     "slide_type": "subslide"
    }
   },
   "outputs": [
    {
     "name": "stderr",
     "output_type": "stream",
     "text": [
      "....\n",
      "----------------------------------------------------------------------\n",
      "Ran 4 tests in 0.062s\n",
      "\n",
      "OK\n"
     ]
    },
    {
     "data": {
      "text/plain": [
       "<unittest.runner.TextTestResult run=4 errors=0 failures=0>"
      ]
     },
     "execution_count": 13,
     "metadata": {},
     "output_type": "execute_result"
    }
   ],
   "source": [
    "import unittest\n",
    "from mock import Mock\n",
    "import re\n",
    "\n",
    "class FsmAccess(object):\n",
    "\n",
    "    def __init__(self, connection):\n",
    "        self.con = connection\n",
    "\n",
    "    def get_lmp_ip_address(self):\n",
    "        result = \"\"\n",
    "        stderr, stdout = self.con.exec_command(\"ifconfig eth3\")\n",
    "        pattern = r\":(\\d{1,4}.\\d{1,4}.\\d{1,4}.\\d{1,4})\"\n",
    "        for line in stdout.split('\\n'):\n",
    "            ret = re.search(pattern, line)\n",
    "            if ret:\n",
    "                result = ret.groups()[0]\n",
    "        return result\n",
    "\n",
    "\n",
    "class MockConnection(object):\n",
    "\n",
    "    def exec_command(self, command):\n",
    "        return  0, 'eth3      Link encap:Ethernet  HWaddr 00:0F:BB:BA:99:CD  \\ninet address:10.0.1.2  Bcast:10.0.2.255  Mask:255.255.255.0\\nUP BROADCAST RUNNING MULTICAST  MTU:1500  Metric:1\\nRX packets:0 errors:0 dropped:0 overruns:0 frame:0\\nTX packets:16 errors:0 dropped:0 overruns:0 carrier:0\\ncollisions:0 txqueuelen:1000\\nRX bytes:0 (0.0 B)  TX bytes:1152 (1.1 KiB)'\n",
    "\n",
    "class TestFsmAccess(unittest.TestCase):\n",
    "    \n",
    "    def test_get_lmp_ip_add_not_use_Mock(self):\n",
    "        mock_instant = MockConnection()\n",
    "        fsm_instance = FsmAccess(connection=mock_instant)\n",
    "        ret = fsm_instance.get_lmp_ip_address()\n",
    "        self.assertEqual(ret, '10.0.1.2')\n",
    "\n",
    "    def test_get_lmp_ip_address_use_mock(self):\n",
    "        con_mock = Mock()\n",
    "        con_mock.exec_command.return_value = 0, 'eth3      Link encap:Ethernet  HWaddr 00:0F:BB:BA:99:CD  \\ninet address:10.0.1.2  Bcast:10.0.2.255  Mask:255.255.255.0\\nUP BROADCAST RUNNING MULTICAST  MTU:1500  Metric:1\\nRX packets:0 errors:0 dropped:0 overruns:0 frame:0\\nTX packets:16 errors:0 dropped:0 overruns:0 carrier:0\\ncollisions:0 txqueuelen:1000\\nRX bytes:0 (0.0 B)  TX bytes:1152 (1.1 KiB)'\n",
    "        fsm_instance = FsmAccess(connection=con_mock)\n",
    "        ret = fsm_instance.get_lmp_ip_address()\n",
    "        self.assertEqual(ret, '10.0.1.2')\n",
    "\n",
    "    def test_get_lmp_ip_address_use_mock_return_value(self):\n",
    "        fsm_instance = FsmAccess(connection=Mock())\n",
    "        fsm_instance.con.exec_command = Mock(return_value=(0, 'eth3      Link encap:Ethernet  HWaddr 00:0F:BB:BA:99:CD  \\ninet address:10.0.1.2  Bcast:10.0.2.255  Mask:255.255.255.0\\nUP BROADCAST RUNNING MULTICAST  MTU:1500  Metric:1\\nRX packets:0 errors:0 dropped:0 overruns:0 frame:0\\nTX packets:16 errors:0 dropped:0 overruns:0 carrier:0\\ncollisions:0 txqueuelen:1000\\nRX bytes:0 (0.0 B)  TX bytes:1152 (1.1 KiB)'))\n",
    "        ret = fsm_instance.get_lmp_ip_address()\n",
    "        self.assertEqual(ret, '10.0.1.2')\n",
    "\n",
    "    def test_get_lmp_ip_address_use_mock_return_value_new(self):\n",
    "        fsm_instance = FsmAccess(connection=Mock())\n",
    "        fsm_instance.con.exec_command = Mock(return_value=(0, 'eth3      Link encap:Ethernet  HWaddr 00:0F:BB:BA:99:CD  \\ninet addr:10.0.1.2  Bcast:10.0.2.255  Mask:255.255.255.0\\nUP BROADCAST RUNNING MULTICAST  MTU:1500  Metric:1\\nRX packets:0 errors:0 dropped:0 overruns:0 frame:0\\nTX packets:16 errors:0 dropped:0 overruns:0 carrier:0\\ncollisions:0 txqueuelen:1000\\nRX bytes:0 (0.0 B)  TX bytes:1152 (1.1 KiB)'))\n",
    "        ret = fsm_instance.get_lmp_ip_address()\n",
    "        self.assertEqual(ret, '10.0.1.2')\n",
    "\n",
    "suite = unittest.TestLoader().loadTestsFromTestCase(TestFsmAccess)\n",
    "\n",
    "unittest.TextTestRunner().run(suite)"
   ]
  },
  {
   "cell_type": "markdown",
   "metadata": {
    "slideshow": {
     "slide_type": "subslide"
    }
   },
   "source": [
    "### Practice\n",
    "\n",
    "> small change with the get_lmp_ip_address example, assume the output word address is addr\n",
    "\n",
    "    def test_get_lmp_ip_address_with_new_output(self):\n",
    "        fsm_instance = FsmAccess(connection=Mock())\n",
    "        fsm_instance.con.exec_command = Mock(return_value=(0, 'eth3      Link encap:Ethernet  HWaddr 00:0F:BB:BA:99:CD  \\ninet addr:10.0.1.2  Bcast:10.0.2.255  Mask:255.255.255.0\\nUP BROADCAST RUNNING MULTICAST  MTU:1500  Metric:1\\nRX packets:0 errors:0 dropped:0 overruns:0 frame:0\\nTX packets:16 errors:0 dropped:0 overruns:0 carrier:0\\ncollisions:0 txqueuelen:1000\\nRX bytes:0 (0.0 B)  TX bytes:1152 (1.1 KiB)'))\n",
    "        ret = fsm_instance.get_lmp_ip_address()\n",
    "        self.assertEqual(ret, '10.0.1.2')"
   ]
  },
  {
   "cell_type": "markdown",
   "metadata": {
    "slideshow": {
     "slide_type": "slide"
    }
   },
   "source": [
    "## Introspection\n"
   ]
  },
  {
   "cell_type": "code",
   "execution_count": null,
   "metadata": {
    "slideshow": {
     "slide_type": "subslide"
    }
   },
   "outputs": [],
   "source": [
    "# dir\n",
    "import os\n",
    "\n",
    "print dir(os)"
   ]
  },
  {
   "cell_type": "code",
   "execution_count": 14,
   "metadata": {
    "slideshow": {
     "slide_type": "subslide"
    }
   },
   "outputs": [
    {
     "name": "stdout",
     "output_type": "stream",
     "text": [
      "<type 'str'>\n"
     ]
    }
   ],
   "source": [
    "# type\n",
    "s = 'hello world'\n",
    "\n",
    "print type(s)"
   ]
  },
  {
   "cell_type": "markdown",
   "metadata": {
    "slideshow": {
     "slide_type": "subslide"
    }
   },
   "source": [
    "> Everything is an object in Python."
   ]
  },
  {
   "cell_type": "code",
   "execution_count": 15,
   "metadata": {
    "slideshow": {
     "slide_type": "subslide"
    }
   },
   "outputs": [
    {
     "name": "stdout",
     "output_type": "stream",
     "text": [
      "<type 'int'>\n",
      "<type 'type'>\n"
     ]
    }
   ],
   "source": [
    "a = 5\n",
    "print type(a)\n",
    "print type(type(a))"
   ]
  },
  {
   "cell_type": "code",
   "execution_count": 20,
   "metadata": {
    "slideshow": {
     "slide_type": "subslide"
    }
   },
   "outputs": [
    {
     "name": "stdout",
     "output_type": "stream",
     "text": [
      "True\n",
      "False\n",
      "ab\n"
     ]
    }
   ],
   "source": [
    "# hasattr\n",
    "class DynamicObject(object):\n",
    "    def __init__(self):\n",
    "        self.a = \"ab\"\n",
    "    def __getattr__(self, attr):\n",
    "        if attr in ('a', 'b', 'c'):\n",
    "            return attr.upper()\n",
    "        raise AttributeError\n",
    "\n",
    "obj = DynamicObject()\n",
    "\n",
    "print hasattr(obj, 'a')\n",
    "print hasattr(obj, 'd')\n",
    "print obj.a\n"
   ]
  },
  {
   "cell_type": "markdown",
   "metadata": {
    "slideshow": {
     "slide_type": "subslide"
    }
   },
   "source": [
    "### Practice"
   ]
  },
  {
   "cell_type": "code",
   "execution_count": null,
   "metadata": {
    "slideshow": {
     "slide_type": "fragment"
    }
   },
   "outputs": [],
   "source": [
    "# 1. implement a bash wrapper, so that I can call bash command like a class attribute\n",
    "#\n",
    "#     bash = BashWrapper()\n",
    "#     bash.ping('10.69.69.124')\n",
    "#     bash.ls('-l /')\n",
    "#\n",
    "# Write your code here"
   ]
  },
  {
   "cell_type": "code",
   "execution_count": 22,
   "metadata": {
    "slideshow": {
     "slide_type": "notes"
    }
   },
   "outputs": [
    {
     "name": "stdout",
     "output_type": "stream",
     "text": [
      "\n",
      "Pinging 127.0.0.1 with 32 bytes of data:\n",
      "Reply from 127.0.0.1: bytes=32 time<1ms TTL=128\n",
      "Reply from 127.0.0.1: bytes=32 time<1ms TTL=128\n",
      "Reply from 127.0.0.1: bytes=32 time<1ms TTL=128\n",
      "Reply from 127.0.0.1: bytes=32 time<1ms TTL=128\n",
      "\n",
      "Ping statistics for 127.0.0.1:\n",
      "    Packets: Sent = 4, Received = 4, Lost = 0 (0% loss),\n",
      "Approximate round trip times in milli-seconds:\n",
      "    Minimum = 0ms, Maximum = 0ms, Average = 0ms\n",
      "\n",
      "total 22129\n",
      "----------+ 1 liyawang ????????     5208 Aug 15 17:41 UT_test.ipynb\n",
      "----------+ 1 liyawang ????????    11354 Aug 22 18:06 Untitled.ipynb\n",
      "----------+ 1 liyawang ????????      413 Aug 21 20:39 bashwrapper.py\n",
      "----------+ 1 liyawang ????????      851 Aug 21 20:39 bashwrapper.pyc\n",
      "----------+ 1 liyawang ????????     3195 May 27 11:35 database.ipynb\n",
      "----------+ 1 liyawang ????????    36391 Jun 25 22:00 develop_robot_keyword_base_on_OOP-Copy1.ipynb\n",
      "----------+ 1 liyawang ????????  2152019 Jun 25 21:31 develop_robot_keyword_base_on_OOP.ipynb\n",
      "----------+ 1 liyawang ????????    17635 Jun 23 10:23 fengmian.jpg\n",
      "----------+ 1 liyawang ????????   341562 Jan  7  2018 intermediate.slides.html\n",
      "----------+ 1 liyawang ????????   323384 Jan  7  2018 intermediate.slides_v1.html\n",
      "----------+ 1 liyawang ????????    67835 Aug 23 09:54 notebook.tex\n",
      "----------+ 1 liyawang ????????   139922 Jul  9 15:05 open_close_principle.ipynb\n",
      "----------+ 1 liyawang ???????? 11270371 May 27 19:32 plotly_learning.ipynb\n",
      "----------+ 1 liyawang ????????  1538089 Apr  9 22:06 python_basic_training-Copy1.ipynb\n",
      "----------+ 1 liyawang ????????  1549539 Apr 10 16:28 python_basic_training.ipynb\n",
      "----------+ 1 liyawang ????????   297773 Jun  7 18:00 python_concurrence_and_parallel.ipynb\n",
      "----------+ 1 liyawang ????????    67889 Jun  6 16:05 python_concurrence_and_parallel.tex\n",
      "----------+ 1 liyawang ????????   785787 Jun  5 10:47 python_concurrence_programming.ipynb\n",
      "----------+ 1 liyawang ????????   347630 Feb 23 10:51 python_intermediate_training.html\n",
      "----------+ 1 liyawang ????????    38356 Aug 23 15:07 python_intermediate_training.ipynb\n",
      "----------+ 1 liyawang ????????   354032 Feb 23 10:49 python_intermediate_training.slides.html\n",
      "----------+ 1 liyawang ????????    31263 Aug 23 09:54 python_intermediate_training_without_answer.ipynb\n",
      "----------+ 1 liyawang ????????    34210 May 11 17:52 python_training - Copy.ipynb\n",
      "----------+ 1 liyawang ????????    33873 Feb 23 13:27 python_training.ipynb\n",
      "----------+ 1 liyawang ????????   424654 Jun 24 20:41 shop.png\n",
      "----------+ 1 liyawang ????????  2735652 May 27 14:50 temp-plot.html\n",
      "d---------+ 3 liyawang ????????     4096 Aug 22 20:40 test_demo\n",
      "\n"
     ]
    }
   ],
   "source": [
    "import subprocess\n",
    "class BashWrapper(object):\n",
    "        def my_fun(self, args):\n",
    "            return subprocess.check_output('{} {}'.format(self.funcname, args),shell=True)\n",
    "        def __getattr__(self, fun):\n",
    "            self.funcname = fun\n",
    "            return self.my_fun\n",
    "              \n",
    "bash = BashWrapper()\n",
    "print bash.ping(\"-i 1 127.0.0.1\")\n",
    "print bash.ls(\"-l ./\")"
   ]
  },
  {
   "cell_type": "code",
   "execution_count": 1,
   "metadata": {
    "slideshow": {
     "slide_type": "notes"
    }
   },
   "outputs": [
    {
     "name": "stdout",
     "output_type": "stream",
     "text": [
      "total 117\n",
      "-r-xr-x---+  1 liyawang mkgroup-l-d    57 Jan  4  2018 Cygwin.bat\n",
      "-r-xr-x---+  1 liyawang mkgroup-l-d  7022 Jan  4  2018 Cygwin.ico\n",
      "dr-xr-x---+  2 liyawang mkgroup-l-d 98304 Jan  4  2018 bin\n",
      "dr-xr-xr-x   1        0 root            0 Jan  1  1970 cygdrive\n",
      "dr-xr-x---+  2 liyawang mkgroup-l-d     0 Jan  4  2018 dev\n",
      "drwxr-xr-x+ 11 liyawang mkgroup-l-d  8192 Jan  4  2018 etc\n",
      "dr-xr-x---+ 10 liyawang mkgroup-l-d     0 Jan  4  2018 lib\n",
      "dr-xr-xr-x   1 liyawang mkgroup-l-d     0 Dec  1  2006 proc\n",
      "drwxrwxrwt+  2 liyawang mkgroup-l-d     0 Jan  7  2018 tmp\n",
      "dr-xr-x---+ 12 liyawang mkgroup-l-d  4096 Jan  4  2018 usr\n",
      "drwxrwxrwx+  8 liyawang mkgroup-l-d     0 Jan  4  2018 var\n",
      "\n"
     ]
    }
   ],
   "source": [
    "import subprocess\n",
    "class BashWrapper(object):\n",
    "        def __getattr__(self, fun): \n",
    "            return lambda args: subprocess.check_output('{} {}'.format(fun, args),shell=True)\n",
    "              \n",
    "bash = BashWrapper()\n",
    "print bash.ls('-l /')"
   ]
  },
  {
   "cell_type": "code",
   "execution_count": null,
   "metadata": {
    "slideshow": {
     "slide_type": "fragment"
    }
   },
   "outputs": [],
   "source": [
    "# one more step...\n",
    "# 2. what about a bash wrapper module, so that I can call bash command like a module import\n",
    "#     from bashwrapper import ping\n",
    "#     ping('10.69.69.124')\n",
    "#     from bashwrapper import ls\n",
    "#     ls('-l', '~')"
   ]
  },
  {
   "cell_type": "markdown",
   "metadata": {
    "slideshow": {
     "slide_type": "slide"
    }
   },
   "source": [
    "## Parallel Handling\n"
   ]
  },
  {
   "cell_type": "code",
   "execution_count": 6,
   "metadata": {
    "slideshow": {
     "slide_type": "subslide"
    }
   },
   "outputs": [
    {
     "name": "stdout",
     "output_type": "stream",
     "text": [
      "32845\n",
      "19544\n",
      "153650\n",
      "used time: 1.61800003052\n"
     ]
    }
   ],
   "source": [
    "# fetch content size from a series of web sites\n",
    "import urllib\n",
    "import time\n",
    "\n",
    "urls = ['http://tdlte-report-server.china.nsn-net.net',\n",
    "        'http://10.68.183.66/kiss/ute_tools/',\n",
    "        'http://pypi.ute.nsn-rdnet.net/']\n",
    "\n",
    "begin = time.time()\n",
    "for url in urls:\n",
    "    print len(urllib.urlopen(url, proxies={}).read())\n",
    "end = time.time()\n",
    "print 'used time:', end-begin"
   ]
  },
  {
   "cell_type": "code",
   "execution_count": 11,
   "metadata": {
    "code_folding": [
     5,
     9,
     14,
     19
    ],
    "slideshow": {
     "slide_type": "subslide"
    }
   },
   "outputs": [
    {
     "name": "stdout",
     "output_type": "stream",
     "text": [
      "19544\n",
      "32845\n",
      "153650\n",
      "used time: 1.20200014114\n"
     ]
    }
   ],
   "source": [
    "# introduce thread\n",
    "from threading import Thread\n",
    "import urllib\n",
    "import time\n",
    "\n",
    "urls = ['http://tdlte-report-server.china.nsn-net.net',\n",
    "        'http://10.68.183.66/kiss/ute_tools/',\n",
    "        'http://pypi.ute.nsn-rdnet.net/']\n",
    "\n",
    "class UrlFetchThread(Thread):\n",
    "    def __init__(self, url, *args):\n",
    "        super(UrlFetchThread, self).__init__(*args)\n",
    "        self._url = url\n",
    "        \n",
    "    def run(self):\n",
    "        print len(urllib.urlopen(self._url).read())\n",
    "\n",
    "begin = time.time()\n",
    "threads = map(UrlFetchThread, urls)\n",
    "for t in threads:\n",
    "    t.start()\n",
    "for t in threads:\n",
    "    t.join()\n",
    "end = time.time()\n",
    "print 'used time:', end-begin"
   ]
  },
  {
   "cell_type": "code",
   "execution_count": 14,
   "metadata": {
    "code_folding": [
     5,
     10,
     18,
     20
    ],
    "slideshow": {
     "slide_type": "subslide"
    }
   },
   "outputs": [
    {
     "name": "stdout",
     "output_type": "stream",
     "text": [
      "used time: 0.379999876022\n"
     ]
    }
   ],
   "source": [
    "# introduce multi process\n",
    "from multiprocessing import Process\n",
    "import urllib\n",
    "import time\n",
    "\n",
    "urls = ['http://tdlte-report-server.china.nsn-net.net',\n",
    "        'http://10.68.183.66/kiss/ute_tools/',\n",
    "        'http://pypi.ute.nsn-rdnet.net/']\n",
    "\n",
    "class UrlFetchProcess(Process):\n",
    "    def __init__(self, url, *args):\n",
    "        super(UrlFetchProcess, self).__init__(*args)\n",
    "        self._url = url\n",
    "        \n",
    "    def run(self):\n",
    "        print len(urllib.urlopen(self._url).read())\n",
    "begin = time.time()        \n",
    "processes = map(UrlFetchProcess, urls)\n",
    "for p in processes:\n",
    "    p.start()\n",
    "for p in processes:\n",
    "    p.join()\n",
    "end = time.time()\n",
    "print 'used time:', end - begin"
   ]
  },
  {
   "cell_type": "code",
   "execution_count": null,
   "metadata": {
    "code_folding": [
     5,
     9
    ],
    "slideshow": {
     "slide_type": "subslide"
    }
   },
   "outputs": [],
   "source": [
    "# use Pool\n",
    "import time\n",
    "from multiprocessing import Pool\n",
    "from multiprocessing.dummy import Pool as ThreadPool\n",
    "\n",
    "urls = ['http://tdlte-report-server.china.nsn-net.net',\n",
    "        'http://10.68.183.66/kiss/ute_tools/',\n",
    "        'http://pypi.ute.nsn-rdnet.net/']\n",
    "\n",
    "def fetch_content(url):\n",
    "    print len(urllib.urlopen(url).read())\n",
    "\n",
    "print 'begin test!'\n",
    "procss_start_time = time.time()\n",
    "pool = Pool()\n",
    "pool.map(fetch_content, urls)\n",
    "pool.close()\n",
    "pool.join()\n",
    "procss_end_time = time.time()\n",
    "print 'proces use time:', procss_end_time - procss_start_time\n",
    "\n",
    "# -----------------------------------------\n",
    "thread_start_time = time.time()\n",
    "thread_pool = ThreadPool()\n",
    "thread_pool.map(fetch_content, urls)\n",
    "thread_pool.close()\n",
    "thread_pool.join()\n",
    "thread_end_time = time.time()\n",
    "print 'thread use time:', thread_end_time - thread_start_time"
   ]
  },
  {
   "cell_type": "code",
   "execution_count": 23,
   "metadata": {
    "slideshow": {
     "slide_type": "subslide"
    }
   },
   "outputs": [
    {
     "name": "stdout",
     "output_type": "stream",
     "text": [
      "used time: 0.0150001049042\n"
     ]
    },
    {
     "name": "stderr",
     "output_type": "stream",
     "text": [
      "Traceback (most recent call last):\n",
      "  File \"c:\\python27\\lib\\site-packages\\gevent\\greenlet.py\", line 536, in run\n",
      "    result = self._run(*self.args, **self.kwargs)\n",
      "  File \"<ipython-input-23-4f722919bae8>\", line 12, in fetch_content\n",
      "    print len(urllib.urlopen(url).read())\n",
      "NameError: global name 'urllib' is not defined\n",
      "Thu Aug 23 15:14:51 2018 <Greenlet at 0x5ec5800L: fetch_content('http://tdlte-report-server.china.nsn-net.net')> failed with NameError\n",
      "\n",
      "Traceback (most recent call last):\n",
      "  File \"c:\\python27\\lib\\site-packages\\gevent\\greenlet.py\", line 536, in run\n",
      "    result = self._run(*self.args, **self.kwargs)\n",
      "  File \"<ipython-input-23-4f722919bae8>\", line 12, in fetch_content\n",
      "    print len(urllib.urlopen(url).read())\n",
      "NameError: global name 'urllib' is not defined\n",
      "Thu Aug 23 15:14:51 2018 <Greenlet at 0x5ec5930L: fetch_content('http://10.68.183.66/kiss/ute_tools/')> failed with NameError\n",
      "\n",
      "Traceback (most recent call last):\n",
      "  File \"c:\\python27\\lib\\site-packages\\gevent\\greenlet.py\", line 536, in run\n",
      "    result = self._run(*self.args, **self.kwargs)\n",
      "  File \"<ipython-input-23-4f722919bae8>\", line 12, in fetch_content\n",
      "    print len(urllib.urlopen(url).read())\n",
      "NameError: global name 'urllib' is not defined\n",
      "Thu Aug 23 15:14:51 2018 <Greenlet at 0x5ec59c8L: fetch_content('http://pypi.ute.nsn-rdnet.net/')> failed with NameError\n",
      "\n"
     ]
    }
   ],
   "source": [
    "# introduce gevent\n",
    "import gevent\n",
    "from gevent import monkey\n",
    "import time\n",
    "monkey.patch_all()\n",
    "\n",
    "urls = ['http://tdlte-report-server.china.nsn-net.net',\n",
    "        'http://10.68.183.66/kiss/ute_tools/',\n",
    "        'http://pypi.ute.nsn-rdnet.net/']\n",
    "\n",
    "def fetch_content(url):\n",
    "    print len(urllib.urlopen(url).read())\n",
    "begin = time.time()    \n",
    "[gevent.spawn(fetch_content, url) for url in urls]\n",
    "\n",
    "gevent.wait()\n",
    "end = time.time()\n",
    "print 'used time:', end - begin"
   ]
  },
  {
   "cell_type": "code",
   "execution_count": null,
   "metadata": {
    "slideshow": {
     "slide_type": "subslide"
    }
   },
   "outputs": [],
   "source": [
    "# Queue\n",
    "from multiprocessing import Process, Queue\n",
    "import time\n",
    "\n",
    "def f(q, num):\n",
    "    q.put([num, None, 'hello'])\n",
    "\n",
    "if __name__ == '__main__':\n",
    "    q = Queue()\n",
    "    begin  = time.time()\n",
    "    p1 = Process(target=f, args=(q, 12))\n",
    "    p2 = Process(target=f, args=(q, 24))\n",
    "    p1.start()\n",
    "    p2.start()\n",
    "    print q.get()\n",
    "    print q.get()\n",
    "    p1.join()\n",
    "    p2.join()\n",
    "    end = time.time()\n",
    "    print 'used time:', end - begin"
   ]
  },
  {
   "cell_type": "markdown",
   "metadata": {
    "slideshow": {
     "slide_type": "subslide"
    }
   },
   "source": [
    "### Practice"
   ]
  },
  {
   "cell_type": "code",
   "execution_count": null,
   "metadata": {
    "slideshow": {
     "slide_type": "fragment"
    }
   },
   "outputs": [],
   "source": [
    "# (after class) implement a FAST ftp downloder \n",
    "# eg: download ftp://hztdltev01.china.nsn-net.net/esa_data/\n"
   ]
  },
  {
   "cell_type": "markdown",
   "metadata": {
    "slideshow": {
     "slide_type": "slide"
    }
   },
   "source": [
    "## Web Development\n",
    "\n",
    "![Python Web](/files/images/pyweb.png)"
   ]
  },
  {
   "cell_type": "code",
   "execution_count": null,
   "metadata": {
    "slideshow": {
     "slide_type": "subslide"
    }
   },
   "outputs": [
    {
     "name": "stdout",
     "output_type": "stream",
     "text": [
      "The history saving thread hit an unexpected error (LoopExit('This operation would block forever', <Hub at 0x5fd90e0 select pending=0 ref=0>)).History will not be written to the database.\n"
     ]
    },
    {
     "name": "stderr",
     "output_type": "stream",
     "text": [
      "127.0.0.1 - - [23/Aug/2018 15:18:07] \"GET / HTTP/1.1\" 200 -\n",
      "127.0.0.1 - - [23/Aug/2018 15:18:07] code 404, message File not found\n",
      "127.0.0.1 - - [23/Aug/2018 15:18:07] \"GET /favicon.ico HTTP/1.1\" 404 -\n",
      "KeyboardInterrupt\n",
      "Thu Aug 23 15:18:17 2018\n",
      "ERROR:root:Internal Python error in the inspect module.\n",
      "Below is the traceback from this internal error.\n",
      "\n"
     ]
    },
    {
     "name": "stdout",
     "output_type": "stream",
     "text": [
      "Traceback (most recent call last):\n",
      "  File \"c:\\python27\\lib\\site-packages\\IPython\\core\\ultratb.py\", line 1132, in get_records\n",
      "    return _fixed_getinnerframes(etb, number_of_lines_of_context, tb_offset)\n",
      "  File \"c:\\python27\\lib\\site-packages\\IPython\\core\\ultratb.py\", line 313, in wrapped\n",
      "    return f(*args, **kwargs)\n",
      "  File \"c:\\python27\\lib\\site-packages\\IPython\\core\\ultratb.py\", line 358, in _fixed_getinnerframes\n",
      "    records = fix_frame_records_filenames(inspect.getinnerframes(etb, context))\n",
      "  File \"c:\\python27\\lib\\inspect.py\", line 1048, in getinnerframes\n",
      "    framelist.append((tb.tb_frame,) + getframeinfo(tb, context))\n",
      "  File \"c:\\python27\\lib\\inspect.py\", line 1012, in getframeinfo\n",
      "    lines, lnum = findsource(frame)\n",
      "  File \"c:\\python27\\lib\\site-packages\\IPython\\core\\ultratb.py\", line 182, in findsource\n",
      "    lines = linecache.getlines(file, globals_dict)\n",
      "  File \"c:\\python27\\lib\\linecache.py\", line 41, in getlines\n",
      "    return updatecache(filename, module_globals)\n",
      "  File \"c:\\python27\\lib\\linecache.py\", line 131, in updatecache\n",
      "    with open(fullname, 'rU') as fp:\n",
      "KeyboardInterrupt\n"
     ]
    },
    {
     "ename": "IndexError",
     "evalue": "string index out of range",
     "output_type": "error",
     "traceback": [
      "\u001b[1;31m---------------------------------------------------------------------------\u001b[0m",
      "\u001b[1;31mIndexError\u001b[0m                                Traceback (most recent call last)",
      "\u001b[1;32mc:\\python27\\lib\\site-packages\\IPython\\core\\interactiveshell.pyc\u001b[0m in \u001b[0;36mrun_code\u001b[1;34m(self, code_obj, result)\u001b[0m\n\u001b[0;32m   2897\u001b[0m             \u001b[1;32mif\u001b[0m \u001b[0mresult\u001b[0m \u001b[1;32mis\u001b[0m \u001b[1;32mnot\u001b[0m \u001b[0mNone\u001b[0m\u001b[1;33m:\u001b[0m\u001b[1;33m\u001b[0m\u001b[0m\n\u001b[0;32m   2898\u001b[0m                 \u001b[0mresult\u001b[0m\u001b[1;33m.\u001b[0m\u001b[0merror_in_exec\u001b[0m \u001b[1;33m=\u001b[0m \u001b[0msys\u001b[0m\u001b[1;33m.\u001b[0m\u001b[0mexc_info\u001b[0m\u001b[1;33m(\u001b[0m\u001b[1;33m)\u001b[0m\u001b[1;33m[\u001b[0m\u001b[1;36m1\u001b[0m\u001b[1;33m]\u001b[0m\u001b[1;33m\u001b[0m\u001b[0m\n\u001b[1;32m-> 2899\u001b[1;33m             \u001b[0mself\u001b[0m\u001b[1;33m.\u001b[0m\u001b[0mshowtraceback\u001b[0m\u001b[1;33m(\u001b[0m\u001b[1;33m)\u001b[0m\u001b[1;33m\u001b[0m\u001b[0m\n\u001b[0m\u001b[0;32m   2900\u001b[0m         \u001b[1;32melse\u001b[0m\u001b[1;33m:\u001b[0m\u001b[1;33m\u001b[0m\u001b[0m\n\u001b[0;32m   2901\u001b[0m             \u001b[0moutflag\u001b[0m \u001b[1;33m=\u001b[0m \u001b[1;36m0\u001b[0m\u001b[1;33m\u001b[0m\u001b[0m\n",
      "\u001b[1;32mc:\\python27\\lib\\site-packages\\IPython\\core\\interactiveshell.pyc\u001b[0m in \u001b[0;36mshowtraceback\u001b[1;34m(self, exc_tuple, filename, tb_offset, exception_only)\u001b[0m\n\u001b[0;32m   1824\u001b[0m                     \u001b[1;32mexcept\u001b[0m \u001b[0mException\u001b[0m\u001b[1;33m:\u001b[0m\u001b[1;33m\u001b[0m\u001b[0m\n\u001b[0;32m   1825\u001b[0m                         stb = self.InteractiveTB.structured_traceback(etype,\n\u001b[1;32m-> 1826\u001b[1;33m                                             value, tb, tb_offset=tb_offset)\n\u001b[0m\u001b[0;32m   1827\u001b[0m \u001b[1;33m\u001b[0m\u001b[0m\n\u001b[0;32m   1828\u001b[0m                     \u001b[0mself\u001b[0m\u001b[1;33m.\u001b[0m\u001b[0m_showtraceback\u001b[0m\u001b[1;33m(\u001b[0m\u001b[0metype\u001b[0m\u001b[1;33m,\u001b[0m \u001b[0mvalue\u001b[0m\u001b[1;33m,\u001b[0m \u001b[0mstb\u001b[0m\u001b[1;33m)\u001b[0m\u001b[1;33m\u001b[0m\u001b[0m\n",
      "\u001b[1;32mc:\\python27\\lib\\site-packages\\IPython\\core\\ultratb.pyc\u001b[0m in \u001b[0;36mstructured_traceback\u001b[1;34m(self, etype, value, tb, tb_offset, number_of_lines_of_context)\u001b[0m\n\u001b[0;32m   1409\u001b[0m         \u001b[0mself\u001b[0m\u001b[1;33m.\u001b[0m\u001b[0mtb\u001b[0m \u001b[1;33m=\u001b[0m \u001b[0mtb\u001b[0m\u001b[1;33m\u001b[0m\u001b[0m\n\u001b[0;32m   1410\u001b[0m         return FormattedTB.structured_traceback(\n\u001b[1;32m-> 1411\u001b[1;33m             self, etype, value, tb, tb_offset, number_of_lines_of_context)\n\u001b[0m\u001b[0;32m   1412\u001b[0m \u001b[1;33m\u001b[0m\u001b[0m\n\u001b[0;32m   1413\u001b[0m \u001b[1;33m\u001b[0m\u001b[0m\n",
      "\u001b[1;32mc:\\python27\\lib\\site-packages\\IPython\\core\\ultratb.pyc\u001b[0m in \u001b[0;36mstructured_traceback\u001b[1;34m(self, etype, value, tb, tb_offset, number_of_lines_of_context)\u001b[0m\n\u001b[0;32m   1317\u001b[0m             \u001b[1;31m# Verbose modes need a full traceback\u001b[0m\u001b[1;33m\u001b[0m\u001b[1;33m\u001b[0m\u001b[0m\n\u001b[0;32m   1318\u001b[0m             return VerboseTB.structured_traceback(\n\u001b[1;32m-> 1319\u001b[1;33m                 \u001b[0mself\u001b[0m\u001b[1;33m,\u001b[0m \u001b[0metype\u001b[0m\u001b[1;33m,\u001b[0m \u001b[0mvalue\u001b[0m\u001b[1;33m,\u001b[0m \u001b[0mtb\u001b[0m\u001b[1;33m,\u001b[0m \u001b[0mtb_offset\u001b[0m\u001b[1;33m,\u001b[0m \u001b[0mnumber_of_lines_of_context\u001b[0m\u001b[1;33m\u001b[0m\u001b[0m\n\u001b[0m\u001b[0;32m   1320\u001b[0m             )\n\u001b[0;32m   1321\u001b[0m         \u001b[1;32melse\u001b[0m\u001b[1;33m:\u001b[0m\u001b[1;33m\u001b[0m\u001b[0m\n",
      "\u001b[1;32mc:\\python27\\lib\\site-packages\\IPython\\core\\ultratb.pyc\u001b[0m in \u001b[0;36mstructured_traceback\u001b[1;34m(self, etype, evalue, etb, tb_offset, number_of_lines_of_context)\u001b[0m\n\u001b[0;32m   1202\u001b[0m                 \u001b[0mstructured_traceback_parts\u001b[0m \u001b[1;33m+=\u001b[0m \u001b[0mformatted_exception\u001b[0m\u001b[1;33m\u001b[0m\u001b[0m\n\u001b[0;32m   1203\u001b[0m         \u001b[1;32melse\u001b[0m\u001b[1;33m:\u001b[0m\u001b[1;33m\u001b[0m\u001b[0m\n\u001b[1;32m-> 1204\u001b[1;33m             \u001b[0mstructured_traceback_parts\u001b[0m \u001b[1;33m+=\u001b[0m \u001b[0mformatted_exception\u001b[0m\u001b[1;33m[\u001b[0m\u001b[1;36m0\u001b[0m\u001b[1;33m]\u001b[0m\u001b[1;33m\u001b[0m\u001b[0m\n\u001b[0m\u001b[0;32m   1205\u001b[0m \u001b[1;33m\u001b[0m\u001b[0m\n\u001b[0;32m   1206\u001b[0m         \u001b[1;32mreturn\u001b[0m \u001b[0mstructured_traceback_parts\u001b[0m\u001b[1;33m\u001b[0m\u001b[0m\n",
      "\u001b[1;31mIndexError\u001b[0m: string index out of range"
     ]
    },
    {
     "name": "stderr",
     "output_type": "stream",
     "text": [
      "ERROR:tornado.general:Uncaught exception, closing connection.\n",
      "Traceback (most recent call last):\n",
      "  File \"c:\\python27\\lib\\site-packages\\zmq\\eventloop\\zmqstream.py\", line 414, in _run_callback\n",
      "    callback(*args, **kwargs)\n",
      "  File \"c:\\python27\\lib\\site-packages\\tornado\\stack_context.py\", line 277, in null_wrapper\n",
      "    return fn(*args, **kwargs)\n",
      "  File \"c:\\python27\\lib\\site-packages\\ipykernel\\kernelbase.py\", line 281, in dispatcher\n",
      "    return self.dispatch_shell(stream, msg)\n",
      "  File \"c:\\python27\\lib\\site-packages\\ipykernel\\kernelbase.py\", line 232, in dispatch_shell\n",
      "    handler(stream, idents, msg)\n",
      "  File \"c:\\python27\\lib\\site-packages\\ipykernel\\kernelbase.py\", line 419, in execute_request\n",
      "    self._abort_queues()\n",
      "  File \"c:\\python27\\lib\\site-packages\\ipykernel\\kernelbase.py\", line 634, in _abort_queues\n",
      "    self._abort_queue(stream)\n",
      "  File \"c:\\python27\\lib\\site-packages\\ipykernel\\kernelbase.py\", line 659, in _abort_queue\n",
      "    poller.poll(50)\n",
      "  File \"c:\\python27\\lib\\site-packages\\zmq\\sugar\\poll.py\", line 99, in poll\n",
      "    return zmq_poll(self.sockets, timeout=timeout)\n",
      "  File \"zmq\\backend\\cython\\_poll.pyx\", line 116, in zmq.backend.cython._poll.zmq_poll\n",
      "  File \"zmq\\backend\\cython\\checkrc.pxd\", line 12, in zmq.backend.cython.checkrc._check_rc\n",
      "    PyErr_CheckSignals()\n",
      "KeyboardInterrupt\n",
      "ERROR:tornado.general:Uncaught exception, closing connection.\n",
      "Traceback (most recent call last):\n",
      "  File \"c:\\python27\\lib\\site-packages\\zmq\\eventloop\\zmqstream.py\", line 440, in _handle_events\n",
      "    self._handle_recv()\n",
      "  File \"c:\\python27\\lib\\site-packages\\zmq\\eventloop\\zmqstream.py\", line 472, in _handle_recv\n",
      "    self._run_callback(callback, msg)\n",
      "  File \"c:\\python27\\lib\\site-packages\\zmq\\eventloop\\zmqstream.py\", line 414, in _run_callback\n",
      "    callback(*args, **kwargs)\n",
      "  File \"c:\\python27\\lib\\site-packages\\tornado\\stack_context.py\", line 277, in null_wrapper\n",
      "    return fn(*args, **kwargs)\n",
      "  File \"c:\\python27\\lib\\site-packages\\ipykernel\\kernelbase.py\", line 281, in dispatcher\n",
      "    return self.dispatch_shell(stream, msg)\n",
      "  File \"c:\\python27\\lib\\site-packages\\ipykernel\\kernelbase.py\", line 232, in dispatch_shell\n",
      "    handler(stream, idents, msg)\n",
      "  File \"c:\\python27\\lib\\site-packages\\ipykernel\\kernelbase.py\", line 419, in execute_request\n",
      "    self._abort_queues()\n",
      "  File \"c:\\python27\\lib\\site-packages\\ipykernel\\kernelbase.py\", line 634, in _abort_queues\n",
      "    self._abort_queue(stream)\n",
      "  File \"c:\\python27\\lib\\site-packages\\ipykernel\\kernelbase.py\", line 659, in _abort_queue\n",
      "    poller.poll(50)\n",
      "  File \"c:\\python27\\lib\\site-packages\\zmq\\sugar\\poll.py\", line 99, in poll\n",
      "    return zmq_poll(self.sockets, timeout=timeout)\n",
      "  File \"zmq\\backend\\cython\\_poll.pyx\", line 116, in zmq.backend.cython._poll.zmq_poll\n",
      "  File \"zmq\\backend\\cython\\checkrc.pxd\", line 12, in zmq.backend.cython.checkrc._check_rc\n",
      "    PyErr_CheckSignals()\n",
      "KeyboardInterrupt\n"
     ]
    }
   ],
   "source": [
    "# BaseHTTPServer and SimpleHTTPServer\n",
    "# python -m SimpleHTTPServer 8080\n",
    "from BaseHTTPServer import HTTPServer\n",
    "from SimpleHTTPServer import SimpleHTTPRequestHandler\n",
    "\n",
    "server = HTTPServer(('0.0.0.0', 8282), SimpleHTTPRequestHandler)\n",
    "\n",
    "server.serve_forever()"
   ]
  },
  {
   "cell_type": "code",
   "execution_count": null,
   "metadata": {
    "slideshow": {
     "slide_type": "subslide"
    }
   },
   "outputs": [],
   "source": [
    "# with micro framework bottle.py\n",
    "from bottle import route, run, template\n",
    "\n",
    "@route('/hello/<name>')\n",
    "def index(name):\n",
    "    return template('<b>Hello {{name}}</b>!', name=name)\n",
    "\n",
    "run(host='localhost', port=8181)"
   ]
  },
  {
   "cell_type": "code",
   "execution_count": null,
   "metadata": {},
   "outputs": [],
   "source": []
  },
  {
   "cell_type": "markdown",
   "metadata": {
    "slideshow": {
     "slide_type": "subslide"
    }
   },
   "source": [
    "### Practice"
   ]
  },
  {
   "cell_type": "code",
   "execution_count": null,
   "metadata": {
    "slideshow": {
     "slide_type": "subslide"
    }
   },
   "outputs": [
    {
     "name": "stderr",
     "output_type": "stream",
     "text": [
      "Bottle v0.12.13 server starting up (using WSGIRefServer())...\n",
      "Listening on http://localhost:8282/\n",
      "Hit Ctrl-C to quit.\n",
      "\n",
      "127.0.0.1 - - [23/Aug/2018 15:19:44] \"GET / HTTP/1.1\" 404 720\n",
      "127.0.0.1 - - [23/Aug/2018 15:19:45] \"GET /favicon.ico HTTP/1.1\" 404 742\n",
      "127.0.0.1 - - [23/Aug/2018 15:19:45] \"GET /favicon.ico HTTP/1.1\" 404 742\n",
      "127.0.0.1 - - [23/Aug/2018 15:19:58] \"GET /api/users HTTP/1.1\" 200 24\n",
      "127.0.0.1 - - [23/Aug/2018 15:22:44] \"GET / HTTP/1.1\" 404 720\n",
      "127.0.0.1 - - [23/Aug/2018 15:22:49] \"GET /hello HTTP/1.1\" 404 730\n",
      "127.0.0.1 - - [23/Aug/2018 15:23:06] \"GET /users HTTP/1.1\" 404 730\n"
     ]
    }
   ],
   "source": [
    "# implement a simple REST service for user operation using Python, \n",
    "#   you can store the user info into memory, DB or files.\n",
    "#   the return data should be in JSON format, \n",
    "#     GET/POST/DELETE method should be supported\n",
    "# Example:\n",
    "#     GET  /api/users  ==> \n",
    "#         ['tom', 'jerry', 'lily']\n",
    "#     POST  /api/users  ['james', 'terry']  ==>  \n",
    "#         ['tom', 'jerry', 'lily', 'james', 'terry']\n",
    "#     DELETE  /api/users/james  ==>  \n",
    "#         ['tom', 'jerry', 'lily', 'terry']\n",
    "from bottle import get, post, delete, response, run\n",
    "import json\n",
    "\n",
    "@get('/api/users')\n",
    "def users():\n",
    "    response.set_header('Content-Type', 'application/json')\n",
    "    return json.dumps(['tom', 'jerry', 'lily'])\n",
    "\n",
    "run(host='localhost', port=8282)"
   ]
  },
  {
   "cell_type": "markdown",
   "metadata": {
    "slideshow": {
     "slide_type": "slide"
    }
   },
   "source": [
    "## Reference\n",
    "\n",
    "* http://www.diveintopython.net/power_of_introspection/\n",
    "* https://docs.python.org/2/library/inspect.html\n",
    "* https://docs.python.org/2/howto/functional.html\n",
    "* https://en.wikipedia.org/wiki/Functional_programming\n",
    "* https://docs.python.org/2/library/functions.html#iter\n",
    "* http://butunclebob.com/files/downloads/Prime%20Factors%20Kata.ppt\n",
    "* https://blog.8thlight.com/uncle-bob/2013/05/27/TheTransformationPriorityPremise.html\n",
    "* https://wiki.python.org/moin/Generators\n",
    "* https://docs.python.org/2/library/threading.html\n",
    "* https://docs.python.org/2/library/multiprocessing.html\n",
    "* http://www.gevent.org/intro.html\n",
    "* http://bottlepy.org/docs/dev/index.html\n",
    "* http://api.mongodb.org/python/current/tutorial.html\n",
    "* https://docs.python.org/2/library/simplehttpserver.html"
   ]
  },
  {
   "cell_type": "markdown",
   "metadata": {
    "slideshow": {
     "slide_type": "slide"
    }
   },
   "source": [
    "## Q & A"
   ]
  },
  {
   "cell_type": "code",
   "execution_count": null,
   "metadata": {},
   "outputs": [],
   "source": []
  }
 ],
 "metadata": {
  "celltoolbar": "Slideshow",
  "kernelspec": {
   "display_name": "Python 2",
   "language": "python",
   "name": "python2"
  },
  "language_info": {
   "codemirror_mode": {
    "name": "ipython",
    "version": 2
   },
   "file_extension": ".py",
   "mimetype": "text/x-python",
   "name": "python",
   "nbconvert_exporter": "python",
   "pygments_lexer": "ipython2",
   "version": "2.7.13"
  },
  "toc": {
   "base_numbering": 1,
   "nav_menu": {},
   "number_sections": true,
   "sideBar": true,
   "skip_h1_title": false,
   "title_cell": "Table of Contents",
   "title_sidebar": "Contents",
   "toc_cell": false,
   "toc_position": {},
   "toc_section_display": true,
   "toc_window_display": true
  }
 },
 "nbformat": 4,
 "nbformat_minor": 1
}
