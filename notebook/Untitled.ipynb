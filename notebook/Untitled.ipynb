{
 "cells": [
  {
   "cell_type": "code",
   "execution_count": 1,
   "metadata": {},
   "outputs": [
    {
     "name": "stdout",
     "output_type": "stream",
     "text": [
      "-------这里输出第 0 类文本的词语tf-idf权重------\n",
      "中国 0.0\n",
      "北京 0.5264054336099155\n",
      "大厦 0.0\n",
      "天安门 0.0\n",
      "小明 0.0\n",
      "来到 0.5264054336099155\n",
      "杭研 0.0\n",
      "毕业 0.0\n",
      "清华大学 0.6676785446095399\n",
      "硕士 0.0\n",
      "科学院 0.0\n",
      "网易 0.0\n",
      "-------这里输出第 1 类文本的词语tf-idf权重------\n",
      "中国 0.0\n",
      "北京 0.0\n",
      "大厦 0.5254727492640658\n",
      "天安门 0.0\n",
      "小明 0.0\n",
      "来到 0.41428875116588965\n",
      "杭研 0.5254727492640658\n",
      "毕业 0.0\n",
      "清华大学 0.0\n",
      "硕士 0.0\n",
      "科学院 0.0\n",
      "网易 0.5254727492640658\n",
      "-------这里输出第 2 类文本的词语tf-idf权重------\n",
      "中国 0.4472135954999579\n",
      "北京 0.0\n",
      "大厦 0.0\n",
      "天安门 0.0\n",
      "小明 0.4472135954999579\n",
      "来到 0.0\n",
      "杭研 0.0\n",
      "毕业 0.4472135954999579\n",
      "清华大学 0.0\n",
      "硕士 0.4472135954999579\n",
      "科学院 0.4472135954999579\n",
      "网易 0.0\n",
      "-------这里输出第 3 类文本的词语tf-idf权重------\n",
      "中国 0.0\n",
      "北京 0.6191302964899972\n",
      "大厦 0.0\n",
      "天安门 0.7852882757103967\n",
      "小明 0.0\n",
      "来到 0.0\n",
      "杭研 0.0\n",
      "毕业 0.0\n",
      "清华大学 0.0\n",
      "硕士 0.0\n",
      "科学院 0.0\n",
      "网易 0.0\n"
     ]
    }
   ],
   "source": [
    "# coding:utf-8  \n",
    "__author__ = \"liuxuejiang\"  \n",
    "import jieba  \n",
    "import jieba.posseg as pseg  \n",
    "import os  \n",
    "import sys  \n",
    "from sklearn import feature_extraction  \n",
    "from sklearn.feature_extraction.text import TfidfTransformer  \n",
    "from sklearn.feature_extraction.text import CountVectorizer  \n",
    "  \n",
    "if __name__ == \"__main__\":  \n",
    "    corpus=[\"我 来到 北京 清华大学\",#第一类文本切词后的结果，词之间以空格隔开  \n",
    "        \"他 来到 了 网易 杭研 大厦\",#第二类文本的切词结果  \n",
    "        \"小明 硕士 毕业 与 中国 科学院\",#第三类文本的切词结果  \n",
    "        \"我 爱 北京 天安门\"]#第四类文本的切词结果  \n",
    "    vectorizer=CountVectorizer()#该类会将文本中的词语转换为词频矩阵，矩阵元素a[i][j] 表示j词在i类文本下的词频  \n",
    "    transformer=TfidfTransformer()#该类会统计每个词语的tf-idf权值  \n",
    "    tfidf=transformer.fit_transform(vectorizer.fit_transform(corpus))#第一个fit_transform是计算tf-idf，第二个fit_transform是将文本转为词频矩阵  \n",
    "    word=vectorizer.get_feature_names()#获取词袋模型中的所有词语  \n",
    "    weight=tfidf.toarray()#将tf-idf矩阵抽取出来，元素a[i][j]表示j词在i类文本中的tf-idf权重  \n",
    "    for i in range(len(weight)):#打印每类文本的tf-idf词语权重，第一个for遍历所有文本，第二个for便利某一类文本下的词语权重  \n",
    "        print u\"-------这里输出第\",i,u\"类文本的词语tf-idf权重------\"  \n",
    "        for j in range(len(word)):  \n",
    "            print word[j],weight[i][j] "
   ]
  },
  {
   "cell_type": "code",
   "execution_count": 2,
   "metadata": {},
   "outputs": [
    {
     "name": "stdout",
     "output_type": "stream",
     "text": [
      "[u'and', u'document', u'first', u'is', u'one', u'second', u'the', u'third', u'this']\n",
      "[[0 1 1 1 0 0 1 0 1]\n",
      " [0 1 0 1 0 2 1 0 1]\n",
      " [1 0 0 0 1 0 1 1 0]\n",
      " [0 1 1 1 0 0 1 0 1]]\n"
     ]
    }
   ],
   "source": [
    "from sklearn.feature_extraction.text import CountVectorizer  \n",
    "  \n",
    "#语料  \n",
    "corpus = [  \n",
    "    'This is the first document.',  \n",
    "    'This is the second second document.',  \n",
    "    'And the third one.',  \n",
    "    'Is this the first document?',  \n",
    "]  \n",
    "#将文本中的词语转换为词频矩阵  \n",
    "vectorizer = CountVectorizer()  \n",
    "#计算个词语出现的次数  \n",
    "X = vectorizer.fit_transform(corpus)  \n",
    "#获取词袋中所有文本关键词  \n",
    "word = vectorizer.get_feature_names()  \n",
    "print word  \n",
    "#查看词频结果  \n",
    "print X.toarray()"
   ]
  },
  {
   "cell_type": "code",
   "execution_count": 3,
   "metadata": {},
   "outputs": [
    {
     "name": "stdout",
     "output_type": "stream",
     "text": [
      "[u'and', u'document', u'first', u'is', u'one', u'second', u'the', u'third', u'this']\n",
      "[[0 1 1 1 0 0 1 0 1]\n",
      " [0 1 0 1 0 2 1 0 1]\n",
      " [1 0 0 0 1 0 1 1 0]\n",
      " [0 1 1 1 0 0 1 0 1]]\n",
      "TfidfTransformer(norm=u'l2', smooth_idf=True, sublinear_tf=False,\n",
      "         use_idf=True)\n",
      "[[0.         0.43877674 0.54197657 0.43877674 0.         0.\n",
      "  0.35872874 0.         0.43877674]\n",
      " [0.         0.27230147 0.         0.27230147 0.         0.85322574\n",
      "  0.22262429 0.         0.27230147]\n",
      " [0.55280532 0.         0.         0.         0.55280532 0.\n",
      "  0.28847675 0.55280532 0.        ]\n",
      " [0.         0.43877674 0.54197657 0.43877674 0.         0.\n",
      "  0.35872874 0.         0.43877674]]\n"
     ]
    }
   ],
   "source": [
    "from sklearn.feature_extraction.text import CountVectorizer  \n",
    "  \n",
    "#语料  \n",
    "corpus = [  \n",
    "    'This is the first document.',  \n",
    "    'This is the second second document.',  \n",
    "    'And the third one.',  \n",
    "    'Is this the first document?',  \n",
    "]  \n",
    "#将文本中的词语转换为词频矩阵  \n",
    "vectorizer = CountVectorizer()  \n",
    "#计算个词语出现的次数  \n",
    "X = vectorizer.fit_transform(corpus)  \n",
    "#获取词袋中所有文本关键词  \n",
    "word = vectorizer.get_feature_names()  \n",
    "print word  \n",
    "#查看词频结果  \n",
    "print X.toarray()  \n",
    "  \n",
    "from sklearn.feature_extraction.text import TfidfTransformer  \n",
    "  \n",
    "#类调用  \n",
    "transformer = TfidfTransformer()  \n",
    "print transformer  \n",
    "#将词频矩阵X统计成TF-IDF值  \n",
    "tfidf = transformer.fit_transform(X)  \n",
    "#查看数据结构 tfidf[i][j]表示i类文本中的tf-idf权重  \n",
    "print tfidf.toarray() "
   ]
  },
  {
   "cell_type": "code",
   "execution_count": null,
   "metadata": {},
   "outputs": [],
   "source": []
  }
 ],
 "metadata": {
  "kernelspec": {
   "display_name": "Python 2",
   "language": "python",
   "name": "python2"
  },
  "language_info": {
   "codemirror_mode": {
    "name": "ipython",
    "version": 2
   },
   "file_extension": ".py",
   "mimetype": "text/x-python",
   "name": "python",
   "nbconvert_exporter": "python",
   "pygments_lexer": "ipython2",
   "version": "2.7.13"
  },
  "toc": {
   "base_numbering": 1,
   "nav_menu": {},
   "number_sections": true,
   "sideBar": true,
   "skip_h1_title": false,
   "title_cell": "Table of Contents",
   "title_sidebar": "Contents",
   "toc_cell": false,
   "toc_position": {},
   "toc_section_display": true,
   "toc_window_display": false
  }
 },
 "nbformat": 4,
 "nbformat_minor": 2
}
