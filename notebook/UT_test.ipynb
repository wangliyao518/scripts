{
 "cells": [
  {
   "cell_type": "code",
   "execution_count": 11,
   "metadata": {},
   "outputs": [
    {
     "name": "stderr",
     "output_type": "stream",
     "text": [
      "."
     ]
    },
    {
     "name": "stdout",
     "output_type": "stream",
     "text": [
      "---- TL000_1222\n"
     ]
    },
    {
     "name": "stderr",
     "output_type": "stream",
     "text": [
      "\n",
      "----------------------------------------------------------------------\n",
      "Ran 1 test in 0.032s\n",
      "\n",
      "OK\n"
     ]
    },
    {
     "data": {
      "text/plain": [
       "<unittest.runner.TextTestResult run=1 errors=0 failures=0>"
      ]
     },
     "execution_count": 11,
     "metadata": {},
     "output_type": "execute_result"
    }
   ],
   "source": [
    "import unittest\n",
    "from mock import Mock\n",
    "\n",
    "class RunExecutorOnNode(object):\n",
    "\n",
    "    def __init__(self, executor, timeout):\n",
    "        super(RunExecutorOnNode, self).__init__()\n",
    "        self.executor = executor\n",
    "        self.timeout = timeout\n",
    "        self.build_no = self.executor.cmd_args['build_no']\n",
    "\n",
    "    def _create_command(self, tl_index):\n",
    "        print '----', self.build_no\n",
    "        pass\n",
    "\n",
    "class Test_1(unittest.TestCase):\n",
    "    def test_create_command(self):\n",
    "        exe_mock = Mock()\n",
    "        cmd_args_mock = {'build_no': 'TL000_1222'}\n",
    "        exe_mock.cmd_args = cmd_args_mock\n",
    "        executor = RunExecutorOnNode(exe_mock , 1)\n",
    "        executor._create_command(1)\n",
    "        \n",
    "suite = unittest.TestLoader().loadTestsFromTestCase(Test_1)\n",
    "unittest.TextTestRunner().run(suite)\n",
    "\n"
   ]
  },
  {
   "cell_type": "code",
   "execution_count": 4,
   "metadata": {},
   "outputs": [
    {
     "name": "stderr",
     "output_type": "stream",
     "text": [
      "E\n",
      "======================================================================\n",
      "ERROR: test_001 (__main__.Test_2)\n",
      "----------------------------------------------------------------------\n",
      "Traceback (most recent call last):\n",
      "  File \"<ipython-input-4-a06b082b0312>\", line 37, in test_001\n",
      "    ret = get_student_age(mock_obj)\n",
      "  File \"<ipython-input-4-a06b082b0312>\", line 20, in get_student_age\n",
      "    ret = re.match('young', stu_obj)\n",
      "  File \"c:\\python27\\lib\\re.py\", line 141, in match\n",
      "    return _compile(pattern, flags).match(string)\n",
      "TypeError: expected string or buffer\n",
      "\n",
      "----------------------------------------------------------------------\n",
      "Ran 1 test in 0.010s\n",
      "\n",
      "FAILED (errors=1)\n"
     ]
    },
    {
     "data": {
      "text/plain": [
       "<unittest.runner.TextTestResult run=1 errors=1 failures=0>"
      ]
     },
     "execution_count": 4,
     "metadata": {},
     "output_type": "execute_result"
    }
   ],
   "source": [
    "import re\n",
    "class Student(object):\n",
    "    \n",
    "    def __init__(self, age=20):\n",
    "        self.age = age\n",
    "    \n",
    "    def __str__(self):\n",
    "        if self.age > 18:\n",
    "            return \"old\"\n",
    "        else:\n",
    "            return 'young'\n",
    "\n",
    "    def get(self):\n",
    "        return self.age\n",
    "    \n",
    "\n",
    "\n",
    "\n",
    "def get_student_age(stu_obj):\n",
    "    ret = re.match('young', stu_obj)\n",
    "    print '=====', ret, stu_obj\n",
    "    return \"{} age is : {}\".format(stu_obj, stu_obj.get())\n",
    "    \n",
    "# s = Student(18)\n",
    "# ret = get_student_age(s)\n",
    "# print ret\n",
    "\n",
    "import unittest\n",
    "from mock import MagicMock\n",
    "\n",
    "\n",
    "class Test_2(unittest.TestCase):\n",
    "    def test_001(self):\n",
    "        mock_obj = MagicMock()\n",
    "        mock_obj.__str__.return_value = \"yes\"\n",
    "        mock_obj.get.return_value = 19\n",
    "        ret = get_student_age(mock_obj)\n",
    "        print '---', ret\n",
    "         \n",
    "        \n",
    "suite = unittest.TestLoader().loadTestsFromTestCase(Test_2)\n",
    "unittest.TextTestRunner().run(suite)\n"
   ]
  },
  {
   "cell_type": "code",
   "execution_count": null,
   "metadata": {},
   "outputs": [],
   "source": [
    "import unittest\n",
    "from ute_cloud_artifact_sdk.sdk import CloudArtifactSDK\n",
    "from mock import patch, PropertyMock, Mock, MagicMock\n",
    "\n",
    "#artifact = CloudArtifactSDK(token=self.TOKEN).artifact_list(name=enb_build)[0].to_dict()\n",
    "\n",
    "\n",
    "def my_fun():\n",
    "    artifact = CloudArtifactSDK(token=\"\").artifact_list(name=\"\")[0].to_dict()\n",
    "    return artifact, \"hello\"\n",
    "\n",
    "class my_mock(list):\n",
    "\n",
    "    def __new__(cls, *args, **kwargs):\n",
    "        return [cls, cls]#list.__new__(cls, *args, **kwargs)\n",
    "\n",
    "\n",
    "    def __init__(self, name):\n",
    "        #list.__init__([0])\n",
    "        pass\n",
    "\n",
    "    @classmethod\n",
    "    def to_dict(self):\n",
    "        return \"good!\"\n",
    "\n",
    "class TestSuit(unittest.TestCase):\n",
    "\n",
    "    #@patch(CloudArtifactSDK.artifact_list, 'to_dict')\n",
    "    #def test(self, mock_obj):\n",
    "    #    #mock_obj = MagicMock()\n",
    "    #    mock_obj=MagicMock(return_value='good') #return_value=\"good\"\n",
    "        #mock_instant = mock_obj\n",
    "        #mock_instant = my_mock\n",
    "        #mock_obj = Mock()\n",
    "        #CloudArtifactSDK.artifact_list = my_mock\n",
    "        #mock_instant=my_mock\n",
    "   #     ret = my_fun()\n",
    "   #     print '------', ret\n",
    "\n",
    "\n",
    "    @patch('__main__.CloudArtifactSDK.artifact_list', my_mock)\n",
    "    def test_00(self):\n",
    "        ret = my_fun()\n",
    "        print '++++', ret\n",
    "\n",
    "\n",
    "if __name__ == \"__main__\":\n",
    "    unittest.main()"
   ]
  }
 ],
 "metadata": {
  "kernelspec": {
   "display_name": "Python 2",
   "language": "python",
   "name": "python2"
  },
  "language_info": {
   "codemirror_mode": {
    "name": "ipython",
    "version": 2
   },
   "file_extension": ".py",
   "mimetype": "text/x-python",
   "name": "python",
   "nbconvert_exporter": "python",
   "pygments_lexer": "ipython2",
   "version": "2.7.13"
  },
  "toc": {
   "base_numbering": 1,
   "nav_menu": {},
   "number_sections": true,
   "sideBar": true,
   "skip_h1_title": false,
   "title_cell": "Table of Contents",
   "title_sidebar": "Contents",
   "toc_cell": false,
   "toc_position": {},
   "toc_section_display": true,
   "toc_window_display": false
  }
 },
 "nbformat": 4,
 "nbformat_minor": 2
}
