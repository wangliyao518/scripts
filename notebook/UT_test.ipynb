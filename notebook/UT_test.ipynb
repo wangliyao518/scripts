{
 "cells": [
  {
   "cell_type": "code",
   "execution_count": 11,
   "metadata": {},
   "outputs": [
    {
     "name": "stderr",
     "output_type": "stream",
     "text": [
      "."
     ]
    },
    {
     "name": "stdout",
     "output_type": "stream",
     "text": [
      "---- TL000_1222\n"
     ]
    },
    {
     "name": "stderr",
     "output_type": "stream",
     "text": [
      "\n",
      "----------------------------------------------------------------------\n",
      "Ran 1 test in 0.032s\n",
      "\n",
      "OK\n"
     ]
    },
    {
     "data": {
      "text/plain": [
       "<unittest.runner.TextTestResult run=1 errors=0 failures=0>"
      ]
     },
     "execution_count": 11,
     "metadata": {},
     "output_type": "execute_result"
    }
   ],
   "source": [
    "import unittest\n",
    "from mock import Mock\n",
    "\n",
    "class RunExecutorOnNode(object):\n",
    "\n",
    "    def __init__(self, executor, timeout):\n",
    "        super(RunExecutorOnNode, self).__init__()\n",
    "        self.executor = executor\n",
    "        self.timeout = timeout\n",
    "        self.build_no = self.executor.cmd_args['build_no']\n",
    "\n",
    "    def _create_command(self, tl_index):\n",
    "        print '----', self.build_no\n",
    "        pass\n",
    "\n",
    "class Test_1(unittest.TestCase):\n",
    "    def test_create_command(self):\n",
    "        exe_mock = Mock()\n",
    "        cmd_args_mock = {'build_no': 'TL000_1222'}\n",
    "        exe_mock.cmd_args = cmd_args_mock\n",
    "        executor = RunExecutorOnNode(exe_mock , 1)\n",
    "        executor._create_command(1)\n",
    "        \n",
    "suite = unittest.TestLoader().loadTestsFromTestCase(Test_1)\n",
    "unittest.TextTestRunner().run(suite)\n",
    "\n"
   ]
  },
  {
   "cell_type": "code",
   "execution_count": 22,
   "metadata": {},
   "outputs": [
    {
     "name": "stdout",
     "output_type": "stream",
     "text": [
      "===== <_sre.SRE_Match object at 0x0000000004253100> young\n",
      "young age is : 18\n"
     ]
    }
   ],
   "source": [
    "import re\n",
    "class Student(object):\n",
    "    \n",
    "    def __init__(self, age=20):\n",
    "        self.age = age\n",
    "    \n",
    "    def __str__(self):\n",
    "        if self.age > 18:\n",
    "            return \"old\"\n",
    "        else:\n",
    "            return 'young'\n",
    "\n",
    "    def get(self):\n",
    "        return self.age\n",
    "    \n",
    "\n",
    "\n",
    "\n",
    "def get_student_age(stu_obj):\n",
    "    ret = re.match('young', \"%s\" %stu_obj)\n",
    "    print '=====', ret, stu_obj\n",
    "    return \"{} age is : {}\".format(stu_obj, stu_obj.get())\n",
    "    \n",
    "s = Student(18)\n",
    "ret = get_student_age(s)\n",
    "print ret\n",
    "\n",
    "# import unittest\n",
    "# from mock import MagicMock\n",
    "\n",
    "\n",
    "# class Test_2(unittest.TestCase):\n",
    "#     def test_001(self):\n",
    "#         mock_obj = MagicMock()\n",
    "#         mock_obj.__str__.return_value = \"yes\"\n",
    "#         mock_obj.get.return_value = 19\n",
    "#         ret = get_student_age(mock_obj)\n",
    "#         print '---', ret\n",
    "         \n",
    "        \n",
    "# suite = unittest.TestLoader().loadTestsFromTestCase(Test_2)\n",
    "# unittest.TextTestRunner().run(suite)\n"
   ]
  },
  {
   "cell_type": "code",
   "execution_count": null,
   "metadata": {},
   "outputs": [],
   "source": []
  }
 ],
 "metadata": {
  "kernelspec": {
   "display_name": "Python 2",
   "language": "python",
   "name": "python2"
  },
  "language_info": {
   "codemirror_mode": {
    "name": "ipython",
    "version": 2
   },
   "file_extension": ".py",
   "mimetype": "text/x-python",
   "name": "python",
   "nbconvert_exporter": "python",
   "pygments_lexer": "ipython2",
   "version": "2.7.13"
  },
  "toc": {
   "base_numbering": 1,
   "nav_menu": {},
   "number_sections": true,
   "sideBar": true,
   "skip_h1_title": false,
   "title_cell": "Table of Contents",
   "title_sidebar": "Contents",
   "toc_cell": false,
   "toc_position": {},
   "toc_section_display": true,
   "toc_window_display": false
  }
 },
 "nbformat": 4,
 "nbformat_minor": 2
}
