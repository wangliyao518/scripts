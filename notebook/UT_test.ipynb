{
 "cells": [
  {
   "cell_type": "code",
   "execution_count": 11,
   "metadata": {},
   "outputs": [
    {
     "name": "stderr",
     "output_type": "stream",
     "text": [
      "."
     ]
    },
    {
     "name": "stdout",
     "output_type": "stream",
     "text": [
      "---- TL000_1222\n"
     ]
    },
    {
     "name": "stderr",
     "output_type": "stream",
     "text": [
      "\n",
      "----------------------------------------------------------------------\n",
      "Ran 1 test in 0.032s\n",
      "\n",
      "OK\n"
     ]
    },
    {
     "data": {
      "text/plain": [
       "<unittest.runner.TextTestResult run=1 errors=0 failures=0>"
      ]
     },
     "execution_count": 11,
     "metadata": {},
     "output_type": "execute_result"
    }
   ],
   "source": [
    "import unittest\n",
    "from mock import Mock\n",
    "\n",
    "class RunExecutorOnNode(object):\n",
    "\n",
    "    def __init__(self, executor, timeout):\n",
    "        super(RunExecutorOnNode, self).__init__()\n",
    "        self.executor = executor\n",
    "        self.timeout = timeout\n",
    "        self.build_no = self.executor.cmd_args['build_no']\n",
    "\n",
    "    def _create_command(self, tl_index):\n",
    "        print '----', self.build_no\n",
    "        pass\n",
    "\n",
    "class Test_1(unittest.TestCase):\n",
    "    def test_create_command(self):\n",
    "        exe_mock = Mock()\n",
    "        cmd_args_mock = {'build_no': 'TL000_1222'}\n",
    "        exe_mock.cmd_args = cmd_args_mock\n",
    "        executor = RunExecutorOnNode(exe_mock , 1)\n",
    "        executor._create_command(1)\n",
    "        \n",
    "suite = unittest.TestLoader().loadTestsFromTestCase(Test_1)\n",
    "unittest.TextTestRunner().run(suite)\n",
    "\n"
   ]
  },
  {
   "cell_type": "code",
   "execution_count": 4,
   "metadata": {},
   "outputs": [
    {
     "name": "stderr",
     "output_type": "stream",
     "text": [
      "E\n",
      "======================================================================\n",
      "ERROR: test_001 (__main__.Test_2)\n",
      "----------------------------------------------------------------------\n",
      "Traceback (most recent call last):\n",
      "  File \"<ipython-input-4-a06b082b0312>\", line 37, in test_001\n",
      "    ret = get_student_age(mock_obj)\n",
      "  File \"<ipython-input-4-a06b082b0312>\", line 20, in get_student_age\n",
      "    ret = re.match('young', stu_obj)\n",
      "  File \"c:\\python27\\lib\\re.py\", line 141, in match\n",
      "    return _compile(pattern, flags).match(string)\n",
      "TypeError: expected string or buffer\n",
      "\n",
      "----------------------------------------------------------------------\n",
      "Ran 1 test in 0.010s\n",
      "\n",
      "FAILED (errors=1)\n"
     ]
    },
    {
     "data": {
      "text/plain": [
       "<unittest.runner.TextTestResult run=1 errors=1 failures=0>"
      ]
     },
     "execution_count": 4,
     "metadata": {},
     "output_type": "execute_result"
    }
   ],
   "source": [
    "import re\n",
    "class Student(object):\n",
    "    \n",
    "    def __init__(self, age=20):\n",
    "        self.age = age\n",
    "    \n",
    "    def __str__(self):\n",
    "        if self.age > 18:\n",
    "            return \"old\"\n",
    "        else:\n",
    "            return 'young'\n",
    "\n",
    "    def get(self):\n",
    "        return self.age\n",
    "    \n",
    "\n",
    "\n",
    "\n",
    "def get_student_age(stu_obj):\n",
    "    ret = re.match('young', stu_obj)\n",
    "    print '=====', ret, stu_obj\n",
    "    return \"{} age is : {}\".format(stu_obj, stu_obj.get())\n",
    "    \n",
    "# s = Student(18)\n",
    "# ret = get_student_age(s)\n",
    "# print ret\n",
    "\n",
    "import unittest\n",
    "from mock import MagicMock\n",
    "\n",
    "\n",
    "class Test_2(unittest.TestCase):\n",
    "    def test_001(self):\n",
    "        mock_obj = MagicMock()\n",
    "        mock_obj.__str__.return_value = \"yes\"\n",
    "        mock_obj.get.return_value = 19\n",
    "        ret = get_student_age(mock_obj)\n",
    "        print '---', ret\n",
    "         \n",
    "        \n",
    "suite = unittest.TestLoader().loadTestsFromTestCase(Test_2)\n",
    "unittest.TextTestRunner().run(suite)\n"
   ]
  },
  {
   "cell_type": "code",
   "execution_count": 4,
   "metadata": {},
   "outputs": [
    {
     "ename": "ImportError",
     "evalue": "No module named ute_cloud_artifact_sdk.sdk",
     "output_type": "error",
     "traceback": [
      "\u001b[1;31m---------------------------------------------------------------------------\u001b[0m",
      "\u001b[1;31mImportError\u001b[0m                               Traceback (most recent call last)",
      "\u001b[1;32m<ipython-input-4-dc95d83b3128>\u001b[0m in \u001b[0;36m<module>\u001b[1;34m()\u001b[0m\n\u001b[0;32m      1\u001b[0m \u001b[1;32mimport\u001b[0m \u001b[0munittest\u001b[0m\u001b[1;33m\u001b[0m\u001b[0m\n\u001b[1;32m----> 2\u001b[1;33m \u001b[1;32mfrom\u001b[0m \u001b[0mute_cloud_artifact_sdk\u001b[0m\u001b[1;33m.\u001b[0m\u001b[0msdk\u001b[0m \u001b[1;32mimport\u001b[0m \u001b[0mCloudArtifactSDK\u001b[0m\u001b[1;33m\u001b[0m\u001b[0m\n\u001b[0m\u001b[0;32m      3\u001b[0m \u001b[1;32mfrom\u001b[0m \u001b[0mmock\u001b[0m \u001b[1;32mimport\u001b[0m \u001b[0mpatch\u001b[0m\u001b[1;33m,\u001b[0m \u001b[0mPropertyMock\u001b[0m\u001b[1;33m,\u001b[0m \u001b[0mMock\u001b[0m\u001b[1;33m,\u001b[0m \u001b[0mMagicMock\u001b[0m\u001b[1;33m\u001b[0m\u001b[0m\n\u001b[0;32m      4\u001b[0m \u001b[1;33m\u001b[0m\u001b[0m\n\u001b[0;32m      5\u001b[0m \u001b[1;31m#artifact = CloudArtifactSDK(token=self.TOKEN).artifact_list(name=enb_build)[0].to_dict()\u001b[0m\u001b[1;33m\u001b[0m\u001b[1;33m\u001b[0m\u001b[0m\n",
      "\u001b[1;31mImportError\u001b[0m: No module named ute_cloud_artifact_sdk.sdk"
     ]
    }
   ],
   "source": [
    "import unittest\n",
    "from ute_cloud_artifact_sdk.sdk import CloudArtifactSDK\n",
    "from mock import patch, PropertyMock, Mock, MagicMock\n",
    "\n",
    "#artifact = CloudArtifactSDK(token=self.TOKEN).artifact_list(name=enb_build)[0].to_dict()\n",
    "\n",
    "\n",
    "def my_fun():\n",
    "    artifact = CloudArtifactSDK(token=\"\").artifact_list(name=\"\")[0].to_dict()\n",
    "    return artifact, \"hello\"\n",
    "\n",
    "class my_mock(list):\n",
    "\n",
    "    def __new__(cls, *args, **kwargs):\n",
    "        return [cls, cls]#list.__new__(cls, *args, **kwargs)\n",
    "\n",
    "\n",
    "    def __init__(self, name):\n",
    "        #list.__init__([0])\n",
    "        pass\n",
    "\n",
    "    @classmethod\n",
    "    def to_dict(self):\n",
    "        return \"good!\"\n",
    "\n",
    "class TestSuit(unittest.TestCase):\n",
    "\n",
    "    #@patch(CloudArtifactSDK.artifact_list, 'to_dict')\n",
    "    #def test(self, mock_obj):\n",
    "    #    #mock_obj = MagicMock()\n",
    "    #    mock_obj=MagicMock(return_value='good') #return_value=\"good\"\n",
    "        #mock_instant = mock_obj\n",
    "        #mock_instant = my_mock\n",
    "        #mock_obj = Mock()\n",
    "        #CloudArtifactSDK.artifact_list = my_mock\n",
    "        #mock_instant=my_mock\n",
    "   #     ret = my_fun()\n",
    "   #     print '------', ret\n",
    "\n",
    "\n",
    "    @patch('__main__.CloudArtifactSDK.artifact_list', my_mock)\n",
    "    def test_00(self):\n",
    "        ret = my_fun()\n",
    "        print '++++', ret\n",
    "\n",
    "\n",
    "if __name__ == \"__main__\":\n",
    "    unittest.main()"
   ]
  },
  {
   "cell_type": "code",
   "execution_count": 13,
   "metadata": {},
   "outputs": [
    {
     "name": "stdout",
     "output_type": "stream",
     "text": [
      "['pybot', '-L', 'trace', 'test.robot']\n"
     ]
    }
   ],
   "source": [
    "import unittest\n",
    "from wrapt import decorator\n",
    "\n",
    "\n",
    "def for_each(elements):\n",
    "    \"\"\"Decroator dedicated for tests.\n",
    "    In bellow example decorator invokes \"test_it\" 3 times, with every item from list\n",
    "\n",
    "    @for_each([1, 3, 5])\n",
    "    def test_it(element): assert element == 5\n",
    "    \"\"\"\n",
    "\n",
    "    @decorator\n",
    "    def _wrapper(wrapped, instance, args, kwargs):\n",
    "        for element in elements:\n",
    "            wrapped(*(element,) + args, **kwargs)\n",
    "    return _wrapper\n",
    "\n",
    "class TestSuit(unittest.TestCase):\n",
    "    @for_each([1, 3, 5])\n",
    "    def test_it(slef, elements):\n",
    "        print elements\n",
    "        #assert elements == 5\n",
    "\n",
    "# suite = unittest.TestLoader().loadTestsFromTestCase(TestSuit)\n",
    "# unittest.TextTestRunner().run(suite)\n",
    "\n",
    "#@for_each([1, 3, 5])\n",
    "def test_it(element): print element\n",
    "\n",
    "for_each(['pybot -L trace test.robot'.split()])(test_it)()"
   ]
  },
  {
   "cell_type": "code",
   "execution_count": 14,
   "metadata": {},
   "outputs": [
    {
     "data": {
      "text/plain": [
       "[['pybot', '-L', 'trace', 'test.robot']]"
      ]
     },
     "execution_count": 14,
     "metadata": {},
     "output_type": "execute_result"
    }
   ],
   "source": [
    "['pybot -L trace test.robot'.split()]"
   ]
  },
  {
   "cell_type": "code",
   "execution_count": 10,
   "metadata": {},
   "outputs": [
    {
     "name": "stderr",
     "output_type": "stream",
     "text": [
      "..\n",
      "----------------------------------------------------------------------\n",
      "Ran 2 tests in 0.004s\n",
      "\n",
      "OK\n"
     ]
    },
    {
     "data": {
      "text/plain": [
       "<unittest.runner.TextTestResult run=2 errors=0 failures=0>"
      ]
     },
     "execution_count": 10,
     "metadata": {},
     "output_type": "execute_result"
    }
   ],
   "source": [
    "class NameIsProtected(Exception):\n",
    "    \"\"\"Exception raised when key is tried to be overridden.\"\"\"\n",
    "    \n",
    "class NameIsDuplicated(Exception):\n",
    "    \"\"\"Exception raised when key is tried to be overridden.\"\"\"\n",
    "\n",
    "def my_fun():\n",
    "    raise NameIsProtected\n",
    "\n",
    "import unittest\n",
    "from mock import Mock\n",
    "\n",
    "\n",
    "class Test_001(unittest.TestCase):\n",
    "    def test_01(self):\n",
    "        try:\n",
    "            my_fun()\n",
    "        except NameIsProtected:\n",
    "            self.assertTrue(True)\n",
    "        else:\n",
    "            self.assertTrue(False)\n",
    "\n",
    "    def test_02(self):\n",
    "        with self.assertRaises(NameIsProtected):\n",
    "            my_fun()\n",
    "        \n",
    "suite = unittest.TestLoader().loadTestsFromTestCase(Test_001)\n",
    "unittest.TextTestRunner().run(suite)\n",
    "    "
   ]
  },
  {
   "cell_type": "code",
   "execution_count": 6,
   "metadata": {},
   "outputs": [
    {
     "name": "stderr",
     "output_type": "stream",
     "text": [
      "No handlers could be found for logger \"__main__\"\n",
      "."
     ]
    },
    {
     "name": "stdout",
     "output_type": "stream",
     "text": [
      "---> list\n"
     ]
    },
    {
     "name": "stderr",
     "output_type": "stream",
     "text": [
      "\n",
      "----------------------------------------------------------------------\n",
      "Ran 1 test in 0.016s\n",
      "\n",
      "OK\n"
     ]
    },
    {
     "data": {
      "text/plain": [
       "<unittest.runner.TextTestResult run=1 errors=0 failures=0>"
      ]
     },
     "execution_count": 6,
     "metadata": {},
     "output_type": "execute_result"
    }
   ],
   "source": [
    "import logging\n",
    "import time\n",
    "from socket import socket, AF_INET, SOCK_STREAM\n",
    "\n",
    "\n",
    "class SocketConnect(object):\n",
    "\n",
    "    def __init__(self, ip, username, password, timeout=30):\n",
    "        \"\"\"init\n",
    "        \"\"\"\n",
    "        self._log = logging.getLogger(__name__)\n",
    "        self._log.setLevel(logging.DEBUG)\n",
    "        self.ip = ip\n",
    "        self.username = username\n",
    "        self.password = password\n",
    "        self.port = 18888\n",
    "        self.timeout = timeout\n",
    "        self.tcpCli = None\n",
    "\n",
    "    def connect_socket(self):\n",
    "        self.tcpCli = socket(AF_INET, SOCK_STREAM)\n",
    "        self.tcpCli.settimeout(self.timeout)\n",
    "        try:\n",
    "            self.tcpCli.connect((self.ip, self.port))\n",
    "        except Exception as e:\n",
    "            raise Exception(\"socket connect to {}:{} fail, {}.\".format(self.ip, self.port, e))\n",
    "\n",
    "    def send_command(self, command):\n",
    "        try:\n",
    "            self._log.debug(\"send command --> {}.\".format(command))\n",
    "            print \"--->\", command\n",
    "            self.tcpCli.send('{}\\r\\n'.format(command))\n",
    "        except Exception as e:\n",
    "            print \"=====\",e\n",
    "            self.close_socket()\n",
    "            raise Exception(e)\n",
    "\n",
    "    def receive_command(self):\n",
    "        try:\n",
    "            received = self.tcpCli.recv(1024)\n",
    "            self._log.debug(\"received <-- {}\".format(received))\n",
    "        except Exception as e:\n",
    "            self.close_socket()\n",
    "            raise Exception(e)\n",
    "\n",
    "    def close_socket(self):\n",
    "        self._log.debug(\"Close socket.\")\n",
    "        self.tcpCli.close()\n",
    "\n",
    "\n",
    "import unittest\n",
    "from mock import patch, Mock, create_autospec, call\n",
    "\n",
    "class TestConnectInterface(unittest.TestCase):\n",
    "\n",
    "    def test_3_send_command_with_pass(self,):\n",
    "        sock = SocketConnect(ip='1.2.3.4', username='user', password='passwd', timeout=1)\n",
    "        tcp_cli_mock = Mock()\n",
    "        #tcp_cli_mock.connect = Mock()\n",
    "        tcp_cli_mock.send = Mock()\n",
    "        sock.tcpCli = tcp_cli_mock  #socket(AF_INET, SOCK_STREAM)\n",
    "        #sock.tcpCli.connect = Mock()\n",
    "        # sock.tcpCli.send = Mock()\n",
    "        sock.send_command('list')\n",
    "        #socket_mock.send.assert_called_once_with('list\\r\\n')\n",
    "        tcp_cli_mock.send.assert_called_once_with('list\\r\\n')\n",
    "suite = unittest.TestLoader().loadTestsFromTestCase(TestConnectInterface)\n",
    "unittest.TextTestRunner().run(suite)\n"
   ]
  },
  {
   "cell_type": "code",
   "execution_count": null,
   "metadata": {},
   "outputs": [],
   "source": []
  }
 ],
 "metadata": {
  "kernelspec": {
   "display_name": "Python 2",
   "language": "python",
   "name": "python2"
  },
  "language_info": {
   "codemirror_mode": {
    "name": "ipython",
    "version": 2
   },
   "file_extension": ".py",
   "mimetype": "text/x-python",
   "name": "python",
   "nbconvert_exporter": "python",
   "pygments_lexer": "ipython2",
   "version": "2.7.13"
  },
  "toc": {
   "base_numbering": 1,
   "nav_menu": {},
   "number_sections": true,
   "sideBar": true,
   "skip_h1_title": false,
   "title_cell": "Table of Contents",
   "title_sidebar": "Contents",
   "toc_cell": false,
   "toc_position": {},
   "toc_section_display": true,
   "toc_window_display": false
  }
 },
 "nbformat": 4,
 "nbformat_minor": 2
}
